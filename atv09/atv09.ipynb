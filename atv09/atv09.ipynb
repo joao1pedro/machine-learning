{
    "cells": [
        {
            "cell_type": "markdown",
            "source": [
                "### Resolva o problema de classificação binária sobre o dataset \"[Pima Indians Diabetes Database](https://data.world/data-society/pima-indians-diabetes-database) ([link alternativo no Kaggle](https://www.kaggle.com/uciml/pima-indians-diabetes-database))\".\n",
                "\n",
                "1. Separe os dados em **treino (80%)** e **teste (20%)**.\n",
                "2. Crie e avalie modelos usando kNN, Logistic Regression, SVM e Naive Bayes. Aplique um **Grid Search com Validação Cruzada (CV)** com k=5 no k-Fold sobre o conjunto de treino. A métrica de avaliação usada deve ser a métrica **F1-Score**. Teste diferentes hiperparâmetros. Escolha o melhor algoritmo e hiperparâmetros baseado no Grid Search.\n",
                "3. Treine um novo modelo usando o melhor resultado do Grid Search sobre todos os dados de treino (80% do dataset).\n",
                "4. Avalie o modelo usando a métrica F1-Score sobre os dados de teste.\n",
                "5. Desenhe as **regiões de decisão** em 2D. As regiões devem se basear nos dados de treino (80% do dataset). O gráfico deve mostrar os dados de teste (20% do dataset). Dica:\n",
                "transforme as features em 2D usando a técnica PCA (Principal Component\n",
                "Analysis), conforme mostramos em aula e no Jupyter Notebook que\n",
                "disponibilizamos."
            ],
            "metadata": {}
        },
        {
            "cell_type": "code",
            "execution_count": 34,
            "source": [
                "import numpy as np\n",
                "import pandas as pd\n",
                "import matplotlib.pyplot as plt\n",
                "from sklearn.neighbors import KNeighborsClassifier\n",
                "from sklearn.model_selection import train_test_split\n",
                "from sklearn.naive_bayes import GaussianNB \n",
                "from sklearn.svm import SVC\n",
                "from sklearn.model_selection import KFold\n",
                "from sklearn.metrics import f1_score\n",
                "from sklearn.linear_model import LogisticRegression\n",
                "from sklearn.model_selection import GridSearchCV\n",
                "from sklearn.decomposition import PCA\n",
                "from mlxtend.plotting import plot_decision_regions\n",
                "from sklearn.preprocessing import StandardScaler\n"
            ],
            "outputs": [],
            "metadata": {}
        },
        {
            "cell_type": "markdown",
            "source": [
                "### Carregando dataset\n"
            ],
            "metadata": {}
        },
        {
            "cell_type": "code",
            "execution_count": 35,
            "source": [
                "df = pd.read_csv(\"diabetes.csv\")\n",
                "df.head()"
            ],
            "outputs": [
                {
                    "output_type": "execute_result",
                    "data": {
                        "text/plain": [
                            "   Pregnancies  Glucose  BloodPressure  SkinThickness  Insulin   BMI  \\\n",
                            "0            6      148             72             35        0  33.6   \n",
                            "1            1       85             66             29        0  26.6   \n",
                            "2            8      183             64              0        0  23.3   \n",
                            "3            1       89             66             23       94  28.1   \n",
                            "4            0      137             40             35      168  43.1   \n",
                            "\n",
                            "   DiabetesPedigreeFunction  Age  Outcome  \n",
                            "0                     0.627   50        1  \n",
                            "1                     0.351   31        0  \n",
                            "2                     0.672   32        1  \n",
                            "3                     0.167   21        0  \n",
                            "4                     2.288   33        1  "
                        ],
                        "text/html": [
                            "<div>\n",
                            "<style scoped>\n",
                            "    .dataframe tbody tr th:only-of-type {\n",
                            "        vertical-align: middle;\n",
                            "    }\n",
                            "\n",
                            "    .dataframe tbody tr th {\n",
                            "        vertical-align: top;\n",
                            "    }\n",
                            "\n",
                            "    .dataframe thead th {\n",
                            "        text-align: right;\n",
                            "    }\n",
                            "</style>\n",
                            "<table border=\"1\" class=\"dataframe\">\n",
                            "  <thead>\n",
                            "    <tr style=\"text-align: right;\">\n",
                            "      <th></th>\n",
                            "      <th>Pregnancies</th>\n",
                            "      <th>Glucose</th>\n",
                            "      <th>BloodPressure</th>\n",
                            "      <th>SkinThickness</th>\n",
                            "      <th>Insulin</th>\n",
                            "      <th>BMI</th>\n",
                            "      <th>DiabetesPedigreeFunction</th>\n",
                            "      <th>Age</th>\n",
                            "      <th>Outcome</th>\n",
                            "    </tr>\n",
                            "  </thead>\n",
                            "  <tbody>\n",
                            "    <tr>\n",
                            "      <th>0</th>\n",
                            "      <td>6</td>\n",
                            "      <td>148</td>\n",
                            "      <td>72</td>\n",
                            "      <td>35</td>\n",
                            "      <td>0</td>\n",
                            "      <td>33.6</td>\n",
                            "      <td>0.627</td>\n",
                            "      <td>50</td>\n",
                            "      <td>1</td>\n",
                            "    </tr>\n",
                            "    <tr>\n",
                            "      <th>1</th>\n",
                            "      <td>1</td>\n",
                            "      <td>85</td>\n",
                            "      <td>66</td>\n",
                            "      <td>29</td>\n",
                            "      <td>0</td>\n",
                            "      <td>26.6</td>\n",
                            "      <td>0.351</td>\n",
                            "      <td>31</td>\n",
                            "      <td>0</td>\n",
                            "    </tr>\n",
                            "    <tr>\n",
                            "      <th>2</th>\n",
                            "      <td>8</td>\n",
                            "      <td>183</td>\n",
                            "      <td>64</td>\n",
                            "      <td>0</td>\n",
                            "      <td>0</td>\n",
                            "      <td>23.3</td>\n",
                            "      <td>0.672</td>\n",
                            "      <td>32</td>\n",
                            "      <td>1</td>\n",
                            "    </tr>\n",
                            "    <tr>\n",
                            "      <th>3</th>\n",
                            "      <td>1</td>\n",
                            "      <td>89</td>\n",
                            "      <td>66</td>\n",
                            "      <td>23</td>\n",
                            "      <td>94</td>\n",
                            "      <td>28.1</td>\n",
                            "      <td>0.167</td>\n",
                            "      <td>21</td>\n",
                            "      <td>0</td>\n",
                            "    </tr>\n",
                            "    <tr>\n",
                            "      <th>4</th>\n",
                            "      <td>0</td>\n",
                            "      <td>137</td>\n",
                            "      <td>40</td>\n",
                            "      <td>35</td>\n",
                            "      <td>168</td>\n",
                            "      <td>43.1</td>\n",
                            "      <td>2.288</td>\n",
                            "      <td>33</td>\n",
                            "      <td>1</td>\n",
                            "    </tr>\n",
                            "  </tbody>\n",
                            "</table>\n",
                            "</div>"
                        ]
                    },
                    "metadata": {},
                    "execution_count": 35
                }
            ],
            "metadata": {}
        },
        {
            "cell_type": "markdown",
            "source": [
                "### Split dos dados em treino e teste"
            ],
            "metadata": {}
        },
        {
            "cell_type": "code",
            "execution_count": 36,
            "source": [
                "X = df.drop(['Outcome'],axis=1).values\n",
                "y = df['Outcome'].values\n",
                "\n",
                "X_train, X_test, y_train, y_test = train_test_split(X, y, test_size=0.2, random_state=42, stratify=y)"
            ],
            "outputs": [],
            "metadata": {}
        },
        {
            "cell_type": "markdown",
            "source": [
                "## Kfold = 5"
            ],
            "metadata": {}
        },
        {
            "cell_type": "code",
            "execution_count": 37,
            "source": [
                "cv = KFold(n_splits=5, shuffle=True, random_state=42)\n"
            ],
            "outputs": [],
            "metadata": {}
        },
        {
            "cell_type": "markdown",
            "source": [
                "## Knn"
            ],
            "metadata": {}
        },
        {
            "cell_type": "code",
            "execution_count": 38,
            "source": [
                "ks = [3,5,7,9,11,13,15]\n",
                "parameters = {'n_neighbors': ks}\n",
                "model_knn = KNeighborsClassifier()\n",
                "clf_knn = GridSearchCV(model_knn, parameters, cv=cv)\n",
                "clf_knn.fit(X_train, y_train)\n",
                "y_pred = clf_knn.predict(X_test)\n",
                "print(clf_knn.best_estimator_)\n",
                "f1_score(y_test, y_pred)"
            ],
            "outputs": [
                {
                    "output_type": "stream",
                    "name": "stdout",
                    "text": [
                        "KNeighborsClassifier(n_neighbors=9)\n"
                    ]
                },
                {
                    "output_type": "execute_result",
                    "data": {
                        "text/plain": [
                            "0.5294117647058824"
                        ]
                    },
                    "metadata": {},
                    "execution_count": 38
                }
            ],
            "metadata": {}
        },
        {
            "cell_type": "markdown",
            "source": [
                "## Logistic Regression"
            ],
            "metadata": {}
        },
        {
            "cell_type": "code",
            "execution_count": 39,
            "source": [
                "pen = ['l1', 'l2']\n",
                "Cs = [0.001, 0.01, 0.1, 1, 10, 100, 1000]\n",
                "parameters={'C': Cs, 'penalty':pen, 'max_iter':[1000]}\n",
                "model_lr = LogisticRegression()\n",
                "clf_lr = GridSearchCV(model_lr, parameters, cv=cv)\n",
                "clf_lr.fit(X_train, y_train)\n",
                "y_pred = clf_lr.predict(X_test)\n",
                "print(clf_lr.best_estimator_)\n",
                "f1_score(y_test, y_pred)\n"
            ],
            "outputs": [
                {
                    "output_type": "stream",
                    "name": "stderr",
                    "text": [
                        "/home/joao/.local/lib/python3.9/site-packages/sklearn/model_selection/_validation.py:615: FitFailedWarning: Estimator fit failed. The score on this train-test partition for these parameters will be set to nan. Details: \n",
                        "Traceback (most recent call last):\n",
                        "  File \"/home/joao/.local/lib/python3.9/site-packages/sklearn/model_selection/_validation.py\", line 598, in _fit_and_score\n",
                        "    estimator.fit(X_train, y_train, **fit_params)\n",
                        "  File \"/home/joao/.local/lib/python3.9/site-packages/sklearn/linear_model/_logistic.py\", line 1306, in fit\n",
                        "    solver = _check_solver(self.solver, self.penalty, self.dual)\n",
                        "  File \"/home/joao/.local/lib/python3.9/site-packages/sklearn/linear_model/_logistic.py\", line 443, in _check_solver\n",
                        "    raise ValueError(\"Solver %s supports only 'l2' or 'none' penalties, \"\n",
                        "ValueError: Solver lbfgs supports only 'l2' or 'none' penalties, got l1 penalty.\n",
                        "\n",
                        "  warnings.warn(\"Estimator fit failed. The score on this train-test\"\n",
                        "/home/joao/.local/lib/python3.9/site-packages/sklearn/model_selection/_validation.py:615: FitFailedWarning: Estimator fit failed. The score on this train-test partition for these parameters will be set to nan. Details: \n",
                        "Traceback (most recent call last):\n",
                        "  File \"/home/joao/.local/lib/python3.9/site-packages/sklearn/model_selection/_validation.py\", line 598, in _fit_and_score\n",
                        "    estimator.fit(X_train, y_train, **fit_params)\n",
                        "  File \"/home/joao/.local/lib/python3.9/site-packages/sklearn/linear_model/_logistic.py\", line 1306, in fit\n",
                        "    solver = _check_solver(self.solver, self.penalty, self.dual)\n",
                        "  File \"/home/joao/.local/lib/python3.9/site-packages/sklearn/linear_model/_logistic.py\", line 443, in _check_solver\n",
                        "    raise ValueError(\"Solver %s supports only 'l2' or 'none' penalties, \"\n",
                        "ValueError: Solver lbfgs supports only 'l2' or 'none' penalties, got l1 penalty.\n",
                        "\n",
                        "  warnings.warn(\"Estimator fit failed. The score on this train-test\"\n",
                        "/home/joao/.local/lib/python3.9/site-packages/sklearn/model_selection/_validation.py:615: FitFailedWarning: Estimator fit failed. The score on this train-test partition for these parameters will be set to nan. Details: \n",
                        "Traceback (most recent call last):\n",
                        "  File \"/home/joao/.local/lib/python3.9/site-packages/sklearn/model_selection/_validation.py\", line 598, in _fit_and_score\n",
                        "    estimator.fit(X_train, y_train, **fit_params)\n",
                        "  File \"/home/joao/.local/lib/python3.9/site-packages/sklearn/linear_model/_logistic.py\", line 1306, in fit\n",
                        "    solver = _check_solver(self.solver, self.penalty, self.dual)\n",
                        "  File \"/home/joao/.local/lib/python3.9/site-packages/sklearn/linear_model/_logistic.py\", line 443, in _check_solver\n",
                        "    raise ValueError(\"Solver %s supports only 'l2' or 'none' penalties, \"\n",
                        "ValueError: Solver lbfgs supports only 'l2' or 'none' penalties, got l1 penalty.\n",
                        "\n",
                        "  warnings.warn(\"Estimator fit failed. The score on this train-test\"\n",
                        "/home/joao/.local/lib/python3.9/site-packages/sklearn/model_selection/_validation.py:615: FitFailedWarning: Estimator fit failed. The score on this train-test partition for these parameters will be set to nan. Details: \n",
                        "Traceback (most recent call last):\n",
                        "  File \"/home/joao/.local/lib/python3.9/site-packages/sklearn/model_selection/_validation.py\", line 598, in _fit_and_score\n",
                        "    estimator.fit(X_train, y_train, **fit_params)\n",
                        "  File \"/home/joao/.local/lib/python3.9/site-packages/sklearn/linear_model/_logistic.py\", line 1306, in fit\n",
                        "    solver = _check_solver(self.solver, self.penalty, self.dual)\n",
                        "  File \"/home/joao/.local/lib/python3.9/site-packages/sklearn/linear_model/_logistic.py\", line 443, in _check_solver\n",
                        "    raise ValueError(\"Solver %s supports only 'l2' or 'none' penalties, \"\n",
                        "ValueError: Solver lbfgs supports only 'l2' or 'none' penalties, got l1 penalty.\n",
                        "\n",
                        "  warnings.warn(\"Estimator fit failed. The score on this train-test\"\n",
                        "/home/joao/.local/lib/python3.9/site-packages/sklearn/model_selection/_validation.py:615: FitFailedWarning: Estimator fit failed. The score on this train-test partition for these parameters will be set to nan. Details: \n",
                        "Traceback (most recent call last):\n",
                        "  File \"/home/joao/.local/lib/python3.9/site-packages/sklearn/model_selection/_validation.py\", line 598, in _fit_and_score\n",
                        "    estimator.fit(X_train, y_train, **fit_params)\n",
                        "  File \"/home/joao/.local/lib/python3.9/site-packages/sklearn/linear_model/_logistic.py\", line 1306, in fit\n",
                        "    solver = _check_solver(self.solver, self.penalty, self.dual)\n",
                        "  File \"/home/joao/.local/lib/python3.9/site-packages/sklearn/linear_model/_logistic.py\", line 443, in _check_solver\n",
                        "    raise ValueError(\"Solver %s supports only 'l2' or 'none' penalties, \"\n",
                        "ValueError: Solver lbfgs supports only 'l2' or 'none' penalties, got l1 penalty.\n",
                        "\n",
                        "  warnings.warn(\"Estimator fit failed. The score on this train-test\"\n",
                        "/home/joao/.local/lib/python3.9/site-packages/sklearn/model_selection/_validation.py:615: FitFailedWarning: Estimator fit failed. The score on this train-test partition for these parameters will be set to nan. Details: \n",
                        "Traceback (most recent call last):\n",
                        "  File \"/home/joao/.local/lib/python3.9/site-packages/sklearn/model_selection/_validation.py\", line 598, in _fit_and_score\n",
                        "    estimator.fit(X_train, y_train, **fit_params)\n",
                        "  File \"/home/joao/.local/lib/python3.9/site-packages/sklearn/linear_model/_logistic.py\", line 1306, in fit\n",
                        "    solver = _check_solver(self.solver, self.penalty, self.dual)\n",
                        "  File \"/home/joao/.local/lib/python3.9/site-packages/sklearn/linear_model/_logistic.py\", line 443, in _check_solver\n",
                        "    raise ValueError(\"Solver %s supports only 'l2' or 'none' penalties, \"\n",
                        "ValueError: Solver lbfgs supports only 'l2' or 'none' penalties, got l1 penalty.\n",
                        "\n",
                        "  warnings.warn(\"Estimator fit failed. The score on this train-test\"\n",
                        "/home/joao/.local/lib/python3.9/site-packages/sklearn/model_selection/_validation.py:615: FitFailedWarning: Estimator fit failed. The score on this train-test partition for these parameters will be set to nan. Details: \n",
                        "Traceback (most recent call last):\n",
                        "  File \"/home/joao/.local/lib/python3.9/site-packages/sklearn/model_selection/_validation.py\", line 598, in _fit_and_score\n",
                        "    estimator.fit(X_train, y_train, **fit_params)\n",
                        "  File \"/home/joao/.local/lib/python3.9/site-packages/sklearn/linear_model/_logistic.py\", line 1306, in fit\n",
                        "    solver = _check_solver(self.solver, self.penalty, self.dual)\n",
                        "  File \"/home/joao/.local/lib/python3.9/site-packages/sklearn/linear_model/_logistic.py\", line 443, in _check_solver\n",
                        "    raise ValueError(\"Solver %s supports only 'l2' or 'none' penalties, \"\n",
                        "ValueError: Solver lbfgs supports only 'l2' or 'none' penalties, got l1 penalty.\n",
                        "\n",
                        "  warnings.warn(\"Estimator fit failed. The score on this train-test\"\n",
                        "/home/joao/.local/lib/python3.9/site-packages/sklearn/model_selection/_validation.py:615: FitFailedWarning: Estimator fit failed. The score on this train-test partition for these parameters will be set to nan. Details: \n",
                        "Traceback (most recent call last):\n",
                        "  File \"/home/joao/.local/lib/python3.9/site-packages/sklearn/model_selection/_validation.py\", line 598, in _fit_and_score\n",
                        "    estimator.fit(X_train, y_train, **fit_params)\n",
                        "  File \"/home/joao/.local/lib/python3.9/site-packages/sklearn/linear_model/_logistic.py\", line 1306, in fit\n",
                        "    solver = _check_solver(self.solver, self.penalty, self.dual)\n",
                        "  File \"/home/joao/.local/lib/python3.9/site-packages/sklearn/linear_model/_logistic.py\", line 443, in _check_solver\n",
                        "    raise ValueError(\"Solver %s supports only 'l2' or 'none' penalties, \"\n",
                        "ValueError: Solver lbfgs supports only 'l2' or 'none' penalties, got l1 penalty.\n",
                        "\n",
                        "  warnings.warn(\"Estimator fit failed. The score on this train-test\"\n",
                        "/home/joao/.local/lib/python3.9/site-packages/sklearn/model_selection/_validation.py:615: FitFailedWarning: Estimator fit failed. The score on this train-test partition for these parameters will be set to nan. Details: \n",
                        "Traceback (most recent call last):\n",
                        "  File \"/home/joao/.local/lib/python3.9/site-packages/sklearn/model_selection/_validation.py\", line 598, in _fit_and_score\n",
                        "    estimator.fit(X_train, y_train, **fit_params)\n",
                        "  File \"/home/joao/.local/lib/python3.9/site-packages/sklearn/linear_model/_logistic.py\", line 1306, in fit\n",
                        "    solver = _check_solver(self.solver, self.penalty, self.dual)\n",
                        "  File \"/home/joao/.local/lib/python3.9/site-packages/sklearn/linear_model/_logistic.py\", line 443, in _check_solver\n",
                        "    raise ValueError(\"Solver %s supports only 'l2' or 'none' penalties, \"\n",
                        "ValueError: Solver lbfgs supports only 'l2' or 'none' penalties, got l1 penalty.\n",
                        "\n",
                        "  warnings.warn(\"Estimator fit failed. The score on this train-test\"\n",
                        "/home/joao/.local/lib/python3.9/site-packages/sklearn/model_selection/_validation.py:615: FitFailedWarning: Estimator fit failed. The score on this train-test partition for these parameters will be set to nan. Details: \n",
                        "Traceback (most recent call last):\n",
                        "  File \"/home/joao/.local/lib/python3.9/site-packages/sklearn/model_selection/_validation.py\", line 598, in _fit_and_score\n",
                        "    estimator.fit(X_train, y_train, **fit_params)\n",
                        "  File \"/home/joao/.local/lib/python3.9/site-packages/sklearn/linear_model/_logistic.py\", line 1306, in fit\n",
                        "    solver = _check_solver(self.solver, self.penalty, self.dual)\n",
                        "  File \"/home/joao/.local/lib/python3.9/site-packages/sklearn/linear_model/_logistic.py\", line 443, in _check_solver\n",
                        "    raise ValueError(\"Solver %s supports only 'l2' or 'none' penalties, \"\n",
                        "ValueError: Solver lbfgs supports only 'l2' or 'none' penalties, got l1 penalty.\n",
                        "\n",
                        "  warnings.warn(\"Estimator fit failed. The score on this train-test\"\n",
                        "/home/joao/.local/lib/python3.9/site-packages/sklearn/model_selection/_validation.py:615: FitFailedWarning: Estimator fit failed. The score on this train-test partition for these parameters will be set to nan. Details: \n",
                        "Traceback (most recent call last):\n",
                        "  File \"/home/joao/.local/lib/python3.9/site-packages/sklearn/model_selection/_validation.py\", line 598, in _fit_and_score\n",
                        "    estimator.fit(X_train, y_train, **fit_params)\n",
                        "  File \"/home/joao/.local/lib/python3.9/site-packages/sklearn/linear_model/_logistic.py\", line 1306, in fit\n",
                        "    solver = _check_solver(self.solver, self.penalty, self.dual)\n",
                        "  File \"/home/joao/.local/lib/python3.9/site-packages/sklearn/linear_model/_logistic.py\", line 443, in _check_solver\n",
                        "    raise ValueError(\"Solver %s supports only 'l2' or 'none' penalties, \"\n",
                        "ValueError: Solver lbfgs supports only 'l2' or 'none' penalties, got l1 penalty.\n",
                        "\n",
                        "  warnings.warn(\"Estimator fit failed. The score on this train-test\"\n",
                        "/home/joao/.local/lib/python3.9/site-packages/sklearn/model_selection/_validation.py:615: FitFailedWarning: Estimator fit failed. The score on this train-test partition for these parameters will be set to nan. Details: \n",
                        "Traceback (most recent call last):\n",
                        "  File \"/home/joao/.local/lib/python3.9/site-packages/sklearn/model_selection/_validation.py\", line 598, in _fit_and_score\n",
                        "    estimator.fit(X_train, y_train, **fit_params)\n",
                        "  File \"/home/joao/.local/lib/python3.9/site-packages/sklearn/linear_model/_logistic.py\", line 1306, in fit\n",
                        "    solver = _check_solver(self.solver, self.penalty, self.dual)\n",
                        "  File \"/home/joao/.local/lib/python3.9/site-packages/sklearn/linear_model/_logistic.py\", line 443, in _check_solver\n",
                        "    raise ValueError(\"Solver %s supports only 'l2' or 'none' penalties, \"\n",
                        "ValueError: Solver lbfgs supports only 'l2' or 'none' penalties, got l1 penalty.\n",
                        "\n",
                        "  warnings.warn(\"Estimator fit failed. The score on this train-test\"\n",
                        "/home/joao/.local/lib/python3.9/site-packages/sklearn/model_selection/_validation.py:615: FitFailedWarning: Estimator fit failed. The score on this train-test partition for these parameters will be set to nan. Details: \n",
                        "Traceback (most recent call last):\n",
                        "  File \"/home/joao/.local/lib/python3.9/site-packages/sklearn/model_selection/_validation.py\", line 598, in _fit_and_score\n",
                        "    estimator.fit(X_train, y_train, **fit_params)\n",
                        "  File \"/home/joao/.local/lib/python3.9/site-packages/sklearn/linear_model/_logistic.py\", line 1306, in fit\n",
                        "    solver = _check_solver(self.solver, self.penalty, self.dual)\n",
                        "  File \"/home/joao/.local/lib/python3.9/site-packages/sklearn/linear_model/_logistic.py\", line 443, in _check_solver\n",
                        "    raise ValueError(\"Solver %s supports only 'l2' or 'none' penalties, \"\n",
                        "ValueError: Solver lbfgs supports only 'l2' or 'none' penalties, got l1 penalty.\n",
                        "\n",
                        "  warnings.warn(\"Estimator fit failed. The score on this train-test\"\n",
                        "/home/joao/.local/lib/python3.9/site-packages/sklearn/model_selection/_validation.py:615: FitFailedWarning: Estimator fit failed. The score on this train-test partition for these parameters will be set to nan. Details: \n",
                        "Traceback (most recent call last):\n",
                        "  File \"/home/joao/.local/lib/python3.9/site-packages/sklearn/model_selection/_validation.py\", line 598, in _fit_and_score\n",
                        "    estimator.fit(X_train, y_train, **fit_params)\n",
                        "  File \"/home/joao/.local/lib/python3.9/site-packages/sklearn/linear_model/_logistic.py\", line 1306, in fit\n",
                        "    solver = _check_solver(self.solver, self.penalty, self.dual)\n",
                        "  File \"/home/joao/.local/lib/python3.9/site-packages/sklearn/linear_model/_logistic.py\", line 443, in _check_solver\n",
                        "    raise ValueError(\"Solver %s supports only 'l2' or 'none' penalties, \"\n",
                        "ValueError: Solver lbfgs supports only 'l2' or 'none' penalties, got l1 penalty.\n",
                        "\n",
                        "  warnings.warn(\"Estimator fit failed. The score on this train-test\"\n",
                        "/home/joao/.local/lib/python3.9/site-packages/sklearn/model_selection/_validation.py:615: FitFailedWarning: Estimator fit failed. The score on this train-test partition for these parameters will be set to nan. Details: \n",
                        "Traceback (most recent call last):\n",
                        "  File \"/home/joao/.local/lib/python3.9/site-packages/sklearn/model_selection/_validation.py\", line 598, in _fit_and_score\n",
                        "    estimator.fit(X_train, y_train, **fit_params)\n",
                        "  File \"/home/joao/.local/lib/python3.9/site-packages/sklearn/linear_model/_logistic.py\", line 1306, in fit\n",
                        "    solver = _check_solver(self.solver, self.penalty, self.dual)\n",
                        "  File \"/home/joao/.local/lib/python3.9/site-packages/sklearn/linear_model/_logistic.py\", line 443, in _check_solver\n",
                        "    raise ValueError(\"Solver %s supports only 'l2' or 'none' penalties, \"\n",
                        "ValueError: Solver lbfgs supports only 'l2' or 'none' penalties, got l1 penalty.\n",
                        "\n",
                        "  warnings.warn(\"Estimator fit failed. The score on this train-test\"\n",
                        "/home/joao/.local/lib/python3.9/site-packages/sklearn/model_selection/_validation.py:615: FitFailedWarning: Estimator fit failed. The score on this train-test partition for these parameters will be set to nan. Details: \n",
                        "Traceback (most recent call last):\n",
                        "  File \"/home/joao/.local/lib/python3.9/site-packages/sklearn/model_selection/_validation.py\", line 598, in _fit_and_score\n",
                        "    estimator.fit(X_train, y_train, **fit_params)\n",
                        "  File \"/home/joao/.local/lib/python3.9/site-packages/sklearn/linear_model/_logistic.py\", line 1306, in fit\n",
                        "    solver = _check_solver(self.solver, self.penalty, self.dual)\n",
                        "  File \"/home/joao/.local/lib/python3.9/site-packages/sklearn/linear_model/_logistic.py\", line 443, in _check_solver\n",
                        "    raise ValueError(\"Solver %s supports only 'l2' or 'none' penalties, \"\n",
                        "ValueError: Solver lbfgs supports only 'l2' or 'none' penalties, got l1 penalty.\n",
                        "\n",
                        "  warnings.warn(\"Estimator fit failed. The score on this train-test\"\n",
                        "/home/joao/.local/lib/python3.9/site-packages/sklearn/model_selection/_validation.py:615: FitFailedWarning: Estimator fit failed. The score on this train-test partition for these parameters will be set to nan. Details: \n",
                        "Traceback (most recent call last):\n",
                        "  File \"/home/joao/.local/lib/python3.9/site-packages/sklearn/model_selection/_validation.py\", line 598, in _fit_and_score\n",
                        "    estimator.fit(X_train, y_train, **fit_params)\n",
                        "  File \"/home/joao/.local/lib/python3.9/site-packages/sklearn/linear_model/_logistic.py\", line 1306, in fit\n",
                        "    solver = _check_solver(self.solver, self.penalty, self.dual)\n",
                        "  File \"/home/joao/.local/lib/python3.9/site-packages/sklearn/linear_model/_logistic.py\", line 443, in _check_solver\n",
                        "    raise ValueError(\"Solver %s supports only 'l2' or 'none' penalties, \"\n",
                        "ValueError: Solver lbfgs supports only 'l2' or 'none' penalties, got l1 penalty.\n",
                        "\n",
                        "  warnings.warn(\"Estimator fit failed. The score on this train-test\"\n",
                        "/home/joao/.local/lib/python3.9/site-packages/sklearn/model_selection/_validation.py:615: FitFailedWarning: Estimator fit failed. The score on this train-test partition for these parameters will be set to nan. Details: \n",
                        "Traceback (most recent call last):\n",
                        "  File \"/home/joao/.local/lib/python3.9/site-packages/sklearn/model_selection/_validation.py\", line 598, in _fit_and_score\n",
                        "    estimator.fit(X_train, y_train, **fit_params)\n",
                        "  File \"/home/joao/.local/lib/python3.9/site-packages/sklearn/linear_model/_logistic.py\", line 1306, in fit\n",
                        "    solver = _check_solver(self.solver, self.penalty, self.dual)\n",
                        "  File \"/home/joao/.local/lib/python3.9/site-packages/sklearn/linear_model/_logistic.py\", line 443, in _check_solver\n",
                        "    raise ValueError(\"Solver %s supports only 'l2' or 'none' penalties, \"\n",
                        "ValueError: Solver lbfgs supports only 'l2' or 'none' penalties, got l1 penalty.\n",
                        "\n",
                        "  warnings.warn(\"Estimator fit failed. The score on this train-test\"\n",
                        "/home/joao/.local/lib/python3.9/site-packages/sklearn/model_selection/_validation.py:615: FitFailedWarning: Estimator fit failed. The score on this train-test partition for these parameters will be set to nan. Details: \n",
                        "Traceback (most recent call last):\n",
                        "  File \"/home/joao/.local/lib/python3.9/site-packages/sklearn/model_selection/_validation.py\", line 598, in _fit_and_score\n",
                        "    estimator.fit(X_train, y_train, **fit_params)\n",
                        "  File \"/home/joao/.local/lib/python3.9/site-packages/sklearn/linear_model/_logistic.py\", line 1306, in fit\n",
                        "    solver = _check_solver(self.solver, self.penalty, self.dual)\n",
                        "  File \"/home/joao/.local/lib/python3.9/site-packages/sklearn/linear_model/_logistic.py\", line 443, in _check_solver\n",
                        "    raise ValueError(\"Solver %s supports only 'l2' or 'none' penalties, \"\n",
                        "ValueError: Solver lbfgs supports only 'l2' or 'none' penalties, got l1 penalty.\n",
                        "\n",
                        "  warnings.warn(\"Estimator fit failed. The score on this train-test\"\n",
                        "/home/joao/.local/lib/python3.9/site-packages/sklearn/model_selection/_validation.py:615: FitFailedWarning: Estimator fit failed. The score on this train-test partition for these parameters will be set to nan. Details: \n",
                        "Traceback (most recent call last):\n",
                        "  File \"/home/joao/.local/lib/python3.9/site-packages/sklearn/model_selection/_validation.py\", line 598, in _fit_and_score\n",
                        "    estimator.fit(X_train, y_train, **fit_params)\n",
                        "  File \"/home/joao/.local/lib/python3.9/site-packages/sklearn/linear_model/_logistic.py\", line 1306, in fit\n",
                        "    solver = _check_solver(self.solver, self.penalty, self.dual)\n",
                        "  File \"/home/joao/.local/lib/python3.9/site-packages/sklearn/linear_model/_logistic.py\", line 443, in _check_solver\n",
                        "    raise ValueError(\"Solver %s supports only 'l2' or 'none' penalties, \"\n",
                        "ValueError: Solver lbfgs supports only 'l2' or 'none' penalties, got l1 penalty.\n",
                        "\n",
                        "  warnings.warn(\"Estimator fit failed. The score on this train-test\"\n",
                        "/home/joao/.local/lib/python3.9/site-packages/sklearn/model_selection/_validation.py:615: FitFailedWarning: Estimator fit failed. The score on this train-test partition for these parameters will be set to nan. Details: \n",
                        "Traceback (most recent call last):\n",
                        "  File \"/home/joao/.local/lib/python3.9/site-packages/sklearn/model_selection/_validation.py\", line 598, in _fit_and_score\n",
                        "    estimator.fit(X_train, y_train, **fit_params)\n",
                        "  File \"/home/joao/.local/lib/python3.9/site-packages/sklearn/linear_model/_logistic.py\", line 1306, in fit\n",
                        "    solver = _check_solver(self.solver, self.penalty, self.dual)\n",
                        "  File \"/home/joao/.local/lib/python3.9/site-packages/sklearn/linear_model/_logistic.py\", line 443, in _check_solver\n",
                        "    raise ValueError(\"Solver %s supports only 'l2' or 'none' penalties, \"\n",
                        "ValueError: Solver lbfgs supports only 'l2' or 'none' penalties, got l1 penalty.\n",
                        "\n",
                        "  warnings.warn(\"Estimator fit failed. The score on this train-test\"\n",
                        "/home/joao/.local/lib/python3.9/site-packages/sklearn/model_selection/_validation.py:615: FitFailedWarning: Estimator fit failed. The score on this train-test partition for these parameters will be set to nan. Details: \n",
                        "Traceback (most recent call last):\n",
                        "  File \"/home/joao/.local/lib/python3.9/site-packages/sklearn/model_selection/_validation.py\", line 598, in _fit_and_score\n",
                        "    estimator.fit(X_train, y_train, **fit_params)\n",
                        "  File \"/home/joao/.local/lib/python3.9/site-packages/sklearn/linear_model/_logistic.py\", line 1306, in fit\n",
                        "    solver = _check_solver(self.solver, self.penalty, self.dual)\n",
                        "  File \"/home/joao/.local/lib/python3.9/site-packages/sklearn/linear_model/_logistic.py\", line 443, in _check_solver\n",
                        "    raise ValueError(\"Solver %s supports only 'l2' or 'none' penalties, \"\n",
                        "ValueError: Solver lbfgs supports only 'l2' or 'none' penalties, got l1 penalty.\n",
                        "\n",
                        "  warnings.warn(\"Estimator fit failed. The score on this train-test\"\n",
                        "/home/joao/.local/lib/python3.9/site-packages/sklearn/model_selection/_validation.py:615: FitFailedWarning: Estimator fit failed. The score on this train-test partition for these parameters will be set to nan. Details: \n",
                        "Traceback (most recent call last):\n",
                        "  File \"/home/joao/.local/lib/python3.9/site-packages/sklearn/model_selection/_validation.py\", line 598, in _fit_and_score\n",
                        "    estimator.fit(X_train, y_train, **fit_params)\n",
                        "  File \"/home/joao/.local/lib/python3.9/site-packages/sklearn/linear_model/_logistic.py\", line 1306, in fit\n",
                        "    solver = _check_solver(self.solver, self.penalty, self.dual)\n",
                        "  File \"/home/joao/.local/lib/python3.9/site-packages/sklearn/linear_model/_logistic.py\", line 443, in _check_solver\n",
                        "    raise ValueError(\"Solver %s supports only 'l2' or 'none' penalties, \"\n",
                        "ValueError: Solver lbfgs supports only 'l2' or 'none' penalties, got l1 penalty.\n",
                        "\n",
                        "  warnings.warn(\"Estimator fit failed. The score on this train-test\"\n",
                        "/home/joao/.local/lib/python3.9/site-packages/sklearn/model_selection/_validation.py:615: FitFailedWarning: Estimator fit failed. The score on this train-test partition for these parameters will be set to nan. Details: \n",
                        "Traceback (most recent call last):\n",
                        "  File \"/home/joao/.local/lib/python3.9/site-packages/sklearn/model_selection/_validation.py\", line 598, in _fit_and_score\n",
                        "    estimator.fit(X_train, y_train, **fit_params)\n",
                        "  File \"/home/joao/.local/lib/python3.9/site-packages/sklearn/linear_model/_logistic.py\", line 1306, in fit\n",
                        "    solver = _check_solver(self.solver, self.penalty, self.dual)\n",
                        "  File \"/home/joao/.local/lib/python3.9/site-packages/sklearn/linear_model/_logistic.py\", line 443, in _check_solver\n",
                        "    raise ValueError(\"Solver %s supports only 'l2' or 'none' penalties, \"\n",
                        "ValueError: Solver lbfgs supports only 'l2' or 'none' penalties, got l1 penalty.\n",
                        "\n",
                        "  warnings.warn(\"Estimator fit failed. The score on this train-test\"\n",
                        "/home/joao/.local/lib/python3.9/site-packages/sklearn/model_selection/_validation.py:615: FitFailedWarning: Estimator fit failed. The score on this train-test partition for these parameters will be set to nan. Details: \n",
                        "Traceback (most recent call last):\n",
                        "  File \"/home/joao/.local/lib/python3.9/site-packages/sklearn/model_selection/_validation.py\", line 598, in _fit_and_score\n",
                        "    estimator.fit(X_train, y_train, **fit_params)\n",
                        "  File \"/home/joao/.local/lib/python3.9/site-packages/sklearn/linear_model/_logistic.py\", line 1306, in fit\n",
                        "    solver = _check_solver(self.solver, self.penalty, self.dual)\n",
                        "  File \"/home/joao/.local/lib/python3.9/site-packages/sklearn/linear_model/_logistic.py\", line 443, in _check_solver\n",
                        "    raise ValueError(\"Solver %s supports only 'l2' or 'none' penalties, \"\n",
                        "ValueError: Solver lbfgs supports only 'l2' or 'none' penalties, got l1 penalty.\n",
                        "\n",
                        "  warnings.warn(\"Estimator fit failed. The score on this train-test\"\n",
                        "/home/joao/.local/lib/python3.9/site-packages/sklearn/model_selection/_validation.py:615: FitFailedWarning: Estimator fit failed. The score on this train-test partition for these parameters will be set to nan. Details: \n",
                        "Traceback (most recent call last):\n",
                        "  File \"/home/joao/.local/lib/python3.9/site-packages/sklearn/model_selection/_validation.py\", line 598, in _fit_and_score\n",
                        "    estimator.fit(X_train, y_train, **fit_params)\n",
                        "  File \"/home/joao/.local/lib/python3.9/site-packages/sklearn/linear_model/_logistic.py\", line 1306, in fit\n",
                        "    solver = _check_solver(self.solver, self.penalty, self.dual)\n",
                        "  File \"/home/joao/.local/lib/python3.9/site-packages/sklearn/linear_model/_logistic.py\", line 443, in _check_solver\n",
                        "    raise ValueError(\"Solver %s supports only 'l2' or 'none' penalties, \"\n",
                        "ValueError: Solver lbfgs supports only 'l2' or 'none' penalties, got l1 penalty.\n",
                        "\n",
                        "  warnings.warn(\"Estimator fit failed. The score on this train-test\"\n",
                        "/home/joao/.local/lib/python3.9/site-packages/sklearn/model_selection/_validation.py:615: FitFailedWarning: Estimator fit failed. The score on this train-test partition for these parameters will be set to nan. Details: \n",
                        "Traceback (most recent call last):\n",
                        "  File \"/home/joao/.local/lib/python3.9/site-packages/sklearn/model_selection/_validation.py\", line 598, in _fit_and_score\n",
                        "    estimator.fit(X_train, y_train, **fit_params)\n",
                        "  File \"/home/joao/.local/lib/python3.9/site-packages/sklearn/linear_model/_logistic.py\", line 1306, in fit\n",
                        "    solver = _check_solver(self.solver, self.penalty, self.dual)\n",
                        "  File \"/home/joao/.local/lib/python3.9/site-packages/sklearn/linear_model/_logistic.py\", line 443, in _check_solver\n",
                        "    raise ValueError(\"Solver %s supports only 'l2' or 'none' penalties, \"\n",
                        "ValueError: Solver lbfgs supports only 'l2' or 'none' penalties, got l1 penalty.\n",
                        "\n",
                        "  warnings.warn(\"Estimator fit failed. The score on this train-test\"\n",
                        "/home/joao/.local/lib/python3.9/site-packages/sklearn/model_selection/_validation.py:615: FitFailedWarning: Estimator fit failed. The score on this train-test partition for these parameters will be set to nan. Details: \n",
                        "Traceback (most recent call last):\n",
                        "  File \"/home/joao/.local/lib/python3.9/site-packages/sklearn/model_selection/_validation.py\", line 598, in _fit_and_score\n",
                        "    estimator.fit(X_train, y_train, **fit_params)\n",
                        "  File \"/home/joao/.local/lib/python3.9/site-packages/sklearn/linear_model/_logistic.py\", line 1306, in fit\n",
                        "    solver = _check_solver(self.solver, self.penalty, self.dual)\n",
                        "  File \"/home/joao/.local/lib/python3.9/site-packages/sklearn/linear_model/_logistic.py\", line 443, in _check_solver\n",
                        "    raise ValueError(\"Solver %s supports only 'l2' or 'none' penalties, \"\n",
                        "ValueError: Solver lbfgs supports only 'l2' or 'none' penalties, got l1 penalty.\n",
                        "\n",
                        "  warnings.warn(\"Estimator fit failed. The score on this train-test\"\n",
                        "/home/joao/.local/lib/python3.9/site-packages/sklearn/model_selection/_validation.py:615: FitFailedWarning: Estimator fit failed. The score on this train-test partition for these parameters will be set to nan. Details: \n",
                        "Traceback (most recent call last):\n",
                        "  File \"/home/joao/.local/lib/python3.9/site-packages/sklearn/model_selection/_validation.py\", line 598, in _fit_and_score\n",
                        "    estimator.fit(X_train, y_train, **fit_params)\n",
                        "  File \"/home/joao/.local/lib/python3.9/site-packages/sklearn/linear_model/_logistic.py\", line 1306, in fit\n",
                        "    solver = _check_solver(self.solver, self.penalty, self.dual)\n",
                        "  File \"/home/joao/.local/lib/python3.9/site-packages/sklearn/linear_model/_logistic.py\", line 443, in _check_solver\n",
                        "    raise ValueError(\"Solver %s supports only 'l2' or 'none' penalties, \"\n",
                        "ValueError: Solver lbfgs supports only 'l2' or 'none' penalties, got l1 penalty.\n",
                        "\n",
                        "  warnings.warn(\"Estimator fit failed. The score on this train-test\"\n",
                        "/home/joao/.local/lib/python3.9/site-packages/sklearn/model_selection/_validation.py:615: FitFailedWarning: Estimator fit failed. The score on this train-test partition for these parameters will be set to nan. Details: \n",
                        "Traceback (most recent call last):\n",
                        "  File \"/home/joao/.local/lib/python3.9/site-packages/sklearn/model_selection/_validation.py\", line 598, in _fit_and_score\n",
                        "    estimator.fit(X_train, y_train, **fit_params)\n",
                        "  File \"/home/joao/.local/lib/python3.9/site-packages/sklearn/linear_model/_logistic.py\", line 1306, in fit\n",
                        "    solver = _check_solver(self.solver, self.penalty, self.dual)\n",
                        "  File \"/home/joao/.local/lib/python3.9/site-packages/sklearn/linear_model/_logistic.py\", line 443, in _check_solver\n",
                        "    raise ValueError(\"Solver %s supports only 'l2' or 'none' penalties, \"\n",
                        "ValueError: Solver lbfgs supports only 'l2' or 'none' penalties, got l1 penalty.\n",
                        "\n",
                        "  warnings.warn(\"Estimator fit failed. The score on this train-test\"\n",
                        "/home/joao/.local/lib/python3.9/site-packages/sklearn/model_selection/_validation.py:615: FitFailedWarning: Estimator fit failed. The score on this train-test partition for these parameters will be set to nan. Details: \n",
                        "Traceback (most recent call last):\n",
                        "  File \"/home/joao/.local/lib/python3.9/site-packages/sklearn/model_selection/_validation.py\", line 598, in _fit_and_score\n",
                        "    estimator.fit(X_train, y_train, **fit_params)\n",
                        "  File \"/home/joao/.local/lib/python3.9/site-packages/sklearn/linear_model/_logistic.py\", line 1306, in fit\n",
                        "    solver = _check_solver(self.solver, self.penalty, self.dual)\n",
                        "  File \"/home/joao/.local/lib/python3.9/site-packages/sklearn/linear_model/_logistic.py\", line 443, in _check_solver\n",
                        "    raise ValueError(\"Solver %s supports only 'l2' or 'none' penalties, \"\n",
                        "ValueError: Solver lbfgs supports only 'l2' or 'none' penalties, got l1 penalty.\n",
                        "\n",
                        "  warnings.warn(\"Estimator fit failed. The score on this train-test\"\n",
                        "/home/joao/.local/lib/python3.9/site-packages/sklearn/model_selection/_validation.py:615: FitFailedWarning: Estimator fit failed. The score on this train-test partition for these parameters will be set to nan. Details: \n",
                        "Traceback (most recent call last):\n",
                        "  File \"/home/joao/.local/lib/python3.9/site-packages/sklearn/model_selection/_validation.py\", line 598, in _fit_and_score\n",
                        "    estimator.fit(X_train, y_train, **fit_params)\n",
                        "  File \"/home/joao/.local/lib/python3.9/site-packages/sklearn/linear_model/_logistic.py\", line 1306, in fit\n",
                        "    solver = _check_solver(self.solver, self.penalty, self.dual)\n",
                        "  File \"/home/joao/.local/lib/python3.9/site-packages/sklearn/linear_model/_logistic.py\", line 443, in _check_solver\n",
                        "    raise ValueError(\"Solver %s supports only 'l2' or 'none' penalties, \"\n",
                        "ValueError: Solver lbfgs supports only 'l2' or 'none' penalties, got l1 penalty.\n",
                        "\n",
                        "  warnings.warn(\"Estimator fit failed. The score on this train-test\"\n",
                        "/home/joao/.local/lib/python3.9/site-packages/sklearn/model_selection/_validation.py:615: FitFailedWarning: Estimator fit failed. The score on this train-test partition for these parameters will be set to nan. Details: \n",
                        "Traceback (most recent call last):\n",
                        "  File \"/home/joao/.local/lib/python3.9/site-packages/sklearn/model_selection/_validation.py\", line 598, in _fit_and_score\n",
                        "    estimator.fit(X_train, y_train, **fit_params)\n",
                        "  File \"/home/joao/.local/lib/python3.9/site-packages/sklearn/linear_model/_logistic.py\", line 1306, in fit\n",
                        "    solver = _check_solver(self.solver, self.penalty, self.dual)\n",
                        "  File \"/home/joao/.local/lib/python3.9/site-packages/sklearn/linear_model/_logistic.py\", line 443, in _check_solver\n",
                        "    raise ValueError(\"Solver %s supports only 'l2' or 'none' penalties, \"\n",
                        "ValueError: Solver lbfgs supports only 'l2' or 'none' penalties, got l1 penalty.\n",
                        "\n",
                        "  warnings.warn(\"Estimator fit failed. The score on this train-test\"\n",
                        "/home/joao/.local/lib/python3.9/site-packages/sklearn/model_selection/_validation.py:615: FitFailedWarning: Estimator fit failed. The score on this train-test partition for these parameters will be set to nan. Details: \n",
                        "Traceback (most recent call last):\n",
                        "  File \"/home/joao/.local/lib/python3.9/site-packages/sklearn/model_selection/_validation.py\", line 598, in _fit_and_score\n",
                        "    estimator.fit(X_train, y_train, **fit_params)\n",
                        "  File \"/home/joao/.local/lib/python3.9/site-packages/sklearn/linear_model/_logistic.py\", line 1306, in fit\n",
                        "    solver = _check_solver(self.solver, self.penalty, self.dual)\n",
                        "  File \"/home/joao/.local/lib/python3.9/site-packages/sklearn/linear_model/_logistic.py\", line 443, in _check_solver\n",
                        "    raise ValueError(\"Solver %s supports only 'l2' or 'none' penalties, \"\n",
                        "ValueError: Solver lbfgs supports only 'l2' or 'none' penalties, got l1 penalty.\n",
                        "\n",
                        "  warnings.warn(\"Estimator fit failed. The score on this train-test\"\n",
                        "/home/joao/.local/lib/python3.9/site-packages/sklearn/model_selection/_validation.py:615: FitFailedWarning: Estimator fit failed. The score on this train-test partition for these parameters will be set to nan. Details: \n",
                        "Traceback (most recent call last):\n",
                        "  File \"/home/joao/.local/lib/python3.9/site-packages/sklearn/model_selection/_validation.py\", line 598, in _fit_and_score\n",
                        "    estimator.fit(X_train, y_train, **fit_params)\n",
                        "  File \"/home/joao/.local/lib/python3.9/site-packages/sklearn/linear_model/_logistic.py\", line 1306, in fit\n",
                        "    solver = _check_solver(self.solver, self.penalty, self.dual)\n",
                        "  File \"/home/joao/.local/lib/python3.9/site-packages/sklearn/linear_model/_logistic.py\", line 443, in _check_solver\n",
                        "    raise ValueError(\"Solver %s supports only 'l2' or 'none' penalties, \"\n",
                        "ValueError: Solver lbfgs supports only 'l2' or 'none' penalties, got l1 penalty.\n",
                        "\n",
                        "  warnings.warn(\"Estimator fit failed. The score on this train-test\"\n"
                    ]
                },
                {
                    "output_type": "stream",
                    "name": "stdout",
                    "text": [
                        "LogisticRegression(C=0.1, max_iter=1000)\n"
                    ]
                },
                {
                    "output_type": "stream",
                    "name": "stderr",
                    "text": [
                        "/home/joao/.local/lib/python3.9/site-packages/sklearn/model_selection/_search.py:922: UserWarning: One or more of the test scores are non-finite: [       nan 0.7719179         nan 0.78497934        nan 0.78660536\n",
                        "        nan 0.78497934        nan 0.78172731        nan 0.78335333\n",
                        "        nan 0.78335333]\n",
                        "  warnings.warn(\n"
                    ]
                },
                {
                    "output_type": "execute_result",
                    "data": {
                        "text/plain": [
                            "0.5544554455445543"
                        ]
                    },
                    "metadata": {},
                    "execution_count": 39
                }
            ],
            "metadata": {}
        },
        {
            "cell_type": "markdown",
            "source": [
                "## SVM"
            ],
            "metadata": {}
        },
        {
            "cell_type": "code",
            "execution_count": 40,
            "source": [
                "parameters = {'C': [0.001, 0.01, 0.1, 1, 10, 100, 1000], \n",
                "              'gamma': [1, 0.1, 0.01, 0.001, 0.0001],\n",
                "              'kernel': ['rbf']} \n",
                "\n",
                "model_svc = SVC()\n",
                "clf_svc = GridSearchCV(model_svc, parameters, cv=cv)\n",
                "clf_svc.fit(X_train, y_train)\n",
                "y_pred = clf_svc.predict(X_test)\n",
                "print(clf_svc.best_estimator_)\n",
                "f1_score(y_test, y_pred)"
            ],
            "outputs": [
                {
                    "output_type": "stream",
                    "name": "stdout",
                    "text": [
                        "SVC(C=1, gamma=0.0001)\n"
                    ]
                },
                {
                    "output_type": "execute_result",
                    "data": {
                        "text/plain": [
                            "0.5434782608695652"
                        ]
                    },
                    "metadata": {},
                    "execution_count": 40
                }
            ],
            "metadata": {}
        },
        {
            "cell_type": "markdown",
            "source": [
                "## Naive Bayes"
            ],
            "metadata": {}
        },
        {
            "cell_type": "code",
            "execution_count": 41,
            "source": [
                "steps = [1e-8, 1e-7, 1e-6, 1e-5, 1e-4]\n",
                "parameters = {'var_smoothing':steps}\n",
                "model_nb = GaussianNB()\n",
                "clf_nb = GridSearchCV(model_nb, parameters, cv=cv)\n",
                "clf_nb.fit(X_train, y_train)\n",
                "y_pred = clf_nb.predict(X_test)\n",
                "print(clf_nb.best_estimator_)\n",
                "f1_score(y_test, y_pred)"
            ],
            "outputs": [
                {
                    "output_type": "stream",
                    "name": "stdout",
                    "text": [
                        "GaussianNB(var_smoothing=1e-08)\n"
                    ]
                },
                {
                    "output_type": "execute_result",
                    "data": {
                        "text/plain": [
                            "0.6086956521739131"
                        ]
                    },
                    "metadata": {},
                    "execution_count": 41
                }
            ],
            "metadata": {}
        },
        {
            "cell_type": "markdown",
            "source": [
                "### Logo, podemos ver que o melhor modelos que consegui foi:\n",
                "## Algoritmo: Naive Bayes; var_smoothing=1e-08; f1_score = 0.609%"
            ],
            "metadata": {}
        },
        {
            "cell_type": "code",
            "execution_count": 42,
            "source": [
                "better_model = GaussianNB(var_smoothing=1e-8)\n",
                "better_model.fit(X_train, y_train)\n",
                "y_pred_ = better_model.predict(X_test)\n",
                "print(f'{f1_score(y_test, y_pred_)*100:.2f}%')\n"
            ],
            "outputs": [
                {
                    "output_type": "stream",
                    "name": "stdout",
                    "text": [
                        "60.87%\n"
                    ]
                }
            ],
            "metadata": {}
        },
        {
            "cell_type": "markdown",
            "source": [
                "## Regiões de decisão "
            ],
            "metadata": {}
        },
        {
            "cell_type": "code",
            "execution_count": 43,
            "source": [
                "pca = PCA(n_components=2)\n",
                "nb_ = GaussianNB(var_smoothing=1e-8)\n",
                "X_2D = pca.fit_transform(X)\n",
                "nb_.fit(X_2D, y)\n",
                "\n",
                "plot_decision_regions(X_2D, y, clf=nb_, legend=2);\n",
                "plt.show()"
            ],
            "outputs": [
                {
                    "output_type": "display_data",
                    "data": {
                        "text/plain": [
                            "<Figure size 432x288 with 1 Axes>"
                        ],
                        "image/png": "[encoded data removed]"
                    },
                    "metadata": {
                        "needs_background": "light"
                    }
                }
            ],
            "metadata": {}
        },
        {
            "cell_type": "code",
            "execution_count": 44,
            "source": [
                "X_train, X_test, y_train, y_test = train_test_split(X_2D, y, test_size=0.2, random_state=42, stratify=y)\n",
                "\n",
                "nb_ = GaussianNB(var_smoothing=1e-8)\n",
                "nb_.fit(X_train, y_train)\n",
                "plot_decision_regions(X_test, y_test, clf=nb_, legend=2)\n",
                "plt.show()"
            ],
            "outputs": [
                {
                    "output_type": "display_data",
                    "data": {
                        "text/plain": [
                            "<Figure size 432x288 with 1 Axes>"
                        ],
                        "image/png": "[encoded data removed]"
                    },
                    "metadata": {
                        "needs_background": "light"
                    }
                }
            ],
            "metadata": {}
        },
        {
            "cell_type": "code",
            "execution_count": null,
            "source": [],
            "outputs": [],
            "metadata": {}
        }
    ],
    "metadata": {
        "orig_nbformat": 4,
        "language_info": {
            "name": "python",
            "version": "3.9.6",
            "mimetype": "text/x-python",
            "codemirror_mode": {
                "name": "ipython",
                "version": 3
            },
            "pygments_lexer": "ipython3",
            "nbconvert_exporter": "python",
            "file_extension": ".py"
        },
        "kernelspec": {
            "name": "python3",
            "display_name": "Python 3.9.6 64-bit ('ml': conda)"
        },
        "interpreter": {
            "hash": "7f05246de6a94202438a04883c88dcbac14fa429c872225156c18c0d38881fb4"
        }
    },
    "nbformat": 4,
    "nbformat_minor": 2
}