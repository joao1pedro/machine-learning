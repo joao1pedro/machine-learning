{
 "cells": [
  {
   "cell_type": "code",
   "execution_count": 1,
   "id": "38d3cd90-867f-439d-8cb1-d28c7b5a91ba",
   "metadata": {},
   "outputs": [],
   "source": [
    "import numpy as np\n",
    "import pandas as pd\n",
    "from sklearn.metrics import f1_score\n",
    "from sklearn.model_selection import train_test_split, cross_val_score, cross_val_predict, GridSearchCV, KFold, StratifiedKFold\n",
    "from sklearn.neighbors import KNeighborsClassifier\n",
    "from sklearn.pipeline import make_pipeline\n",
    "from sklearn.preprocessing import StandardScaler\n",
    "from sklearn.impute import SimpleImputer"
   ]
  },
  {
   "cell_type": "code",
   "execution_count": 2,
   "id": "cfb37494-9e5f-4b09-b50e-40922becf225",
   "metadata": {},
   "outputs": [
    {
     "data": {
      "text/html": [
       "<div>\n",
       "<style scoped>\n",
       "    .dataframe tbody tr th:only-of-type {\n",
       "        vertical-align: middle;\n",
       "    }\n",
       "\n",
       "    .dataframe tbody tr th {\n",
       "        vertical-align: top;\n",
       "    }\n",
       "\n",
       "    .dataframe thead th {\n",
       "        text-align: right;\n",
       "    }\n",
       "</style>\n",
       "<table border=\"1\" class=\"dataframe\">\n",
       "  <thead>\n",
       "    <tr style=\"text-align: right;\">\n",
       "      <th></th>\n",
       "      <th>Pregnancies</th>\n",
       "      <th>Glucose</th>\n",
       "      <th>BloodPressure</th>\n",
       "      <th>SkinThickness</th>\n",
       "      <th>Insulin</th>\n",
       "      <th>BMI</th>\n",
       "      <th>DiabetesPedigreeFunction</th>\n",
       "      <th>Age</th>\n",
       "      <th>Outcome</th>\n",
       "    </tr>\n",
       "  </thead>\n",
       "  <tbody>\n",
       "    <tr>\n",
       "      <th>0</th>\n",
       "      <td>6</td>\n",
       "      <td>148</td>\n",
       "      <td>72</td>\n",
       "      <td>35</td>\n",
       "      <td>0</td>\n",
       "      <td>33.6</td>\n",
       "      <td>0.627</td>\n",
       "      <td>50</td>\n",
       "      <td>1</td>\n",
       "    </tr>\n",
       "    <tr>\n",
       "      <th>1</th>\n",
       "      <td>1</td>\n",
       "      <td>85</td>\n",
       "      <td>66</td>\n",
       "      <td>29</td>\n",
       "      <td>0</td>\n",
       "      <td>26.6</td>\n",
       "      <td>0.351</td>\n",
       "      <td>31</td>\n",
       "      <td>0</td>\n",
       "    </tr>\n",
       "    <tr>\n",
       "      <th>2</th>\n",
       "      <td>8</td>\n",
       "      <td>183</td>\n",
       "      <td>64</td>\n",
       "      <td>0</td>\n",
       "      <td>0</td>\n",
       "      <td>23.3</td>\n",
       "      <td>0.672</td>\n",
       "      <td>32</td>\n",
       "      <td>1</td>\n",
       "    </tr>\n",
       "    <tr>\n",
       "      <th>3</th>\n",
       "      <td>1</td>\n",
       "      <td>89</td>\n",
       "      <td>66</td>\n",
       "      <td>23</td>\n",
       "      <td>94</td>\n",
       "      <td>28.1</td>\n",
       "      <td>0.167</td>\n",
       "      <td>21</td>\n",
       "      <td>0</td>\n",
       "    </tr>\n",
       "    <tr>\n",
       "      <th>4</th>\n",
       "      <td>0</td>\n",
       "      <td>137</td>\n",
       "      <td>40</td>\n",
       "      <td>35</td>\n",
       "      <td>168</td>\n",
       "      <td>43.1</td>\n",
       "      <td>2.288</td>\n",
       "      <td>33</td>\n",
       "      <td>1</td>\n",
       "    </tr>\n",
       "  </tbody>\n",
       "</table>\n",
       "</div>"
      ],
      "text/plain": [
       "   Pregnancies  Glucose  BloodPressure  SkinThickness  Insulin   BMI  \\\n",
       "0            6      148             72             35        0  33.6   \n",
       "1            1       85             66             29        0  26.6   \n",
       "2            8      183             64              0        0  23.3   \n",
       "3            1       89             66             23       94  28.1   \n",
       "4            0      137             40             35      168  43.1   \n",
       "\n",
       "   DiabetesPedigreeFunction  Age  Outcome  \n",
       "0                     0.627   50        1  \n",
       "1                     0.351   31        0  \n",
       "2                     0.672   32        1  \n",
       "3                     0.167   21        0  \n",
       "4                     2.288   33        1  "
      ]
     },
     "execution_count": 2,
     "metadata": {},
     "output_type": "execute_result"
    }
   ],
   "source": [
    "df = pd.read_csv('diabetes.csv')\n",
    "df.head()"
   ]
  },
  {
   "cell_type": "markdown",
   "id": "1904eb96-0a60-4c18-9351-775c6c5e44c5",
   "metadata": {},
   "source": [
    "# Questão 1"
   ]
  },
  {
   "cell_type": "markdown",
   "id": "a5921215-1d53-4627-8e95-8327e3defdfc",
   "metadata": {},
   "source": [
    "### Sem escalonamento"
   ]
  },
  {
   "cell_type": "code",
   "execution_count": 3,
   "id": "98319e85-156c-4f4a-8f30-9f2ee6f512da",
   "metadata": {},
   "outputs": [],
   "source": [
    "X = df.drop(['Outcome'],axis=1).values\n",
    "y = df['Outcome'].values\n",
    "\n",
    "X_train, X_test, y_train, y_test = train_test_split(X, y, test_size=0.2, random_state=42, stratify=y)\n",
    "X_train_holdout, X_validacao_holdout, y_train_holdout, y_validacao_holdout = train_test_split(X_test, y_test, test_size=0.3)"
   ]
  },
  {
   "cell_type": "code",
   "execution_count": 4,
   "id": "0b2fe20d-9a8e-457c-ab84-738e4c0ad583",
   "metadata": {},
   "outputs": [
    {
     "name": "stdout",
     "output_type": "stream",
     "text": [
      "Test F1-score: 0.500\n",
      "Better k value = 12\n",
      "value: 0.5\n",
      "value: 0.5\n",
      "value: 0.4666666666666667\n",
      "value: 0.4666666666666667\n",
      "value: 0.4666666666666667\n",
      "value: 0.4666666666666667\n",
      "value: 0.4516129032258065\n",
      "value: 0.4516129032258065\n",
      "value: 0.4516129032258065\n",
      "value: 0.4516129032258065\n",
      "value: 0.4516129032258065\n",
      "value: 0.4516129032258065\n",
      "value: 0.42857142857142855\n",
      "value: 0.42857142857142855\n",
      "value: 0.4242424242424242\n",
      "value: 0.41379310344827586\n",
      "value: 0.41379310344827586\n",
      "value: 0.39999999999999997\n",
      "value: 0.39999999999999997\n",
      "value: 0.39999999999999997\n",
      "value: 0.39999999999999997\n",
      "value: 0.3870967741935484\n",
      "value: 0.3870967741935484\n",
      "value: 0.3846153846153846\n",
      "value: 0.37499999999999994\n",
      "value: 0.37499999999999994\n",
      "value: 0.36363636363636365\n",
      "value: 0.35714285714285715\n",
      "value: 0.3076923076923077\n"
     ]
    }
   ],
   "source": [
    "scores = []\n",
    "for i in range(1,30):\n",
    "    pipe_cls = make_pipeline(KNeighborsClassifier(n_neighbors=i))\n",
    "    pipe_cls.fit(X_train, y_train)\n",
    "    y_pred = pipe_cls.predict(X_validacao_holdout)\n",
    "    scores.append(f1_score(y_validacao_holdout, y_pred))\n",
    "\n",
    "print('Test F1-score: %.3f' % max(scores))\n",
    "print('Better k value =', scores.index(max(scores)))\n",
    "\n",
    "better_k = scores.index(max(scores))\n",
    "\n",
    "scores.sort(reverse = True)\n",
    "for item in scores:\n",
    "    print(f'value: {item}')"
   ]
  },
  {
   "cell_type": "code",
   "execution_count": 5,
   "id": "6ec54c03-5069-46dc-93b3-2522b3991f48",
   "metadata": {},
   "outputs": [
    {
     "name": "stdout",
     "output_type": "stream",
     "text": [
      "final model f1-score : 51.06382978723405%\n"
     ]
    }
   ],
   "source": [
    "X_train, X_test, y_train, y_test = train_test_split(X, y, test_size=0.2, random_state=42, stratify=y)\n",
    "\n",
    "pipe_cls = make_pipeline(KNeighborsClassifier(n_neighbors=better_k))\n",
    "pipe_cls.fit(X_train, y_train)\n",
    "y_pred = pipe_cls.predict(X_test)\n",
    "print(f'final model f1-score : {f1_score(y_test, y_pred)*100}%')"
   ]
  },
  {
   "cell_type": "markdown",
   "id": "f187298d-7998-44a1-8f26-364f968045cd",
   "metadata": {},
   "source": [
    "### Com escalonamento"
   ]
  },
  {
   "cell_type": "code",
   "execution_count": 6,
   "id": "88a46be8-6f8f-44e8-8771-e3910332a9d2",
   "metadata": {},
   "outputs": [],
   "source": [
    "X_ = df.drop(['Outcome'],axis=1)\n",
    "y_ = df['Outcome']\n",
    "\n",
    "X_train_, X_test_, y_train_, y_test_ = train_test_split(X_, y_, test_size=0.2, random_state=42, stratify=y)\n",
    "X_train_holdout_, X_validacao_holdout_, y_train_holdout_, y_validacao_holdout_ = train_test_split(X_test_, y_test_, test_size=0.3)"
   ]
  },
  {
   "cell_type": "code",
   "execution_count": 7,
   "id": "880b8b57-982d-41b9-8c98-17f282b45ad2",
   "metadata": {},
   "outputs": [
    {
     "name": "stdout",
     "output_type": "stream",
     "text": [
      "Test F1-score: 0.621\n",
      "Better k value = 11\n",
      "value: 0.6206896551724138\n",
      "value: 0.6206896551724138\n",
      "value: 0.6206896551724138\n",
      "value: 0.6206896551724138\n",
      "value: 0.5999999999999999\n",
      "value: 0.5925925925925927\n",
      "value: 0.5925925925925927\n",
      "value: 0.5925925925925927\n",
      "value: 0.5925925925925927\n",
      "value: 0.5806451612903226\n",
      "value: 0.5806451612903226\n",
      "value: 0.5806451612903226\n",
      "value: 0.5806451612903226\n",
      "value: 0.5714285714285715\n",
      "value: 0.5714285714285715\n",
      "value: 0.5714285714285715\n",
      "value: 0.5625\n",
      "value: 0.5599999999999999\n",
      "value: 0.5599999999999999\n",
      "value: 0.5599999999999999\n",
      "value: 0.5517241379310345\n",
      "value: 0.5517241379310345\n",
      "value: 0.5454545454545455\n",
      "value: 0.5384615384615384\n",
      "value: 0.5185185185185186\n",
      "value: 0.5161290322580646\n",
      "value: 0.5\n",
      "value: 0.48000000000000004\n",
      "value: 0.4545454545454546\n"
     ]
    }
   ],
   "source": [
    "scores_ = []\n",
    "for i in range(1,30):\n",
    "    pipe_cls = make_pipeline(StandardScaler(), SimpleImputer(strategy='mean'),KNeighborsClassifier(n_neighbors=i))\n",
    "    pipe_cls.fit(X_train_, y_train_)\n",
    "    y_pred_ = pipe_cls.predict(X_validacao_holdout_)\n",
    "    scores_.append(f1_score(y_validacao_holdout_, y_pred_))\n",
    "    #print('Test Accuracy: %.3f' % pipe_cls.score(X_test_, y_test_))\n",
    "    #print('Test F1-score: %.3f' % f1_score(y_test_, y_pred_))\n",
    "print('Test F1-score: %.3f' % max(scores_))\n",
    "print('Better k value =', scores_.index(max(scores_)))\n",
    "\n",
    "better_k_ = scores_.index(max(scores_))\n",
    "\n",
    "scores_.sort(reverse = True)\n",
    "for item in scores_:\n",
    "    print(f'value: {item}')"
   ]
  },
  {
   "cell_type": "code",
   "execution_count": 8,
   "id": "3f859c7f-33b7-4bdf-8d66-c2c75ddb5bb5",
   "metadata": {},
   "outputs": [
    {
     "name": "stdout",
     "output_type": "stream",
     "text": [
      "final model f1-score : 59.04761904761905%\n"
     ]
    }
   ],
   "source": [
    "X_train_, X_test_, y_train_, y_test_ = train_test_split(X_, y_, test_size=0.2, random_state=42, stratify=y)\n",
    "\n",
    "pipe_cls = make_pipeline(StandardScaler(), SimpleImputer(strategy='mean'),KNeighborsClassifier(n_neighbors=better_k_))\n",
    "pipe_cls.fit(X_train_, y_train_)\n",
    "y_pred_ = pipe_cls.predict(X_test_)\n",
    "print(f'final model f1-score : {f1_score(y_test_, y_pred_)*100}%')"
   ]
  },
  {
   "cell_type": "markdown",
   "id": "99f94d9e-4b3b-4940-94d3-976f4b229ed5",
   "metadata": {},
   "source": [
    "# Questão 2"
   ]
  },
  {
   "cell_type": "markdown",
   "id": "1473c43d-7484-40fb-843d-3e7e80adea3b",
   "metadata": {},
   "source": [
    "### sem escalonamento"
   ]
  },
  {
   "cell_type": "code",
   "execution_count": 9,
   "id": "f5d71f89-5c2e-47bc-a7e9-3de46832af72",
   "metadata": {},
   "outputs": [
    {
     "name": "stdout",
     "output_type": "stream",
     "text": [
      "max f1-score in array  0.52\n",
      "mean of cross_val_score with n_split=5:  0.74\n",
      "better kfold :  2\n",
      "f1 score kfold = 5 without scaler  0.48\n",
      "value: 0.5225225225225226\n",
      "value: 0.5225225225225226\n",
      "value: 0.5172413793103449\n",
      "value: 0.509433962264151\n",
      "value: 0.509090909090909\n"
     ]
    }
   ],
   "source": [
    "kfold = StratifiedKFold(n_splits=5).split(X_train, y_train)\n",
    "\n",
    "#sc = []\n",
    "f1_sc = []\n",
    "\n",
    "for j in range(1,30):\n",
    "    pipe_lr = make_pipeline(SimpleImputer(strategy='mean'),KNeighborsClassifier(n_neighbors=j))\n",
    "    for k, (train, test) in enumerate(kfold):\n",
    "        pipe_lr.fit(X_train[train], y_train[train])\n",
    "        y_pred_2 = pipe_lr.predict(X_test)\n",
    "        #score = pipe_cls.score(X_train[test], y_train[test])\n",
    "        #sc.append(score)\n",
    "        f1_sc.append(f1_score(y_test, y_pred_2))\n",
    "\n",
    "\n",
    "print(f'max f1-score in array {max(f1_sc) : .2f}')\n",
    "kfold_result = cross_val_score(pipe_lr, X, y, cv=5)\n",
    "print(f'mean of cross_val_score with n_split=5: {np.mean(cross_val_score(pipe_lr, X, y, cv=5)) : .2f}')\n",
    "max_kfold_index = np.where(kfold_result == np.amax(kfold_result))\n",
    "print(f'better kfold :  {int(max_kfold_index[0])}')\n",
    "\n",
    "pipe = make_pipeline(SimpleImputer(strategy='mean'),KNeighborsClassifier(n_neighbors=int(max_kfold_index[0])))\n",
    "pipe.fit(X_train_, y_train_)\n",
    "y_pred = pipe.predict(X_test)\n",
    "print(f'f1 score kfold = 5 without scaler {f1_score(y_test, y_pred) : .2f}')\n",
    "\n",
    "\n",
    "f1_sc.sort(reverse = True)\n",
    "for item in f1_sc:\n",
    "    print(f'value: {item}')"
   ]
  },
  {
   "cell_type": "markdown",
   "id": "d67c7b2f-7fc1-4c76-8437-b93953189d3e",
   "metadata": {},
   "source": [
    "### Com StandardScaler"
   ]
  },
  {
   "cell_type": "code",
   "execution_count": 10,
   "id": "768893df-5cb3-4e6e-b12e-91f88f23e4a5",
   "metadata": {},
   "outputs": [
    {
     "name": "stdout",
     "output_type": "stream",
     "text": [
      "f1 score kfold = 5 with StandardScaler  0.50\n"
     ]
    }
   ],
   "source": [
    "pipe = make_pipeline(StandardScaler(),SimpleImputer(strategy='mean'),KNeighborsClassifier(n_neighbors=int(max_kfold_index[0])))\n",
    "pipe.fit(X_train_, y_train_)\n",
    "y_pred = pipe.predict(X_test)\n",
    "print(f'f1 score kfold = 5 with StandardScaler {f1_score(y_test, y_pred) : .2f}')"
   ]
  },
  {
   "cell_type": "code",
   "execution_count": 11,
   "id": "f6a4fc4b-c4dd-4043-ae75-49bdc2bce653",
   "metadata": {},
   "outputs": [
    {
     "name": "stdout",
     "output_type": "stream",
     "text": [
      "mean of cross_val_score with n_split=5:  0.74\n",
      "better kfold :  2\n",
      "value: 0.5225225225225226\n",
      "value: 0.5225225225225226\n",
      "value: 0.5172413793103449\n",
      "value: 0.509433962264151\n",
      "value: 0.509090909090909\n"
     ]
    }
   ],
   "source": [
    "print(f'mean of cross_val_score with n_split=5: {np.mean(cross_val_score(pipe_lr, X, y, cv=5)) : .2f}')\n",
    "max_kfold_index = np.where(kfold_result == np.amax(kfold_result))\n",
    "print(f'better kfold :  {int(max_kfold_index[0])}')\n",
    "\n",
    "f1_sc.sort(reverse = True)\n",
    "for item in f1_sc:\n",
    "    print(f'value: {item}')"
   ]
  },
  {
   "cell_type": "markdown",
   "id": "6e1d5ff2-4229-4332-b489-9b6afda69b26",
   "metadata": {},
   "source": [
    "# Questão 3"
   ]
  },
  {
   "cell_type": "code",
   "execution_count": 31,
   "id": "4a9add9e-438e-4228-8f12-94159f187090",
   "metadata": {},
   "outputs": [],
   "source": [
    "X = df.drop(['Outcome'],axis=1).values\n",
    "y = df['Outcome'].values\n",
    "\n",
    "X_train, X_test, y_train, y_test = train_test_split(X, y, test_size=0.2, random_state=42, stratify=y)\n",
    "X_train_holdout, X_validacao_holdout, y_train_holdout, y_validacao_holdout = train_test_split(X_test, y_test, test_size=0.3)"
   ]
  },
  {
   "cell_type": "markdown",
   "id": "0b953aa3-b75d-469b-bd7a-41b3d5c7bad6",
   "metadata": {},
   "source": [
    "### Sem escalonamento"
   ]
  },
  {
   "cell_type": "code",
   "execution_count": 32,
   "id": "c7c16875-6882-4bd2-a21e-f851aa1af1f6",
   "metadata": {},
   "outputs": [
    {
     "name": "stdout",
     "output_type": "stream",
     "text": [
      "Test F1-score: 0.703\n",
      "Better k value = 2\n"
     ]
    }
   ],
   "source": [
    "scores_gsv = []\n",
    "for i in range(1,30):\n",
    "    pipe_knn = make_pipeline(KNeighborsClassifier(n_neighbors=i))\n",
    "    pipe_knn.fit(X_train, y_train)\n",
    "    y_pred = pipe_knn.predict(X_validacao_holdout)\n",
    "    scores_gsv.append(f1_score(y_validacao_holdout, y_pred))\n",
    "\n",
    "print('Test F1-score: %.3f' % max(scores_gsv))\n",
    "print('Better k value =', scores_gsv.index(max(scores_gsv)))"
   ]
  },
  {
   "cell_type": "code",
   "execution_count": 52,
   "id": "8dec80cf-40ce-4b94-b896-0e331710815e",
   "metadata": {},
   "outputs": [
    {
     "name": "stdout",
     "output_type": "stream",
     "text": [
      "Fitting 5 folds for each of 29 candidates, totalling 145 fits\n",
      "f1-score with GridsearchCV = 5:  64.00%\n"
     ]
    }
   ],
   "source": [
    "arr = []\n",
    "for elem in range(1,30):\n",
    "    arr.append(elem)\n",
    "\n",
    "grid_params = {\n",
    "    'n_neighbors' : arr\n",
    "}\n",
    "\n",
    "gs = GridSearchCV(\n",
    "    KNeighborsClassifier(),\n",
    "    grid_params,\n",
    "    verbose=1,\n",
    "    cv = 5,\n",
    "    n_jobs=-1)\n",
    "\n",
    "gs_result = gs.fit(X_train, y_train)\n",
    "gs_pred = gs_result.predict(X_validacao_holdout)\n",
    "print(f'f1-score with GridsearchCV = 5: {f1_score(gs_pred, y_pred)*100 : .2f}%')"
   ]
  },
  {
   "cell_type": "markdown",
   "id": "6a62e7d5-d751-48da-93c8-6eea16613e61",
   "metadata": {},
   "source": [
    "### Com escalonamento"
   ]
  },
  {
   "cell_type": "code",
   "execution_count": 55,
   "id": "ef8e15c9-e8f4-448e-96d7-1ee1474f13c0",
   "metadata": {},
   "outputs": [],
   "source": [
    "X_ = df.drop(['Outcome'],axis=1).values\n",
    "y_ = df['Outcome'].values\n",
    "\n",
    "X_train_, X_test_, y_train_, y_test_ = train_test_split(X_, y_, test_size=0.2, random_state=42, stratify=y)\n",
    "X_train_holdout_, X_validacao_holdout_, y_train_holdout_, y_validacao_holdout_ = train_test_split(X_test_, y_test_, test_size=0.3)"
   ]
  },
  {
   "cell_type": "code",
   "execution_count": 56,
   "id": "499c1cf2-3d6c-4116-8abc-b4f446180693",
   "metadata": {},
   "outputs": [
    {
     "name": "stdout",
     "output_type": "stream",
     "text": [
      "Test F1-score: 0.733\n",
      "Better k value = 5\n"
     ]
    }
   ],
   "source": [
    "scores_gsv_ = []\n",
    "for i in range(1,30):\n",
    "    pipe_knn = make_pipeline(StandardScaler(), KNeighborsClassifier(n_neighbors=i))\n",
    "    pipe_knn.fit(X_train_, y_train_)\n",
    "    y_pred_ = pipe_knn.predict(X_validacao_holdout_)\n",
    "    scores_gsv_.append(f1_score(y_validacao_holdout_, y_pred_))\n",
    "\n",
    "print('Test F1-score: %.3f' % max(scores_gsv_))\n",
    "print('Better k value =', scores_gsv_.index(max(scores_gsv_)))"
   ]
  },
  {
   "cell_type": "code",
   "execution_count": 59,
   "id": "7ea7ff73-ec05-4019-8ffa-d156c4a96a7b",
   "metadata": {},
   "outputs": [
    {
     "name": "stdout",
     "output_type": "stream",
     "text": [
      "Fitting 5 folds for each of 29 candidates, totalling 145 fits\n",
      "f1-score with GridsearchCV = 5:  63.16%\n"
     ]
    }
   ],
   "source": [
    "arr_ = []\n",
    "for elem in range(1,30):\n",
    "    arr_.append(elem)\n",
    "\n",
    "grid_params = {\n",
    "    'n_neighbors' : arr_\n",
    "}\n",
    "\n",
    "gs_ = GridSearchCV(\n",
    "    KNeighborsClassifier(),\n",
    "    grid_params,\n",
    "    verbose=1,\n",
    "    cv = 5,\n",
    "    n_jobs=-1)\n",
    "\n",
    "gs_result_ = gs_.fit(X_train_, y_train_)\n",
    "gs_pred_ = gs_result_.predict(X_validacao_holdout_)\n",
    "print(f'f1-score with GridsearchCV = 5: {f1_score(gs_pred_, y_pred_)*100 : .2f}%')"
   ]
  },
  {
   "cell_type": "code",
   "execution_count": null,
   "id": "22ac141d-7baa-4e82-9b2c-a43a4124a263",
   "metadata": {},
   "outputs": [],
   "source": []
  }
 ],
 "metadata": {
  "kernelspec": {
   "display_name": "Python 3 (ipykernel)",
   "language": "python",
   "name": "python3"
  },
  "language_info": {
   "codemirror_mode": {
    "name": "ipython",
    "version": 3
   },
   "file_extension": ".py",
   "mimetype": "text/x-python",
   "name": "python",
   "nbconvert_exporter": "python",
   "pygments_lexer": "ipython3",
   "version": "3.9.6"
  }
 },
 "nbformat": 4,
 "nbformat_minor": 5
}
