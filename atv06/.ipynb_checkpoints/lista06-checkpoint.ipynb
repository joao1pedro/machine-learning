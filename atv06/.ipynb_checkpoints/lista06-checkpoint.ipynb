{
 "cells": [
  {
   "cell_type": "markdown",
   "id": "75516a66-e778-4ea9-b95b-caa605f688ea",
   "metadata": {},
   "source": [
    "### 1. Implemente diferentes funções em Python, usando o NumPy, para calcular:\n",
    "### a) Acurácia\n",
    "### b) Precisão\n",
    "### c) Recall\n",
    "### d) F1-Measure\n",
    "### e) MAE\n",
    "### f) RMSE\n",
    "\n",
    "Observações:\n",
    "\n",
    "    Cada item acima deve ter uma função própria para calculá-lo.\n",
    "    Todas as funções recebem como parâmetros de entrada y_true e y_pred\n",
    "    As funções para cálculo da Precisão, Recall e F1-Measure devem retornar um único valor já com a métrica calculada baseada na média ponderada das classes.\n",
    "    As funções podem gerar e usar a matriz de confusão usando o scikit learn, mas não podem usar as métricas já implementadas por ele."
   ]
  },
  {
   "cell_type": "code",
   "execution_count": 272,
   "id": "d229b0b3-9f62-4671-8191-88f00846fda2",
   "metadata": {},
   "outputs": [],
   "source": [
    "import numpy as np\n",
    "\n",
    "y_pred = [0, 2, 1, 3]\n",
    "y_true = [0, 1, 2, 3]"
   ]
  },
  {
   "cell_type": "markdown",
   "id": "bbd0a249-da98-4d7a-a065-7c5b1b952597",
   "metadata": {},
   "source": [
    "### a) acurácia"
   ]
  },
  {
   "cell_type": "code",
   "execution_count": 273,
   "id": "bd82f756-8cde-478b-996d-403b28cf7ac3",
   "metadata": {},
   "outputs": [
    {
     "data": {
      "text/plain": [
       "0.5"
      ]
     },
     "execution_count": 273,
     "metadata": {},
     "output_type": "execute_result"
    }
   ],
   "source": [
    "def accuracy(y_true, y_pred):\n",
    "    a = 1/(len(y_true))\n",
    "    x=0\n",
    "    for elem in y_true:\n",
    "        if(y_pred[:elem] == y_true[:elem]):\n",
    "            x = 1*(x+1)\n",
    "    return a*x\n",
    "\n",
    "accuracy(y_true, y_pred)"
   ]
  },
  {
   "cell_type": "markdown",
   "id": "3b581a6a-8014-4981-8306-2e085e76106a",
   "metadata": {},
   "source": [
    "### b) precisão"
   ]
  },
  {
   "cell_type": "code",
   "execution_count": 274,
   "id": "49871b02-36ce-4851-aee4-1c77e5323929",
   "metadata": {},
   "outputs": [
    {
     "name": "stdout",
     "output_type": "stream",
     "text": [
      "0.5\n"
     ]
    }
   ],
   "source": [
    "from sklearn.metrics import confusion_matrix\n",
    "\n",
    "def precision(y_true, y_pred):\n",
    "    cm = confusion_matrix(y_true, y_pred)\n",
    "    \n",
    "    for i in cm:\n",
    "        p = np.mean(np.diag(cm)/np.sum(cm[:,0]))\n",
    "        #p = np.mean(cm[0,0]/np.sum(cm[:,0]))\n",
    "        \n",
    "    return p\n",
    "\n",
    "print(precision(y_true, y_pred))"
   ]
  },
  {
   "cell_type": "markdown",
   "id": "2f39ad4b-b42c-4df6-a465-c54d1ccc4bd1",
   "metadata": {},
   "source": [
    "### c) recall"
   ]
  },
  {
   "cell_type": "code",
   "execution_count": 275,
   "id": "013743a3-a2a5-47b9-9237-80d1b94d5de5",
   "metadata": {},
   "outputs": [
    {
     "name": "stdout",
     "output_type": "stream",
     "text": [
      "0.5\n"
     ]
    }
   ],
   "source": [
    "def recall(y_true, y_pred):\n",
    "    cm = confusion_matrix(y_true, y_pred)\n",
    "    \n",
    "    for i in cm:\n",
    "        p = np.mean(np.diag(cm)/np.sum(cm[0,:]))\n",
    "        \n",
    "    return p\n",
    "\n",
    "print(recall(y_true, y_pred))"
   ]
  },
  {
   "cell_type": "markdown",
   "id": "19e01c86-00a9-43de-b286-6febfe85d4b0",
   "metadata": {},
   "source": [
    "### d) F1-Measure"
   ]
  },
  {
   "cell_type": "code",
   "execution_count": 276,
   "id": "fba55036-4eaf-41d4-9fad-d1add1b77fad",
   "metadata": {},
   "outputs": [
    {
     "data": {
      "text/plain": [
       "0.5"
      ]
     },
     "execution_count": 276,
     "metadata": {},
     "output_type": "execute_result"
    }
   ],
   "source": [
    "def f1(y_true, y_pred):\n",
    "    pre = precision(y_true, y_pred)\n",
    "    rec = recall(y_true, y_pred)\n",
    "    p = np.mean(2*(pre*rec)/(pre+rec))\n",
    "    \n",
    "    return p\n",
    "\n",
    "f1(y_true, y_pred)"
   ]
  },
  {
   "cell_type": "markdown",
   "id": "daf6bfda-e632-4986-9ce1-2d55adaac078",
   "metadata": {},
   "source": [
    "### e) MAE"
   ]
  },
  {
   "cell_type": "code",
   "execution_count": 277,
   "id": "7ac1eeeb-ca33-47ed-bce3-84471da6819f",
   "metadata": {},
   "outputs": [
    {
     "data": {
      "text/plain": [
       "0.5"
      ]
     },
     "execution_count": 277,
     "metadata": {},
     "output_type": "execute_result"
    }
   ],
   "source": [
    "import math\n",
    "\n",
    "def mae(y_true, y_pred):\n",
    "    a = 1/(len(y_true))\n",
    "    x=0\n",
    "    \n",
    "    for elem in y_true:\n",
    "        x = x + math.fabs((y_true[elem] - y_pred[elem]))\n",
    "    return a*x  \n",
    "\n",
    "mae(y_true, y_pred)"
   ]
  },
  {
   "cell_type": "markdown",
   "id": "309099a8-e8b0-46b8-b077-06952fd5c7b5",
   "metadata": {},
   "source": [
    "### f) RMSE"
   ]
  },
  {
   "cell_type": "code",
   "execution_count": 278,
   "id": "d094bc0b-8f63-4cc7-acda-b8a3aec249c2",
   "metadata": {},
   "outputs": [
    {
     "data": {
      "text/plain": [
       "0.5"
      ]
     },
     "execution_count": 278,
     "metadata": {},
     "output_type": "execute_result"
    }
   ],
   "source": [
    "def rmse(y_true, y_pred):\n",
    "    a = 1/(len(y_true))\n",
    "    x=0\n",
    "    \n",
    "    for elem in y_true:\n",
    "        x = (y_true[elem] - y_pred[elem])**2 + x\n",
    "    return a*x\n",
    "\n",
    "rmse(y_true, y_pred)"
   ]
  },
  {
   "cell_type": "markdown",
   "id": "26f61995-eb5b-4b68-9b7e-79ff42119773",
   "metadata": {},
   "source": [
    "### testes"
   ]
  },
  {
   "cell_type": "code",
   "execution_count": 279,
   "id": "6aa46fc0-ebcf-4542-b5d9-42f6965d6d15",
   "metadata": {},
   "outputs": [
    {
     "data": {
      "text/plain": [
       "0.5"
      ]
     },
     "execution_count": 279,
     "metadata": {},
     "output_type": "execute_result"
    }
   ],
   "source": [
    "# acurácia\n",
    "from sklearn.metrics import accuracy_score\n",
    "accuracy_score(y_true, y_pred)"
   ]
  },
  {
   "cell_type": "code",
   "execution_count": 280,
   "id": "fd082f02-54c6-4688-99dd-70f5d7332e39",
   "metadata": {},
   "outputs": [
    {
     "data": {
      "text/plain": [
       "0.5"
      ]
     },
     "execution_count": 280,
     "metadata": {},
     "output_type": "execute_result"
    }
   ],
   "source": [
    "#MAE\n",
    "from sklearn.metrics import mean_absolute_error\n",
    "mean_absolute_error(y_true, y_pred)"
   ]
  },
  {
   "cell_type": "code",
   "execution_count": 281,
   "id": "0391c090-0cfb-4de5-b2a3-fdab800ed29e",
   "metadata": {},
   "outputs": [
    {
     "data": {
      "text/plain": [
       "0.5"
      ]
     },
     "execution_count": 281,
     "metadata": {},
     "output_type": "execute_result"
    }
   ],
   "source": [
    "#RMSE\n",
    "from sklearn.metrics import mean_squared_error\n",
    "mean_squared_error(y_true, y_pred)"
   ]
  },
  {
   "cell_type": "code",
   "execution_count": 282,
   "id": "87124b85-06f0-4354-8be4-22f8f7416d8a",
   "metadata": {},
   "outputs": [
    {
     "data": {
      "text/plain": [
       "0.5"
      ]
     },
     "execution_count": 282,
     "metadata": {},
     "output_type": "execute_result"
    }
   ],
   "source": [
    "#precisão\n",
    "from sklearn.metrics import precision_score\n",
    "precision_score(y_true, y_pred, average='micro')"
   ]
  },
  {
   "cell_type": "code",
   "execution_count": 283,
   "id": "49fe2de1-1440-41fa-a998-715403eb02fa",
   "metadata": {},
   "outputs": [
    {
     "data": {
      "text/plain": [
       "0.5"
      ]
     },
     "execution_count": 283,
     "metadata": {},
     "output_type": "execute_result"
    }
   ],
   "source": [
    "#recall\n",
    "from sklearn.metrics import recall_score\n",
    "recall_score(y_true, y_pred, average='micro')"
   ]
  },
  {
   "cell_type": "code",
   "execution_count": 284,
   "id": "8aa0ee2d-8ec4-423c-9545-4f338871dfe7",
   "metadata": {},
   "outputs": [
    {
     "data": {
      "text/plain": [
       "0.5"
      ]
     },
     "execution_count": 284,
     "metadata": {},
     "output_type": "execute_result"
    }
   ],
   "source": [
    "#f1-measure\n",
    "from sklearn.metrics import f1_score\n",
    "f1(y_true, y_pred)"
   ]
  },
  {
   "cell_type": "markdown",
   "id": "ef75f29e-0068-453a-ab6a-8d89876b5105",
   "metadata": {},
   "source": [
    "### 2. Calcule Acurácia, Precisão, Recall e F1-Measure para sua solução da questão 2 da Lista 04. Caso não tenha feito a questão 2 da Lista 04 terá que fazê-la agora."
   ]
  },
  {
   "cell_type": "code",
   "execution_count": 285,
   "id": "174f6d5b-91ab-4404-92c5-74d1a4ea10ca",
   "metadata": {},
   "outputs": [
    {
     "data": {
      "text/html": [
       "<div>\n",
       "<style scoped>\n",
       "    .dataframe tbody tr th:only-of-type {\n",
       "        vertical-align: middle;\n",
       "    }\n",
       "\n",
       "    .dataframe tbody tr th {\n",
       "        vertical-align: top;\n",
       "    }\n",
       "\n",
       "    .dataframe thead th {\n",
       "        text-align: right;\n",
       "    }\n",
       "</style>\n",
       "<table border=\"1\" class=\"dataframe\">\n",
       "  <thead>\n",
       "    <tr style=\"text-align: right;\">\n",
       "      <th></th>\n",
       "      <th>fixed acidity</th>\n",
       "      <th>volatile acidity</th>\n",
       "      <th>citric acid</th>\n",
       "      <th>residual sugar</th>\n",
       "      <th>chlorides</th>\n",
       "      <th>free sulfur dioxide</th>\n",
       "      <th>total sulfur dioxide</th>\n",
       "      <th>density</th>\n",
       "      <th>pH</th>\n",
       "      <th>sulphates</th>\n",
       "      <th>alcohol</th>\n",
       "      <th>quality</th>\n",
       "    </tr>\n",
       "  </thead>\n",
       "  <tbody>\n",
       "    <tr>\n",
       "      <th>0</th>\n",
       "      <td>7.0</td>\n",
       "      <td>0.27</td>\n",
       "      <td>0.36</td>\n",
       "      <td>20.7</td>\n",
       "      <td>0.045</td>\n",
       "      <td>45.0</td>\n",
       "      <td>170.0</td>\n",
       "      <td>1.0010</td>\n",
       "      <td>3.00</td>\n",
       "      <td>0.45</td>\n",
       "      <td>8.8</td>\n",
       "      <td>6</td>\n",
       "    </tr>\n",
       "    <tr>\n",
       "      <th>1</th>\n",
       "      <td>6.3</td>\n",
       "      <td>0.30</td>\n",
       "      <td>0.34</td>\n",
       "      <td>1.6</td>\n",
       "      <td>0.049</td>\n",
       "      <td>14.0</td>\n",
       "      <td>132.0</td>\n",
       "      <td>0.9940</td>\n",
       "      <td>3.30</td>\n",
       "      <td>0.49</td>\n",
       "      <td>9.5</td>\n",
       "      <td>6</td>\n",
       "    </tr>\n",
       "    <tr>\n",
       "      <th>2</th>\n",
       "      <td>8.1</td>\n",
       "      <td>0.28</td>\n",
       "      <td>0.40</td>\n",
       "      <td>6.9</td>\n",
       "      <td>0.050</td>\n",
       "      <td>30.0</td>\n",
       "      <td>97.0</td>\n",
       "      <td>0.9951</td>\n",
       "      <td>3.26</td>\n",
       "      <td>0.44</td>\n",
       "      <td>10.1</td>\n",
       "      <td>6</td>\n",
       "    </tr>\n",
       "    <tr>\n",
       "      <th>3</th>\n",
       "      <td>7.2</td>\n",
       "      <td>0.23</td>\n",
       "      <td>0.32</td>\n",
       "      <td>8.5</td>\n",
       "      <td>0.058</td>\n",
       "      <td>47.0</td>\n",
       "      <td>186.0</td>\n",
       "      <td>0.9956</td>\n",
       "      <td>3.19</td>\n",
       "      <td>0.40</td>\n",
       "      <td>9.9</td>\n",
       "      <td>6</td>\n",
       "    </tr>\n",
       "    <tr>\n",
       "      <th>4</th>\n",
       "      <td>7.2</td>\n",
       "      <td>0.23</td>\n",
       "      <td>0.32</td>\n",
       "      <td>8.5</td>\n",
       "      <td>0.058</td>\n",
       "      <td>47.0</td>\n",
       "      <td>186.0</td>\n",
       "      <td>0.9956</td>\n",
       "      <td>3.19</td>\n",
       "      <td>0.40</td>\n",
       "      <td>9.9</td>\n",
       "      <td>6</td>\n",
       "    </tr>\n",
       "  </tbody>\n",
       "</table>\n",
       "</div>"
      ],
      "text/plain": [
       "   fixed acidity  volatile acidity  citric acid  residual sugar  chlorides  \\\n",
       "0            7.0              0.27         0.36            20.7      0.045   \n",
       "1            6.3              0.30         0.34             1.6      0.049   \n",
       "2            8.1              0.28         0.40             6.9      0.050   \n",
       "3            7.2              0.23         0.32             8.5      0.058   \n",
       "4            7.2              0.23         0.32             8.5      0.058   \n",
       "\n",
       "   free sulfur dioxide  total sulfur dioxide  density    pH  sulphates  \\\n",
       "0                 45.0                 170.0   1.0010  3.00       0.45   \n",
       "1                 14.0                 132.0   0.9940  3.30       0.49   \n",
       "2                 30.0                  97.0   0.9951  3.26       0.44   \n",
       "3                 47.0                 186.0   0.9956  3.19       0.40   \n",
       "4                 47.0                 186.0   0.9956  3.19       0.40   \n",
       "\n",
       "   alcohol  quality  \n",
       "0      8.8        6  \n",
       "1      9.5        6  \n",
       "2     10.1        6  \n",
       "3      9.9        6  \n",
       "4      9.9        6  "
      ]
     },
     "execution_count": 285,
     "metadata": {},
     "output_type": "execute_result"
    }
   ],
   "source": [
    "import pandas as pd\n",
    "df = pd.read_csv('winequality/winequality-white.csv', delimiter=';')\n",
    "\n",
    "df.head()"
   ]
  },
  {
   "cell_type": "code",
   "execution_count": 286,
   "id": "b550b35a-71d7-49d6-8522-1eda970d65e7",
   "metadata": {},
   "outputs": [],
   "source": [
    "from sklearn.model_selection import train_test_split\n",
    "from sklearn.neighbors import KNeighborsClassifier\n",
    "\n",
    "X = df.drop(['quality'],axis=1) \n",
    "y = df['quality']\n",
    "\n",
    "X_train, X_test, y_train, y_test = train_test_split(X, y, test_size=0.3, random_state=42, stratify=y)"
   ]
  },
  {
   "cell_type": "code",
   "execution_count": 287,
   "id": "50e577d7-5785-4e3a-b82d-bce8913b8c7e",
   "metadata": {},
   "outputs": [
    {
     "name": "stdout",
     "output_type": "stream",
     "text": [
      "Precisão: 16.07%.\n",
      "Recall: 16.07%.\n",
      "F1-Measure: 16.07%.\n"
     ]
    }
   ],
   "source": [
    "neigh = KNeighborsClassifier(n_neighbors=3)\n",
    "neigh.fit(X_train,y_train)\n",
    "pred = neigh.predict(X_test)\n",
    "\n",
    "#y_train.shape \n",
    "#pred.shape\n",
    "\n",
    "k3_precision = precision(y_test, pred)\n",
    "k3_recall = recall(y_test, pred)\n",
    "k3_f1 = f1(y_test, pred)\n",
    "\n",
    "print('Precisão: {:.2f}%.'.format(k3_precision))\n",
    "print('Recall: {:.2f}%.'.format(k3_recall))\n",
    "print('F1-Measure: {:.2f}%.'.format(k3_f1))\n",
    "\n",
    "### OBS: para valores de k>3 dava divisão por 0 no calculo de precisão, recall e f1. Portanto, considerado apenas k=3"
   ]
  },
  {
   "cell_type": "markdown",
   "id": "d8bf90b1-2b95-4843-b18b-cc739896f4b7",
   "metadata": {},
   "source": [
    "### 3. Calcule MAE e RMSE para sua solução da questão 3.3 da Lista 05. Caso não tenha feito a questão 3.3 da Lista 05 terá que fazê-la agora."
   ]
  },
  {
   "cell_type": "code",
   "execution_count": 288,
   "id": "b7d2f0c2-5aaf-47e6-ae6d-9b8a653363c7",
   "metadata": {},
   "outputs": [
    {
     "data": {
      "text/html": [
       "<div>\n",
       "<style scoped>\n",
       "    .dataframe tbody tr th:only-of-type {\n",
       "        vertical-align: middle;\n",
       "    }\n",
       "\n",
       "    .dataframe tbody tr th {\n",
       "        vertical-align: top;\n",
       "    }\n",
       "\n",
       "    .dataframe thead th {\n",
       "        text-align: right;\n",
       "    }\n",
       "</style>\n",
       "<table border=\"1\" class=\"dataframe\">\n",
       "  <thead>\n",
       "    <tr style=\"text-align: right;\">\n",
       "      <th></th>\n",
       "      <th>fixed acidity</th>\n",
       "      <th>volatile acidity</th>\n",
       "      <th>citric acid</th>\n",
       "      <th>residual sugar</th>\n",
       "      <th>chlorides</th>\n",
       "      <th>free sulfur dioxide</th>\n",
       "      <th>total sulfur dioxide</th>\n",
       "      <th>density</th>\n",
       "      <th>pH</th>\n",
       "      <th>sulphates</th>\n",
       "      <th>alcohol</th>\n",
       "      <th>quality</th>\n",
       "    </tr>\n",
       "  </thead>\n",
       "  <tbody>\n",
       "    <tr>\n",
       "      <th>0</th>\n",
       "      <td>7.0</td>\n",
       "      <td>0.27</td>\n",
       "      <td>0.36</td>\n",
       "      <td>20.7</td>\n",
       "      <td>0.045</td>\n",
       "      <td>45.0</td>\n",
       "      <td>170.0</td>\n",
       "      <td>1.0010</td>\n",
       "      <td>3.00</td>\n",
       "      <td>0.45</td>\n",
       "      <td>8.8</td>\n",
       "      <td>6</td>\n",
       "    </tr>\n",
       "    <tr>\n",
       "      <th>1</th>\n",
       "      <td>6.3</td>\n",
       "      <td>0.30</td>\n",
       "      <td>0.34</td>\n",
       "      <td>1.6</td>\n",
       "      <td>0.049</td>\n",
       "      <td>14.0</td>\n",
       "      <td>132.0</td>\n",
       "      <td>0.9940</td>\n",
       "      <td>3.30</td>\n",
       "      <td>0.49</td>\n",
       "      <td>9.5</td>\n",
       "      <td>6</td>\n",
       "    </tr>\n",
       "    <tr>\n",
       "      <th>2</th>\n",
       "      <td>8.1</td>\n",
       "      <td>0.28</td>\n",
       "      <td>0.40</td>\n",
       "      <td>6.9</td>\n",
       "      <td>0.050</td>\n",
       "      <td>30.0</td>\n",
       "      <td>97.0</td>\n",
       "      <td>0.9951</td>\n",
       "      <td>3.26</td>\n",
       "      <td>0.44</td>\n",
       "      <td>10.1</td>\n",
       "      <td>6</td>\n",
       "    </tr>\n",
       "    <tr>\n",
       "      <th>3</th>\n",
       "      <td>7.2</td>\n",
       "      <td>0.23</td>\n",
       "      <td>0.32</td>\n",
       "      <td>8.5</td>\n",
       "      <td>0.058</td>\n",
       "      <td>47.0</td>\n",
       "      <td>186.0</td>\n",
       "      <td>0.9956</td>\n",
       "      <td>3.19</td>\n",
       "      <td>0.40</td>\n",
       "      <td>9.9</td>\n",
       "      <td>6</td>\n",
       "    </tr>\n",
       "    <tr>\n",
       "      <th>4</th>\n",
       "      <td>7.2</td>\n",
       "      <td>0.23</td>\n",
       "      <td>0.32</td>\n",
       "      <td>8.5</td>\n",
       "      <td>0.058</td>\n",
       "      <td>47.0</td>\n",
       "      <td>186.0</td>\n",
       "      <td>0.9956</td>\n",
       "      <td>3.19</td>\n",
       "      <td>0.40</td>\n",
       "      <td>9.9</td>\n",
       "      <td>6</td>\n",
       "    </tr>\n",
       "  </tbody>\n",
       "</table>\n",
       "</div>"
      ],
      "text/plain": [
       "   fixed acidity  volatile acidity  citric acid  residual sugar  chlorides  \\\n",
       "0            7.0              0.27         0.36            20.7      0.045   \n",
       "1            6.3              0.30         0.34             1.6      0.049   \n",
       "2            8.1              0.28         0.40             6.9      0.050   \n",
       "3            7.2              0.23         0.32             8.5      0.058   \n",
       "4            7.2              0.23         0.32             8.5      0.058   \n",
       "\n",
       "   free sulfur dioxide  total sulfur dioxide  density    pH  sulphates  \\\n",
       "0                 45.0                 170.0   1.0010  3.00       0.45   \n",
       "1                 14.0                 132.0   0.9940  3.30       0.49   \n",
       "2                 30.0                  97.0   0.9951  3.26       0.44   \n",
       "3                 47.0                 186.0   0.9956  3.19       0.40   \n",
       "4                 47.0                 186.0   0.9956  3.19       0.40   \n",
       "\n",
       "   alcohol  quality  \n",
       "0      8.8        6  \n",
       "1      9.5        6  \n",
       "2     10.1        6  \n",
       "3      9.9        6  \n",
       "4      9.9        6  "
      ]
     },
     "execution_count": 288,
     "metadata": {},
     "output_type": "execute_result"
    }
   ],
   "source": [
    "df = pd.read_csv('winequality/winequality-white.csv', delimiter=';')\n",
    "df.head()"
   ]
  },
  {
   "cell_type": "code",
   "execution_count": 289,
   "id": "0a171f6f-3ba8-433a-a8ba-f01e900ebc4c",
   "metadata": {},
   "outputs": [],
   "source": [
    "X = df.drop(['quality'],axis=1) \n",
    "y = df['quality']\n",
    "\n",
    "X_train, X_test, y_train, y_test = train_test_split(X, y, test_size=0.3, random_state=42, stratify=y)"
   ]
  },
  {
   "cell_type": "code",
   "execution_count": 290,
   "id": "91b6d17e-894a-45a1-b7bb-04631e4c9264",
   "metadata": {},
   "outputs": [],
   "source": [
    "from sklearn.neighbors import KNeighborsRegressor\n",
    "\n",
    "model = KNeighborsRegressor(n_neighbors=5)\n",
    "model.fit(X_train, y_train)\n",
    "\n",
    "predict = model.predict(X_test)\n",
    "\n",
    "y_true = y_test.to_numpy()\n",
    "\n",
    "k5_mae = mae(y_true, predict)\n",
    "\n",
    "k5_rmse = rmse(y_true, predict)"
   ]
  },
  {
   "cell_type": "code",
   "execution_count": 291,
   "id": "1667a94b-676f-4189-98d0-3bfbab1017bb",
   "metadata": {},
   "outputs": [
    {
     "name": "stdout",
     "output_type": "stream",
     "text": [
      "MAE: 57.86%\n"
     ]
    }
   ],
   "source": [
    "print('MAE: {:.2f}%'.format(k5_mae*100))"
   ]
  },
  {
   "cell_type": "code",
   "execution_count": 292,
   "id": "1c04f4d9-3008-4408-94d6-a5c75076434f",
   "metadata": {},
   "outputs": [
    {
     "name": "stdout",
     "output_type": "stream",
     "text": [
      "RMSE: 58.52%\n"
     ]
    }
   ],
   "source": [
    "print('RMSE: {:.2f}%'.format(k5_rmse*100))"
   ]
  },
  {
   "cell_type": "code",
   "execution_count": null,
   "id": "911a7828-dfe4-4dc8-9356-e0fca6d84828",
   "metadata": {},
   "outputs": [],
   "source": []
  }
 ],
 "metadata": {
  "kernelspec": {
   "display_name": "Python 3",
   "language": "python",
   "name": "python3"
  },
  "language_info": {
   "codemirror_mode": {
    "name": "ipython",
    "version": 3
   },
   "file_extension": ".py",
   "mimetype": "text/x-python",
   "name": "python",
   "nbconvert_exporter": "python",
   "pygments_lexer": "ipython3",
   "version": "3.9.5"
  }
 },
 "nbformat": 4,
 "nbformat_minor": 5
}
