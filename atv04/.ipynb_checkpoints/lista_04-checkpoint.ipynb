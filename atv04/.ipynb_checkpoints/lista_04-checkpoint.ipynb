{
 "cells": [
  {
   "cell_type": "markdown",
   "id": "bacb2c02-158b-4181-8eee-ea5f2fa2ed08",
   "metadata": {},
   "source": [
    "### 1. Resolver a classificação do Iris dataset para k=3 e k=5 com essas funções que implementamos no seguinte documento colab. Usando 70% dos dados para treino e 30% para teste. Ou seja: não é para usar a implementação do scikit para o kNN, nem o split_train_test do scikit"
   ]
  },
  {
   "cell_type": "code",
   "execution_count": 1,
   "id": "ccbea7a3-c128-44e3-9bec-d54fc602f81e",
   "metadata": {},
   "outputs": [],
   "source": [
    "import numpy as np\n",
    "from matplotlib import pyplot as plt\n",
    "from sklearn import datasets"
   ]
  },
  {
   "cell_type": "code",
   "execution_count": 2,
   "id": "e3c5fa3f-54d4-459e-bcb5-a0f98038cac7",
   "metadata": {},
   "outputs": [],
   "source": [
    "X, y = datasets.load_iris(return_X_y=True)"
   ]
  },
  {
   "cell_type": "code",
   "execution_count": 3,
   "id": "8e9e4888-afe6-4196-b6e0-10033da1ade5",
   "metadata": {},
   "outputs": [
    {
     "data": {
      "image/png": "[encoded data removed]",
      "text/plain": [
       "<Figure size 432x288 with 1 Axes>"
      ]
     },
     "metadata": {
      "needs_background": "light"
     },
     "output_type": "display_data"
    }
   ],
   "source": [
    "plt.scatter(X[:, 0], X[:, 1], c=y);"
   ]
  },
  {
   "cell_type": "markdown",
   "id": "1b0d77b1-75e7-4a4c-b093-c566f4dc528c",
   "metadata": {},
   "source": [
    "## Distância euclidiana\n",
    "A distância euclidiana entre os pontos $ P=(p_{1},p_{2},\\dots ,p_{n})$ e $Q=(q_{1},q_{2},\\dots ,q_{n})$ em um espaço euclidiano n-dimensional, é definida como:\n",
    "\n",
    "$$ \\sqrt{ (p_{1}-q_{1})^{2} + (p_{2}-q_{2})^{2} + \\cdots +(p_{n}-q_{n})^{2} } = \\sqrt {\\sum _{i=1}^{n}(p_{i}-q_{i})^{2}} $$"
   ]
  },
  {
   "cell_type": "code",
   "execution_count": 4,
   "id": "9add0b70-d705-48d0-9c6e-ff8a328da635",
   "metadata": {},
   "outputs": [],
   "source": [
    "def euclidean_distances(X, X_row):\n",
    "    X_ = (X - X_row) ** 2\n",
    "    return np.sum(X_, axis=1) ** 0.5"
   ]
  },
  {
   "cell_type": "markdown",
   "id": "916d6011-6357-4f37-86ca-16a48febe2d2",
   "metadata": {},
   "source": [
    "## Obtenção dos $k$ vizinhos mais próximos"
   ]
  },
  {
   "cell_type": "code",
   "execution_count": 5,
   "id": "fe60d6a0-b7e0-490f-bb52-e48b1cc27c90",
   "metadata": {},
   "outputs": [],
   "source": [
    "def get_neighbors(X_train, test_row, k):\n",
    "    distances = euclidean_distances(X_train, test_row)\n",
    "    idx_sort = np.argsort(distances)\n",
    "    return idx_sort[:k]"
   ]
  },
  {
   "cell_type": "markdown",
   "id": "634971ad-179d-4f52-a579-1c8b9df60a90",
   "metadata": {},
   "source": [
    "## Classsificação de uma nova linha dado um valor de $k$"
   ]
  },
  {
   "cell_type": "code",
   "execution_count": 6,
   "id": "7ccaf36a-8cea-47ac-8eed-5592a280579f",
   "metadata": {},
   "outputs": [],
   "source": [
    "def predict_classification(X, y, test_row, k):\n",
    "    idx_sort = get_neighbors(X, test_row, k)\n",
    "    output_values = y[idx_sort]\n",
    "    counts = np.unique(output_values, return_counts=True)\n",
    "    idx_max = np.argmax(counts[1])\n",
    "    prediction = counts[0][idx_max]\n",
    "    print('idx_sort:{}, output_values:{}, prediction:{}'.format(idx_sort, output_values, prediction))\n",
    "    return prediction"
   ]
  },
  {
   "cell_type": "code",
   "execution_count": 7,
   "id": "c543ac07-6639-4ee2-9a3d-bac2d8f1e8ce",
   "metadata": {},
   "outputs": [],
   "source": [
    "idx_sort = get_neighbors(X, y[0], 3)"
   ]
  },
  {
   "cell_type": "code",
   "execution_count": 8,
   "id": "e0e00200-b5c4-4222-97a6-ebefeb536357",
   "metadata": {},
   "outputs": [
    {
     "name": "stdout",
     "output_type": "stream",
     "text": [
      "idx_sort:[41 13  8], output_values:[0 0 0], prediction:0\n"
     ]
    },
    {
     "data": {
      "text/plain": [
       "0"
      ]
     },
     "execution_count": 8,
     "metadata": {},
     "output_type": "execute_result"
    }
   ],
   "source": [
    "predict_classification(X, y, y[0], 3)"
   ]
  },
  {
   "cell_type": "markdown",
   "id": "9f8aa308-7b9f-49fb-8985-510e8f712305",
   "metadata": {},
   "source": [
    "### Split treino e teste"
   ]
  },
  {
   "cell_type": "code",
   "execution_count": 9,
   "id": "54df804e-8538-4f63-9caa-a7d93b4c4762",
   "metadata": {},
   "outputs": [],
   "source": [
    "def split_train_test(data, test_ratio):\n",
    "    shuffled_indices = np.random.seed(42)\n",
    "    shuffled_indices = np.random.permutation(len(data))\n",
    "    test_set_size = int(len(data) * test_ratio)\n",
    "    test_indices = shuffled_indices[:test_set_size]\n",
    "    train_indices= shuffled_indices[test_set_size:]\n",
    "    return data[train_indices], data[test_indices]"
   ]
  },
  {
   "cell_type": "markdown",
   "id": "e45d605d-55b2-4018-8ced-7e2d67cbe231",
   "metadata": {},
   "source": [
    "### separar conjunto de teste em 30% dos dados e treino 70% dos dados."
   ]
  },
  {
   "cell_type": "code",
   "execution_count": 10,
   "id": "215c3d80-0c52-45d6-bcb4-f28ccb5d7f21",
   "metadata": {},
   "outputs": [
    {
     "name": "stdout",
     "output_type": "stream",
     "text": [
      "105 train + 45 test\n"
     ]
    }
   ],
   "source": [
    "train_set, test_set = split_train_test(X, 0.3)\n",
    "\n",
    "print(len(train_set), \"train +\", len(test_set), \"test\")"
   ]
  },
  {
   "cell_type": "code",
   "execution_count": 11,
   "id": "acb219fe-9be7-4b09-bad3-0d8d422bca86",
   "metadata": {},
   "outputs": [
    {
     "name": "stdout",
     "output_type": "stream",
     "text": [
      "idx_sort:[64 75 24], output_values:[1 1 0], prediction:1\n"
     ]
    },
    {
     "data": {
      "text/plain": [
       "1"
      ]
     },
     "execution_count": 11,
     "metadata": {},
     "output_type": "execute_result"
    }
   ],
   "source": [
    "idx_sort = get_neighbors(train_set, test_set[0], 3)\n",
    "predict_classification(train_set, y, test_set[0], 3)\n",
    "\n",
    "# testar se não possui erros dos index dos arrays"
   ]
  },
  {
   "cell_type": "markdown",
   "id": "f66126f4-2ec3-4372-80fe-5673bc24316e",
   "metadata": {},
   "source": [
    "### previsão com k=3 e k=5"
   ]
  },
  {
   "cell_type": "code",
   "execution_count": 12,
   "id": "cd565121-322f-4ad4-bb6e-098faf0b423f",
   "metadata": {},
   "outputs": [],
   "source": [
    "def predict_k3():\n",
    "    print('Para k = 3:')\n",
    "    for i, x in np.ndenumerate(test_set):\n",
    "        predict_classification(train_set, y, test_set[i], 3)\n",
    "\n",
    "def predict_k5():\n",
    "    print('Para k = 5:')\n",
    "    for i, x in np.ndenumerate(test_set):\n",
    "        predict_classification(train_set, y, test_set[i], 5)"
   ]
  },
  {
   "cell_type": "code",
   "execution_count": 13,
   "id": "accb39de-4cb8-426d-ae44-1945d2ad85ba",
   "metadata": {},
   "outputs": [
    {
     "name": "stdout",
     "output_type": "stream",
     "text": [
      "Para k = 3:\n",
      "idx_sort:[ 4 62 59], output_values:[0 1 1], prediction:1\n",
      "idx_sort:[84 45 34], output_values:[1 0 0], prediction:0\n",
      "idx_sort:[31 41 59], output_values:[0 0 1], prediction:0\n",
      "idx_sort:[76 52 51], output_values:[1 1 1], prediction:1\n",
      "idx_sort:[62 59 85], output_values:[1 1 1], prediction:1\n",
      "idx_sort:[101  41  97], output_values:[2 0 1], prediction:0\n",
      "idx_sort:[76 51 52], output_values:[1 1 1], prediction:1\n",
      "idx_sort:[76 52 51], output_values:[1 1 1], prediction:1\n",
      "idx_sort:[22  4 62], output_values:[0 0 1], prediction:0\n",
      "idx_sort:[84 45 34], output_values:[1 0 0], prediction:0\n",
      "idx_sort:[ 4 22 62], output_values:[0 0 1], prediction:0\n",
      "idx_sort:[84 45 76], output_values:[1 0 1], prediction:1\n",
      "idx_sort:[ 4 62 59], output_values:[0 1 1], prediction:1\n",
      "idx_sort:[ 84 101  45], output_values:[1 2 0], prediction:0\n",
      "idx_sort:[41 31 59], output_values:[0 0 1], prediction:0\n",
      "idx_sort:[76 51 52], output_values:[1 1 1], prediction:1\n",
      "idx_sort:[ 4 22 62], output_values:[0 0 1], prediction:0\n",
      "idx_sort:[84 45 34], output_values:[1 0 0], prediction:0\n",
      "idx_sort:[31 59 41], output_values:[0 1 0], prediction:0\n",
      "idx_sort:[76 51 52], output_values:[1 1 1], prediction:1\n",
      "idx_sort:[59 62 31], output_values:[1 1 0], prediction:1\n",
      "idx_sort:[101  74  30], output_values:[2 1 0], prediction:0\n",
      "idx_sort:[76 51 52], output_values:[1 1 1], prediction:1\n",
      "idx_sort:[76 52 51], output_values:[1 1 1], prediction:1\n",
      "idx_sort:[62 59 85], output_values:[1 1 1], prediction:1\n",
      "idx_sort:[ 84 101  45], output_values:[1 2 0], prediction:0\n",
      "idx_sort:[101  74  30], output_values:[2 1 0], prediction:0\n",
      "idx_sort:[76 52 51], output_values:[1 1 1], prediction:1\n",
      "idx_sort:[ 4 22 62], output_values:[0 0 1], prediction:0\n",
      "idx_sort:[101  74  84], output_values:[2 1 1], prediction:1\n",
      "idx_sort:[59 31 62], output_values:[1 0 1], prediction:1\n",
      "idx_sort:[84 45 76], output_values:[1 0 1], prediction:1\n",
      "idx_sort:[ 4 62 85], output_values:[0 1 1], prediction:1\n",
      "idx_sort:[76 51 84], output_values:[1 1 1], prediction:1\n",
      "idx_sort:[41 31 59], output_values:[0 0 1], prediction:0\n",
      "idx_sort:[76 51 52], output_values:[1 1 1], prediction:1\n",
      "idx_sort:[62 59  4], output_values:[1 1 0], prediction:1\n",
      "idx_sort:[84 45 34], output_values:[1 0 0], prediction:0\n",
      "idx_sort:[101  41  97], output_values:[2 0 1], prediction:0\n",
      "idx_sort:[76 52 51], output_values:[1 1 1], prediction:1\n",
      "idx_sort:[ 4 62 85], output_values:[0 1 1], prediction:1\n",
      "idx_sort:[101  74  84], output_values:[2 1 1], prediction:1\n",
      "idx_sort:[59 31 62], output_values:[1 0 1], prediction:1\n",
      "idx_sort:[76 51 57], output_values:[1 1 1], prediction:1\n",
      "idx_sort:[31 59 41], output_values:[0 1 0], prediction:0\n",
      "idx_sort:[101  84  45], output_values:[2 1 0], prediction:0\n",
      "idx_sort:[76 51 52], output_values:[1 1 1], prediction:1\n",
      "idx_sort:[76 52 51], output_values:[1 1 1], prediction:1\n",
      "idx_sort:[59 62 31], output_values:[1 1 0], prediction:1\n",
      "idx_sort:[101  74  30], output_values:[2 1 0], prediction:0\n",
      "idx_sort:[76 52 51], output_values:[1 1 1], prediction:1\n",
      "idx_sort:[76 52 51], output_values:[1 1 1], prediction:1\n",
      "idx_sort:[31 59 62], output_values:[0 1 1], prediction:1\n",
      "idx_sort:[101  74  84], output_values:[2 1 1], prediction:1\n",
      "idx_sort:[76 51 52], output_values:[1 1 1], prediction:1\n",
      "idx_sort:[76 52 51], output_values:[1 1 1], prediction:1\n",
      "idx_sort:[59 31 62], output_values:[1 0 1], prediction:1\n",
      "idx_sort:[101  41  97], output_values:[2 0 1], prediction:0\n",
      "idx_sort:[76 51 52], output_values:[1 1 1], prediction:1\n",
      "idx_sort:[76 52 51], output_values:[1 1 1], prediction:1\n",
      "idx_sort:[ 4 62 85], output_values:[0 1 1], prediction:1\n",
      "idx_sort:[101  74  84], output_values:[2 1 1], prediction:1\n",
      "idx_sort:[31 41 59], output_values:[0 0 1], prediction:0\n",
      "idx_sort:[76 51 52], output_values:[1 1 1], prediction:1\n",
      "idx_sort:[ 4 62 85], output_values:[0 1 1], prediction:1\n",
      "idx_sort:[101  84  45], output_values:[2 1 0], prediction:0\n",
      "idx_sort:[62 59  4], output_values:[1 1 0], prediction:1\n",
      "idx_sort:[76 51 84], output_values:[1 1 1], prediction:1\n",
      "idx_sort:[62 59 85], output_values:[1 1 1], prediction:1\n",
      "idx_sort:[84 45 34], output_values:[1 0 0], prediction:0\n",
      "idx_sort:[101  41  97], output_values:[2 0 1], prediction:0\n",
      "idx_sort:[76 52 51], output_values:[1 1 1], prediction:1\n",
      "idx_sort:[62 59 85], output_values:[1 1 1], prediction:1\n",
      "idx_sort:[84 45 34], output_values:[1 0 0], prediction:0\n",
      "idx_sort:[41 31 59], output_values:[0 0 1], prediction:0\n",
      "idx_sort:[76 52 51], output_values:[1 1 1], prediction:1\n",
      "idx_sort:[ 4 62 85], output_values:[0 1 1], prediction:1\n",
      "idx_sort:[84 45 34], output_values:[1 0 0], prediction:0\n",
      "idx_sort:[62 59 85], output_values:[1 1 1], prediction:1\n",
      "idx_sort:[76 51 84], output_values:[1 1 1], prediction:1\n",
      "idx_sort:[31 41 59], output_values:[0 0 1], prediction:0\n",
      "idx_sort:[101  74  84], output_values:[2 1 1], prediction:1\n",
      "idx_sort:[76 51 52], output_values:[1 1 1], prediction:1\n",
      "idx_sort:[76 52 51], output_values:[1 1 1], prediction:1\n",
      "idx_sort:[ 4 62 59], output_values:[0 1 1], prediction:1\n",
      "idx_sort:[101  84  45], output_values:[2 1 0], prediction:0\n",
      "idx_sort:[31 59 62], output_values:[0 1 1], prediction:1\n",
      "idx_sort:[76 51 57], output_values:[1 1 1], prediction:1\n",
      "idx_sort:[59 31 62], output_values:[1 0 1], prediction:1\n",
      "idx_sort:[101  74  30], output_values:[2 1 0], prediction:0\n",
      "idx_sort:[76 51 52], output_values:[1 1 1], prediction:1\n",
      "idx_sort:[76 52 51], output_values:[1 1 1], prediction:1\n",
      "idx_sort:[ 4 62 85], output_values:[0 1 1], prediction:1\n",
      "idx_sort:[84 45 34], output_values:[1 0 0], prediction:0\n",
      "idx_sort:[62 59 85], output_values:[1 1 1], prediction:1\n",
      "idx_sort:[76 51 57], output_values:[1 1 1], prediction:1\n",
      "idx_sort:[22  4 62], output_values:[0 0 1], prediction:0\n",
      "idx_sort:[101  41  97], output_values:[2 0 1], prediction:0\n",
      "idx_sort:[ 4 62 85], output_values:[0 1 1], prediction:1\n",
      "idx_sort:[76 51 57], output_values:[1 1 1], prediction:1\n",
      "idx_sort:[ 4 22 62], output_values:[0 0 1], prediction:0\n",
      "idx_sort:[101  84  45], output_values:[2 1 0], prediction:0\n",
      "idx_sort:[59 31 62], output_values:[1 0 1], prediction:1\n",
      "idx_sort:[84 45 76], output_values:[1 0 1], prediction:1\n",
      "idx_sort:[ 4 22 62], output_values:[0 0 1], prediction:0\n",
      "idx_sort:[84 45 34], output_values:[1 0 0], prediction:0\n",
      "idx_sort:[62 59  4], output_values:[1 1 0], prediction:1\n",
      "idx_sort:[76 51 57], output_values:[1 1 1], prediction:1\n",
      "idx_sort:[ 4 22 62], output_values:[0 0 1], prediction:0\n",
      "idx_sort:[101  74  84], output_values:[2 1 1], prediction:1\n",
      "idx_sort:[62  4 59], output_values:[1 0 1], prediction:1\n",
      "idx_sort:[84 45 76], output_values:[1 0 1], prediction:1\n",
      "idx_sort:[31 59 41], output_values:[0 1 0], prediction:0\n",
      "idx_sort:[101  84  45], output_values:[2 1 0], prediction:0\n",
      "idx_sort:[76 51 52], output_values:[1 1 1], prediction:1\n",
      "idx_sort:[76 52 51], output_values:[1 1 1], prediction:1\n",
      "idx_sort:[31 59 41], output_values:[0 1 0], prediction:0\n",
      "idx_sort:[101  74  84], output_values:[2 1 1], prediction:1\n",
      "idx_sort:[76 51 52], output_values:[1 1 1], prediction:1\n",
      "idx_sort:[76 52 51], output_values:[1 1 1], prediction:1\n",
      "idx_sort:[41 31 59], output_values:[0 0 1], prediction:0\n",
      "idx_sort:[101  74  30], output_values:[2 1 0], prediction:0\n",
      "idx_sort:[76 52 51], output_values:[1 1 1], prediction:1\n",
      "idx_sort:[76 52 51], output_values:[1 1 1], prediction:1\n",
      "idx_sort:[62 59 85], output_values:[1 1 1], prediction:1\n",
      "idx_sort:[41 31 97], output_values:[0 0 1], prediction:0\n",
      "idx_sort:[76 51 52], output_values:[1 1 1], prediction:1\n",
      "idx_sort:[76 52 51], output_values:[1 1 1], prediction:1\n",
      "idx_sort:[ 4 22 62], output_values:[0 0 1], prediction:0\n",
      "idx_sort:[101  74  84], output_values:[2 1 1], prediction:1\n",
      "idx_sort:[41 31 97], output_values:[0 0 1], prediction:0\n",
      "idx_sort:[76 51 52], output_values:[1 1 1], prediction:1\n",
      "idx_sort:[31 59 41], output_values:[0 1 0], prediction:0\n",
      "idx_sort:[101  74  30], output_values:[2 1 0], prediction:0\n",
      "idx_sort:[76 51 52], output_values:[1 1 1], prediction:1\n",
      "idx_sort:[76 52 51], output_values:[1 1 1], prediction:1\n",
      "idx_sort:[41 31 97], output_values:[0 0 1], prediction:0\n",
      "idx_sort:[101  74  84], output_values:[2 1 1], prediction:1\n",
      "idx_sort:[76 52 51], output_values:[1 1 1], prediction:1\n",
      "idx_sort:[76 52 51], output_values:[1 1 1], prediction:1\n",
      "idx_sort:[ 4 62 85], output_values:[0 1 1], prediction:1\n",
      "idx_sort:[84 45 34], output_values:[1 0 0], prediction:0\n",
      "idx_sort:[59 31 62], output_values:[1 0 1], prediction:1\n",
      "idx_sort:[76 51 57], output_values:[1 1 1], prediction:1\n",
      "idx_sort:[ 4 62 85], output_values:[0 1 1], prediction:1\n",
      "idx_sort:[101  74  84], output_values:[2 1 1], prediction:1\n",
      "idx_sort:[41 31 59], output_values:[0 0 1], prediction:0\n",
      "idx_sort:[76 51 52], output_values:[1 1 1], prediction:1\n",
      "idx_sort:[59 31 62], output_values:[1 0 1], prediction:1\n",
      "idx_sort:[101  74  30], output_values:[2 1 0], prediction:0\n",
      "idx_sort:[76 51 52], output_values:[1 1 1], prediction:1\n",
      "idx_sort:[76 52 51], output_values:[1 1 1], prediction:1\n",
      "idx_sort:[59 31 62], output_values:[1 0 1], prediction:1\n",
      "idx_sort:[101  74  30], output_values:[2 1 0], prediction:0\n",
      "idx_sort:[76 51 52], output_values:[1 1 1], prediction:1\n",
      "idx_sort:[76 52 51], output_values:[1 1 1], prediction:1\n",
      "idx_sort:[59 31 62], output_values:[1 0 1], prediction:1\n",
      "idx_sort:[ 41  97 101], output_values:[0 1 2], prediction:0\n",
      "idx_sort:[76 51 52], output_values:[1 1 1], prediction:1\n",
      "idx_sort:[76 52 51], output_values:[1 1 1], prediction:1\n",
      "idx_sort:[62 59  4], output_values:[1 1 0], prediction:1\n",
      "idx_sort:[84 45 34], output_values:[1 0 0], prediction:0\n",
      "idx_sort:[59 31 62], output_values:[1 0 1], prediction:1\n",
      "idx_sort:[76 51 57], output_values:[1 1 1], prediction:1\n",
      "idx_sort:[ 4 62 59], output_values:[0 1 1], prediction:1\n",
      "idx_sort:[101  74  30], output_values:[2 1 0], prediction:0\n",
      "idx_sort:[41 31 59], output_values:[0 0 1], prediction:0\n",
      "idx_sort:[76 51 52], output_values:[1 1 1], prediction:1\n",
      "idx_sort:[ 4 22 62], output_values:[0 0 1], prediction:0\n",
      "idx_sort:[101  74  84], output_values:[2 1 1], prediction:1\n",
      "idx_sort:[31 41 59], output_values:[0 0 1], prediction:0\n",
      "idx_sort:[76 51 52], output_values:[1 1 1], prediction:1\n",
      "idx_sort:[59 62 31], output_values:[1 1 0], prediction:1\n",
      "idx_sort:[101  41  97], output_values:[2 0 1], prediction:0\n",
      "idx_sort:[76 52 51], output_values:[1 1 1], prediction:1\n",
      "idx_sort:[76 52 51], output_values:[1 1 1], prediction:1\n",
      "idx_sort:[59 62 31], output_values:[1 1 0], prediction:1\n",
      "idx_sort:[101  74  97], output_values:[2 1 1], prediction:1\n",
      "idx_sort:[76 51 52], output_values:[1 1 1], prediction:1\n",
      "idx_sort:[76 52 51], output_values:[1 1 1], prediction:1\n",
      "\n",
      "\n",
      "\n",
      "Para k = 5:\n",
      "idx_sort:[ 4 62 59 85 31], output_values:[0 1 1 1 0], prediction:1\n",
      "idx_sort:[ 84  45  34 101  74], output_values:[1 0 0 2 1], prediction:0\n",
      "idx_sort:[31 41 59 62 68], output_values:[0 0 1 1 1], prediction:1\n",
      "idx_sort:[76 52 51 57 55], output_values:[1 1 1 1 1], prediction:1\n",
      "idx_sort:[62 59 85  4 31], output_values:[1 1 1 0 0], prediction:1\n",
      "idx_sort:[101  41  97  74  30], output_values:[2 0 1 1 0], prediction:0\n",
      "idx_sort:[76 51 52 57 55], output_values:[1 1 1 1 1], prediction:1\n",
      "idx_sort:[76 52 51 57 55], output_values:[1 1 1 1 1], prediction:1\n",
      "idx_sort:[22  4 62 85 59], output_values:[0 0 1 1 1], prediction:1\n",
      "idx_sort:[ 84  45  34  14 101], output_values:[1 0 0 0 2], prediction:0\n",
      "idx_sort:[ 4 22 62 85 59], output_values:[0 0 1 1 1], prediction:1\n",
      "idx_sort:[84 45 76 34 51], output_values:[1 0 1 0 1], prediction:1\n",
      "idx_sort:[ 4 62 59 85 31], output_values:[0 1 1 1 0], prediction:1\n",
      "idx_sort:[ 84 101  45  34  74], output_values:[1 2 0 0 1], prediction:0\n",
      "idx_sort:[41 31 59 97 68], output_values:[0 0 1 1 1], prediction:1\n",
      "idx_sort:[76 51 52 57 55], output_values:[1 1 1 1 1], prediction:1\n",
      "idx_sort:[ 4 22 62 85 59], output_values:[0 0 1 1 1], prediction:1\n",
      "idx_sort:[ 84  45  34 101  74], output_values:[1 0 0 2 1], prediction:0\n",
      "idx_sort:[31 59 41 62 68], output_values:[0 1 0 1 1], prediction:1\n",
      "idx_sort:[76 51 52 57 55], output_values:[1 1 1 1 1], prediction:1\n",
      "idx_sort:[59 62 31 85  4], output_values:[1 1 0 1 0], prediction:1\n",
      "idx_sort:[101  74  30  84  45], output_values:[2 1 0 1 0], prediction:0\n",
      "idx_sort:[76 51 52 57 55], output_values:[1 1 1 1 1], prediction:1\n",
      "idx_sort:[76 52 51 57 55], output_values:[1 1 1 1 1], prediction:1\n",
      "idx_sort:[62 59 85 31  4], output_values:[1 1 1 0 0], prediction:1\n",
      "idx_sort:[ 84 101  45  34  74], output_values:[1 2 0 0 1], prediction:0\n",
      "idx_sort:[101  74  30  97  41], output_values:[2 1 0 1 0], prediction:0\n",
      "idx_sort:[76 52 51 57 55], output_values:[1 1 1 1 1], prediction:1\n",
      "idx_sort:[ 4 22 62 85 59], output_values:[0 0 1 1 1], prediction:1\n",
      "idx_sort:[101  74  84  45  34], output_values:[2 1 1 0 0], prediction:0\n",
      "idx_sort:[59 31 62 85 41], output_values:[1 0 1 1 0], prediction:1\n",
      "idx_sort:[84 45 76 34 51], output_values:[1 0 1 0 1], prediction:1\n",
      "idx_sort:[ 4 62 85 59 31], output_values:[0 1 1 1 0], prediction:1\n",
      "idx_sort:[76 51 84 57 45], output_values:[1 1 1 1 0], prediction:1\n",
      "idx_sort:[41 31 59 97 68], output_values:[0 0 1 1 1], prediction:1\n",
      "idx_sort:[76 51 52 57 55], output_values:[1 1 1 1 1], prediction:1\n",
      "idx_sort:[62 59  4 85 31], output_values:[1 1 0 1 0], prediction:1\n",
      "idx_sort:[ 84  45  34 101  14], output_values:[1 0 0 2 0], prediction:0\n",
      "idx_sort:[101  41  97  30  74], output_values:[2 0 1 0 1], prediction:0\n",
      "idx_sort:[76 52 51 57 55], output_values:[1 1 1 1 1], prediction:1\n",
      "idx_sort:[ 4 62 85 22 59], output_values:[0 1 1 0 1], prediction:1\n",
      "idx_sort:[101  74  84  45  34], output_values:[2 1 1 0 0], prediction:0\n",
      "idx_sort:[59 31 62 85 41], output_values:[1 0 1 1 0], prediction:1\n",
      "idx_sort:[76 51 57 52 84], output_values:[1 1 1 1 1], prediction:1\n",
      "idx_sort:[31 59 41 62 68], output_values:[0 1 0 1 1], prediction:1\n",
      "idx_sort:[101  84  45  74  34], output_values:[2 1 0 1 0], prediction:0\n",
      "idx_sort:[76 51 52 57 55], output_values:[1 1 1 1 1], prediction:1\n",
      "idx_sort:[76 52 51 57 55], output_values:[1 1 1 1 1], prediction:1\n",
      "idx_sort:[59 62 31 85  4], output_values:[1 1 0 1 0], prediction:1\n",
      "idx_sort:[101  74  30  97  84], output_values:[2 1 0 1 1], prediction:1\n",
      "idx_sort:[76 52 51 57 55], output_values:[1 1 1 1 1], prediction:1\n",
      "idx_sort:[76 52 51 57 55], output_values:[1 1 1 1 1], prediction:1\n",
      "idx_sort:[31 59 62 41 68], output_values:[0 1 1 0 1], prediction:1\n",
      "idx_sort:[101  74  84  45  34], output_values:[2 1 1 0 0], prediction:0\n",
      "idx_sort:[76 51 52 57 55], output_values:[1 1 1 1 1], prediction:1\n",
      "idx_sort:[76 52 51 57 55], output_values:[1 1 1 1 1], prediction:1\n",
      "idx_sort:[59 31 62 85 41], output_values:[1 0 1 1 0], prediction:1\n",
      "idx_sort:[101  41  97  74  30], output_values:[2 0 1 1 0], prediction:0\n",
      "idx_sort:[76 51 52 57 55], output_values:[1 1 1 1 1], prediction:1\n",
      "idx_sort:[76 52 51 57 55], output_values:[1 1 1 1 1], prediction:1\n",
      "idx_sort:[ 4 62 85 59 22], output_values:[0 1 1 1 0], prediction:1\n",
      "idx_sort:[101  74  84  45  30], output_values:[2 1 1 0 0], prediction:0\n",
      "idx_sort:[31 41 59 62 68], output_values:[0 0 1 1 1], prediction:1\n",
      "idx_sort:[76 51 52 57 55], output_values:[1 1 1 1 1], prediction:1\n",
      "idx_sort:[ 4 62 85 22 59], output_values:[0 1 1 0 1], prediction:1\n",
      "idx_sort:[101  84  45  74  34], output_values:[2 1 0 1 0], prediction:0\n",
      "idx_sort:[62 59  4 85 31], output_values:[1 1 0 1 0], prediction:1\n",
      "idx_sort:[76 51 84 57 45], output_values:[1 1 1 1 0], prediction:1\n",
      "idx_sort:[62 59 85 31  4], output_values:[1 1 1 0 0], prediction:1\n",
      "idx_sort:[84 45 34 14 51], output_values:[1 0 0 0 1], prediction:0\n",
      "idx_sort:[101  41  97  30  74], output_values:[2 0 1 0 1], prediction:0\n",
      "idx_sort:[76 52 51 57 55], output_values:[1 1 1 1 1], prediction:1\n",
      "idx_sort:[62 59 85  4 31], output_values:[1 1 1 0 0], prediction:1\n",
      "idx_sort:[ 84  45  34 101  74], output_values:[1 0 0 2 1], prediction:0\n",
      "idx_sort:[41 31 59 97 68], output_values:[0 0 1 1 1], prediction:1\n",
      "idx_sort:[76 52 51 57 55], output_values:[1 1 1 1 1], prediction:1\n",
      "idx_sort:[ 4 62 85 59 22], output_values:[0 1 1 1 0], prediction:1\n",
      "idx_sort:[ 84  45  34 101  74], output_values:[1 0 0 2 1], prediction:0\n",
      "idx_sort:[62 59 85 31  4], output_values:[1 1 1 0 0], prediction:1\n",
      "idx_sort:[76 51 84 57 45], output_values:[1 1 1 1 0], prediction:1\n",
      "idx_sort:[31 41 59 62 68], output_values:[0 0 1 1 1], prediction:1\n",
      "idx_sort:[101  74  84  45  34], output_values:[2 1 1 0 0], prediction:0\n",
      "idx_sort:[76 51 52 57 55], output_values:[1 1 1 1 1], prediction:1\n",
      "idx_sort:[76 52 51 57 55], output_values:[1 1 1 1 1], prediction:1\n",
      "idx_sort:[ 4 62 59 85 31], output_values:[0 1 1 1 0], prediction:1\n",
      "idx_sort:[101  84  45  74  34], output_values:[2 1 0 1 0], prediction:0\n",
      "idx_sort:[31 59 62 41 68], output_values:[0 1 1 0 1], prediction:1\n",
      "idx_sort:[76 51 57 52 55], output_values:[1 1 1 1 1], prediction:1\n",
      "idx_sort:[59 31 62 41 85], output_values:[1 0 1 0 1], prediction:1\n",
      "idx_sort:[101  74  30  84  45], output_values:[2 1 0 1 0], prediction:0\n",
      "idx_sort:[76 51 52 57 55], output_values:[1 1 1 1 1], prediction:1\n",
      "idx_sort:[76 52 51 57 55], output_values:[1 1 1 1 1], prediction:1\n",
      "idx_sort:[ 4 62 85 59 22], output_values:[0 1 1 1 0], prediction:1\n",
      "idx_sort:[ 84  45  34 101  74], output_values:[1 0 0 2 1], prediction:0\n",
      "idx_sort:[62 59 85 31  4], output_values:[1 1 1 0 0], prediction:1\n",
      "idx_sort:[76 51 57 84 52], output_values:[1 1 1 1 1], prediction:1\n",
      "idx_sort:[22  4 62 85 59], output_values:[0 0 1 1 1], prediction:1\n",
      "idx_sort:[101  41  97  74  30], output_values:[2 0 1 1 0], prediction:0\n",
      "idx_sort:[ 4 62 85 59 22], output_values:[0 1 1 1 0], prediction:1\n",
      "idx_sort:[76 51 57 52 84], output_values:[1 1 1 1 1], prediction:1\n",
      "idx_sort:[ 4 22 62 85 59], output_values:[0 0 1 1 1], prediction:1\n",
      "idx_sort:[101  84  45  74  34], output_values:[2 1 0 1 0], prediction:0\n",
      "idx_sort:[59 31 62 85 68], output_values:[1 0 1 1 1], prediction:1\n",
      "idx_sort:[84 45 76 34 51], output_values:[1 0 1 0 1], prediction:1\n",
      "idx_sort:[ 4 22 62 85 59], output_values:[0 0 1 1 1], prediction:1\n",
      "idx_sort:[84 45 34 14 51], output_values:[1 0 0 0 1], prediction:0\n",
      "idx_sort:[62 59  4 85 31], output_values:[1 1 0 1 0], prediction:1\n",
      "idx_sort:[76 51 57 52 55], output_values:[1 1 1 1 1], prediction:1\n",
      "idx_sort:[ 4 22 62 85 59], output_values:[0 0 1 1 1], prediction:1\n",
      "idx_sort:[101  74  84  45  34], output_values:[2 1 1 0 0], prediction:0\n",
      "idx_sort:[62  4 59 85 31], output_values:[1 0 1 1 0], prediction:1\n",
      "idx_sort:[84 45 76 34 51], output_values:[1 0 1 0 1], prediction:1\n",
      "idx_sort:[31 59 41 62 68], output_values:[0 1 0 1 1], prediction:1\n",
      "idx_sort:[101  84  45  74  34], output_values:[2 1 0 1 0], prediction:0\n",
      "idx_sort:[76 51 52 57 55], output_values:[1 1 1 1 1], prediction:1\n",
      "idx_sort:[76 52 51 57 55], output_values:[1 1 1 1 1], prediction:1\n",
      "idx_sort:[31 59 41 62 68], output_values:[0 1 0 1 1], prediction:1\n",
      "idx_sort:[101  74  84  45  34], output_values:[2 1 1 0 0], prediction:0\n",
      "idx_sort:[76 51 52 57 55], output_values:[1 1 1 1 1], prediction:1\n",
      "idx_sort:[76 52 51 57 55], output_values:[1 1 1 1 1], prediction:1\n",
      "idx_sort:[41 31 59 62 68], output_values:[0 0 1 1 1], prediction:1\n",
      "idx_sort:[101  74  30  97  41], output_values:[2 1 0 1 0], prediction:0\n",
      "idx_sort:[76 52 51 57 55], output_values:[1 1 1 1 1], prediction:1\n",
      "idx_sort:[76 52 51 57 55], output_values:[1 1 1 1 1], prediction:1\n",
      "idx_sort:[62 59 85  4 31], output_values:[1 1 1 0 0], prediction:1\n",
      "idx_sort:[41 31 97 59 44], output_values:[0 0 1 1 0], prediction:0\n",
      "idx_sort:[76 51 52 57 55], output_values:[1 1 1 1 1], prediction:1\n",
      "idx_sort:[76 52 51 57 55], output_values:[1 1 1 1 1], prediction:1\n",
      "idx_sort:[ 4 22 62 85 59], output_values:[0 0 1 1 1], prediction:1\n",
      "idx_sort:[101  74  84  45  34], output_values:[2 1 1 0 0], prediction:0\n",
      "idx_sort:[41 31 97 59 44], output_values:[0 0 1 1 0], prediction:0\n",
      "idx_sort:[76 51 52 57 55], output_values:[1 1 1 1 1], prediction:1\n",
      "idx_sort:[31 59 41 62 68], output_values:[0 1 0 1 1], prediction:1\n",
      "idx_sort:[101  74  30  84  45], output_values:[2 1 0 1 0], prediction:0\n",
      "idx_sort:[76 51 52 57 55], output_values:[1 1 1 1 1], prediction:1\n",
      "idx_sort:[76 52 51 57 55], output_values:[1 1 1 1 1], prediction:1\n",
      "idx_sort:[41 31 97 59 44], output_values:[0 0 1 1 0], prediction:0\n",
      "idx_sort:[101  74  84  45  34], output_values:[2 1 1 0 0], prediction:0\n",
      "idx_sort:[76 52 51 57 55], output_values:[1 1 1 1 1], prediction:1\n",
      "idx_sort:[76 52 51 57 55], output_values:[1 1 1 1 1], prediction:1\n",
      "idx_sort:[ 4 62 85 59 22], output_values:[0 1 1 1 0], prediction:1\n",
      "idx_sort:[84 45 34 14 51], output_values:[1 0 0 0 1], prediction:0\n",
      "idx_sort:[59 31 62 41 85], output_values:[1 0 1 0 1], prediction:1\n",
      "idx_sort:[76 51 57 52 55], output_values:[1 1 1 1 1], prediction:1\n",
      "idx_sort:[ 4 62 85 59 22], output_values:[0 1 1 1 0], prediction:1\n",
      "idx_sort:[101  74  84  45  34], output_values:[2 1 1 0 0], prediction:0\n",
      "idx_sort:[41 31 59 97 68], output_values:[0 0 1 1 1], prediction:1\n",
      "idx_sort:[76 51 52 57 55], output_values:[1 1 1 1 1], prediction:1\n",
      "idx_sort:[59 31 62 85 68], output_values:[1 0 1 1 1], prediction:1\n",
      "idx_sort:[101  74  30  97  84], output_values:[2 1 0 1 1], prediction:1\n",
      "idx_sort:[76 51 52 57 55], output_values:[1 1 1 1 1], prediction:1\n",
      "idx_sort:[76 52 51 57 55], output_values:[1 1 1 1 1], prediction:1\n",
      "idx_sort:[59 31 62 41 85], output_values:[1 0 1 0 1], prediction:1\n",
      "idx_sort:[101  74  30  97  41], output_values:[2 1 0 1 0], prediction:0\n",
      "idx_sort:[76 51 52 57 55], output_values:[1 1 1 1 1], prediction:1\n",
      "idx_sort:[76 52 51 57 55], output_values:[1 1 1 1 1], prediction:1\n",
      "idx_sort:[59 31 62 85 68], output_values:[1 0 1 1 1], prediction:1\n",
      "idx_sort:[ 41  97 101  30  31], output_values:[0 1 2 0 0], prediction:0\n",
      "idx_sort:[76 51 52 57 55], output_values:[1 1 1 1 1], prediction:1\n",
      "idx_sort:[76 52 51 57 55], output_values:[1 1 1 1 1], prediction:1\n",
      "idx_sort:[62 59  4 85 31], output_values:[1 1 0 1 0], prediction:1\n",
      "idx_sort:[ 84  45  34 101  14], output_values:[1 0 0 2 0], prediction:0\n",
      "idx_sort:[59 31 62 85 41], output_values:[1 0 1 1 0], prediction:1\n",
      "idx_sort:[76 51 57 52 55], output_values:[1 1 1 1 1], prediction:1\n",
      "idx_sort:[ 4 62 59 85 31], output_values:[0 1 1 1 0], prediction:1\n",
      "idx_sort:[101  74  30  84  45], output_values:[2 1 0 1 0], prediction:0\n",
      "idx_sort:[41 31 59 97 68], output_values:[0 0 1 1 1], prediction:1\n",
      "idx_sort:[76 51 52 57 55], output_values:[1 1 1 1 1], prediction:1\n",
      "idx_sort:[ 4 22 62 85 59], output_values:[0 0 1 1 1], prediction:1\n",
      "idx_sort:[101  74  84  45  34], output_values:[2 1 1 0 0], prediction:0\n",
      "idx_sort:[31 41 59 62 68], output_values:[0 0 1 1 1], prediction:1\n",
      "idx_sort:[76 51 52 57 55], output_values:[1 1 1 1 1], prediction:1\n",
      "idx_sort:[59 62 31 85  4], output_values:[1 1 0 1 0], prediction:1\n",
      "idx_sort:[101  41  97  30  74], output_values:[2 0 1 0 1], prediction:0\n",
      "idx_sort:[76 52 51 57 55], output_values:[1 1 1 1 1], prediction:1\n",
      "idx_sort:[76 52 51 57 55], output_values:[1 1 1 1 1], prediction:1\n",
      "idx_sort:[59 62 31 85  4], output_values:[1 1 0 1 0], prediction:1\n",
      "idx_sort:[101  74  97  30  41], output_values:[2 1 1 0 0], prediction:0\n",
      "idx_sort:[76 51 52 57 55], output_values:[1 1 1 1 1], prediction:1\n",
      "idx_sort:[76 52 51 57 55], output_values:[1 1 1 1 1], prediction:1\n",
      "\n",
      "\n",
      "\n"
     ]
    }
   ],
   "source": [
    "predict_k3()\n",
    "print('\\n\\n')\n",
    "predict_k5()\n",
    "print('\\n\\n')"
   ]
  },
  {
   "cell_type": "markdown",
   "id": "c2ac69bd-fc3d-4fba-bbfd-d8f7225a8030",
   "metadata": {},
   "source": [
    "### 2. O conjunto de dados de qualidade de vinho\n",
    " consiste na predição da qualidade de vinhos brancos sobre uma escala \n",
    "dada medições químicas de cada vinho. Baixe o conjunto de qualidade de \n",
    "vinho e faça o seguinte com ele em um Jupyter Notebook:"
   ]
  },
  {
   "cell_type": "code",
   "execution_count": 14,
   "id": "37a20764-9c2f-489a-a46e-23765638eae7",
   "metadata": {},
   "outputs": [],
   "source": [
    "import pandas as pd\n",
    "df = pd.read_csv('winequality/winequality-white.csv', delimiter=';')"
   ]
  },
  {
   "cell_type": "code",
   "execution_count": 15,
   "id": "b90b46af-1744-40d3-9214-4c29798659c4",
   "metadata": {},
   "outputs": [
    {
     "data": {
      "text/html": [
       "<div>\n",
       "<style scoped>\n",
       "    .dataframe tbody tr th:only-of-type {\n",
       "        vertical-align: middle;\n",
       "    }\n",
       "\n",
       "    .dataframe tbody tr th {\n",
       "        vertical-align: top;\n",
       "    }\n",
       "\n",
       "    .dataframe thead th {\n",
       "        text-align: right;\n",
       "    }\n",
       "</style>\n",
       "<table border=\"1\" class=\"dataframe\">\n",
       "  <thead>\n",
       "    <tr style=\"text-align: right;\">\n",
       "      <th></th>\n",
       "      <th>fixed acidity</th>\n",
       "      <th>volatile acidity</th>\n",
       "      <th>citric acid</th>\n",
       "      <th>residual sugar</th>\n",
       "      <th>chlorides</th>\n",
       "      <th>free sulfur dioxide</th>\n",
       "      <th>total sulfur dioxide</th>\n",
       "      <th>density</th>\n",
       "      <th>pH</th>\n",
       "      <th>sulphates</th>\n",
       "      <th>alcohol</th>\n",
       "      <th>quality</th>\n",
       "    </tr>\n",
       "  </thead>\n",
       "  <tbody>\n",
       "    <tr>\n",
       "      <th>0</th>\n",
       "      <td>7.0</td>\n",
       "      <td>0.27</td>\n",
       "      <td>0.36</td>\n",
       "      <td>20.7</td>\n",
       "      <td>0.045</td>\n",
       "      <td>45.0</td>\n",
       "      <td>170.0</td>\n",
       "      <td>1.0010</td>\n",
       "      <td>3.00</td>\n",
       "      <td>0.45</td>\n",
       "      <td>8.8</td>\n",
       "      <td>6</td>\n",
       "    </tr>\n",
       "    <tr>\n",
       "      <th>1</th>\n",
       "      <td>6.3</td>\n",
       "      <td>0.30</td>\n",
       "      <td>0.34</td>\n",
       "      <td>1.6</td>\n",
       "      <td>0.049</td>\n",
       "      <td>14.0</td>\n",
       "      <td>132.0</td>\n",
       "      <td>0.9940</td>\n",
       "      <td>3.30</td>\n",
       "      <td>0.49</td>\n",
       "      <td>9.5</td>\n",
       "      <td>6</td>\n",
       "    </tr>\n",
       "    <tr>\n",
       "      <th>2</th>\n",
       "      <td>8.1</td>\n",
       "      <td>0.28</td>\n",
       "      <td>0.40</td>\n",
       "      <td>6.9</td>\n",
       "      <td>0.050</td>\n",
       "      <td>30.0</td>\n",
       "      <td>97.0</td>\n",
       "      <td>0.9951</td>\n",
       "      <td>3.26</td>\n",
       "      <td>0.44</td>\n",
       "      <td>10.1</td>\n",
       "      <td>6</td>\n",
       "    </tr>\n",
       "    <tr>\n",
       "      <th>3</th>\n",
       "      <td>7.2</td>\n",
       "      <td>0.23</td>\n",
       "      <td>0.32</td>\n",
       "      <td>8.5</td>\n",
       "      <td>0.058</td>\n",
       "      <td>47.0</td>\n",
       "      <td>186.0</td>\n",
       "      <td>0.9956</td>\n",
       "      <td>3.19</td>\n",
       "      <td>0.40</td>\n",
       "      <td>9.9</td>\n",
       "      <td>6</td>\n",
       "    </tr>\n",
       "    <tr>\n",
       "      <th>4</th>\n",
       "      <td>7.2</td>\n",
       "      <td>0.23</td>\n",
       "      <td>0.32</td>\n",
       "      <td>8.5</td>\n",
       "      <td>0.058</td>\n",
       "      <td>47.0</td>\n",
       "      <td>186.0</td>\n",
       "      <td>0.9956</td>\n",
       "      <td>3.19</td>\n",
       "      <td>0.40</td>\n",
       "      <td>9.9</td>\n",
       "      <td>6</td>\n",
       "    </tr>\n",
       "  </tbody>\n",
       "</table>\n",
       "</div>"
      ],
      "text/plain": [
       "   fixed acidity  volatile acidity  citric acid  residual sugar  chlorides  \\\n",
       "0            7.0              0.27         0.36            20.7      0.045   \n",
       "1            6.3              0.30         0.34             1.6      0.049   \n",
       "2            8.1              0.28         0.40             6.9      0.050   \n",
       "3            7.2              0.23         0.32             8.5      0.058   \n",
       "4            7.2              0.23         0.32             8.5      0.058   \n",
       "\n",
       "   free sulfur dioxide  total sulfur dioxide  density    pH  sulphates  \\\n",
       "0                 45.0                 170.0   1.0010  3.00       0.45   \n",
       "1                 14.0                 132.0   0.9940  3.30       0.49   \n",
       "2                 30.0                  97.0   0.9951  3.26       0.44   \n",
       "3                 47.0                 186.0   0.9956  3.19       0.40   \n",
       "4                 47.0                 186.0   0.9956  3.19       0.40   \n",
       "\n",
       "   alcohol  quality  \n",
       "0      8.8        6  \n",
       "1      9.5        6  \n",
       "2     10.1        6  \n",
       "3      9.9        6  \n",
       "4      9.9        6  "
      ]
     },
     "execution_count": 15,
     "metadata": {},
     "output_type": "execute_result"
    }
   ],
   "source": [
    "df.head()"
   ]
  },
  {
   "cell_type": "markdown",
   "id": "7274b2a6-b284-4db0-b406-e165d60cd446",
   "metadata": {},
   "source": [
    "### 2.1. Exiba a quantidade de amostras existente em cada classe de  vinho, onde as classes são representadas por valores inteiros entre 0 e  10."
   ]
  },
  {
   "cell_type": "code",
   "execution_count": 16,
   "id": "8ea7fffc-4d97-457c-8f5f-6a182cd3bf6c",
   "metadata": {},
   "outputs": [
    {
     "data": {
      "text/plain": [
       "6    2198\n",
       "5    1457\n",
       "7     880\n",
       "8     175\n",
       "4     163\n",
       "3      20\n",
       "9       5\n",
       "Name: quality, dtype: int64"
      ]
     },
     "execution_count": 16,
     "metadata": {},
     "output_type": "execute_result"
    }
   ],
   "source": [
    "df['quality'].value_counts()"
   ]
  },
  {
   "cell_type": "markdown",
   "id": "9ca0b13d-53cc-48e5-acc3-df67141c47a3",
   "metadata": {},
   "source": [
    "### 2.2. Separe 70% dos dados para treino (conjunto de treino) e 30% dos dados para teste (conjunto de teste)."
   ]
  },
  {
   "cell_type": "code",
   "execution_count": 17,
   "id": "e35def48-bd91-442b-8c0e-9054821bda0e",
   "metadata": {},
   "outputs": [],
   "source": [
    "from sklearn.model_selection import train_test_split\n",
    "\n",
    "X = df.drop(['quality'],axis=1) \n",
    "y = df['quality']\n",
    "\n",
    "X_train, X_test, y_train, y_test = train_test_split(X, y, test_size=0.3, random_state=42)"
   ]
  },
  {
   "cell_type": "markdown",
   "id": "a4342d42-42c6-4448-ab2a-e047882ffd8b",
   "metadata": {},
   "source": [
    "### 2.3. Crie diferentes modelos de classificação de vinho usando o kNN com diferentes valores de k."
   ]
  },
  {
   "cell_type": "code",
   "execution_count": 18,
   "id": "203a542b-db79-4664-a4de-a51b807db23c",
   "metadata": {},
   "outputs": [],
   "source": [
    "from sklearn.neighbors import KNeighborsClassifier\n",
    "from sklearn.metrics import classification_report,confusion_matrix\n",
    "\n",
    "neigh = KNeighborsClassifier(n_neighbors=3)\n",
    "neigh.fit(X_train,y_train)\n",
    "pred = neigh.predict(X_test)\n",
    "\n",
    "#print(confusion_matrix(y_test,pred))\n",
    "k3 = classification_report(y_test,pred)"
   ]
  },
  {
   "cell_type": "markdown",
   "id": "63168f2c-283b-46f7-9d36-143b35808ac0",
   "metadata": {},
   "source": [
    "para k = 3"
   ]
  },
  {
   "cell_type": "code",
   "execution_count": 19,
   "id": "70ff519f-a46d-41a7-a42a-735877c9f6cc",
   "metadata": {},
   "outputs": [],
   "source": [
    "neigh = KNeighborsClassifier(n_neighbors=5)\n",
    "neigh.fit(X_train,y_train)\n",
    "pred = neigh.predict(X_test)\n",
    "\n",
    "confusion_matrix(y_test,pred)\n",
    "k5= classification_report(y_test,pred)"
   ]
  },
  {
   "cell_type": "markdown",
   "id": "bc5a54fe-e728-471d-a805-39346c40167d",
   "metadata": {},
   "source": [
    "para k = 5"
   ]
  },
  {
   "cell_type": "code",
   "execution_count": 20,
   "id": "27fa77d8-9a87-4a97-8531-bcd948ae62c6",
   "metadata": {},
   "outputs": [],
   "source": [
    "neigh = KNeighborsClassifier(n_neighbors=7)\n",
    "neigh.fit(X_train,y_train)\n",
    "pred = neigh.predict(X_test)\n",
    "\n",
    "confusion_matrix(y_test,pred)\n",
    "k7=classification_report(y_test,pred)"
   ]
  },
  {
   "cell_type": "markdown",
   "id": "e2fe548d-aa59-4283-9892-bfa407be8164",
   "metadata": {},
   "source": [
    "para k = 7"
   ]
  },
  {
   "cell_type": "code",
   "execution_count": 21,
   "id": "dda0043e-a66b-4a3e-ae01-e666df24c828",
   "metadata": {},
   "outputs": [],
   "source": [
    "neigh = KNeighborsClassifier(n_neighbors=9)\n",
    "neigh.fit(X_train,y_train)\n",
    "pred = neigh.predict(X_test)\n",
    "\n",
    "confusion_matrix(y_test,pred)\n",
    "k9=classification_report(y_test,pred)"
   ]
  },
  {
   "cell_type": "markdown",
   "id": "311d6ebe-ac5a-4512-85ab-47cdce565ed6",
   "metadata": {},
   "source": [
    "para k = 9"
   ]
  },
  {
   "cell_type": "code",
   "execution_count": 22,
   "id": "971991b4-e0d2-4aca-b762-c2485afbb799",
   "metadata": {},
   "outputs": [],
   "source": [
    "neigh = KNeighborsClassifier(n_neighbors=8)\n",
    "neigh.fit(X_train,y_train)\n",
    "pred = neigh.predict(X_test)\n",
    "\n",
    "confusion_matrix(y_test,pred)\n",
    "k8=classification_report(y_test,pred)"
   ]
  },
  {
   "cell_type": "markdown",
   "id": "e21eaaa7-4d69-48d0-b41f-1c34a8334805",
   "metadata": {},
   "source": [
    "para k = 8"
   ]
  },
  {
   "cell_type": "markdown",
   "id": "f07e867c-c519-4cdb-9660-354c88758d6d",
   "metadata": {},
   "source": [
    "### 2.4. Mostre os resultados de acurácia para os modelos criados. Qual o modelo com melhor acurácia?"
   ]
  },
  {
   "cell_type": "code",
   "execution_count": 23,
   "id": "7e9c724f-f7bb-4cf7-8620-ecf2987abbfc",
   "metadata": {},
   "outputs": [
    {
     "name": "stdout",
     "output_type": "stream",
     "text": [
      "para k = 3\n",
      "\n",
      "              precision    recall  f1-score   support\n",
      "\n",
      "           3       0.12      0.14      0.13         7\n",
      "           4       0.12      0.17      0.14        40\n",
      "           5       0.45      0.51      0.48       426\n",
      "           6       0.54      0.56      0.55       668\n",
      "           7       0.48      0.34      0.40       280\n",
      "           8       0.38      0.16      0.23        49\n",
      "\n",
      "    accuracy                           0.48      1470\n",
      "   macro avg       0.35      0.32      0.32      1470\n",
      "weighted avg       0.48      0.48      0.48      1470\n",
      "\n",
      "para k = 5\n",
      "\n",
      "              precision    recall  f1-score   support\n",
      "\n",
      "           3       0.00      0.00      0.00         7\n",
      "           4       0.27      0.20      0.23        40\n",
      "           5       0.44      0.50      0.47       426\n",
      "           6       0.52      0.59      0.55       668\n",
      "           7       0.41      0.29      0.34       280\n",
      "           8       0.45      0.10      0.17        49\n",
      "\n",
      "    accuracy                           0.48      1470\n",
      "   macro avg       0.35      0.28      0.29      1470\n",
      "weighted avg       0.47      0.48      0.46      1470\n",
      "\n",
      "para k = 7\n",
      "\n",
      "              precision    recall  f1-score   support\n",
      "\n",
      "           3       0.50      0.14      0.22         7\n",
      "           4       0.31      0.20      0.24        40\n",
      "           5       0.42      0.46      0.44       426\n",
      "           6       0.50      0.59      0.54       668\n",
      "           7       0.39      0.25      0.31       280\n",
      "           8       0.44      0.08      0.14        49\n",
      "\n",
      "    accuracy                           0.46      1470\n",
      "   macro avg       0.43      0.29      0.32      1470\n",
      "weighted avg       0.45      0.46      0.44      1470\n",
      "\n",
      "para k = 9\n",
      "\n",
      "              precision    recall  f1-score   support\n",
      "\n",
      "           3       0.50      0.14      0.22         7\n",
      "           4       0.16      0.07      0.10        40\n",
      "           5       0.43      0.47      0.45       426\n",
      "           6       0.50      0.61      0.55       668\n",
      "           7       0.35      0.19      0.25       280\n",
      "           8       0.50      0.10      0.17        49\n",
      "\n",
      "    accuracy                           0.46      1470\n",
      "   macro avg       0.41      0.27      0.29      1470\n",
      "weighted avg       0.44      0.46      0.44      1470\n",
      "\n",
      "para k = 8\n",
      "\n",
      "              precision    recall  f1-score   support\n",
      "\n",
      "           3       0.50      0.14      0.22         7\n",
      "           4       0.18      0.07      0.11        40\n",
      "           5       0.42      0.49      0.45       426\n",
      "           6       0.50      0.59      0.54       668\n",
      "           7       0.37      0.21      0.27       280\n",
      "           8       0.40      0.08      0.14        49\n",
      "\n",
      "    accuracy                           0.46      1470\n",
      "   macro avg       0.40      0.27      0.29      1470\n",
      "weighted avg       0.44      0.46      0.44      1470\n",
      "\n"
     ]
    }
   ],
   "source": [
    "print('para k = 3\\n')\n",
    "print(k3)\n",
    "print('para k = 5\\n')\n",
    "print(k5)\n",
    "print('para k = 7\\n')\n",
    "print(k7)\n",
    "print('para k = 9\\n')\n",
    "print(k9)\n",
    "print('para k = 8\\n')\n",
    "print(k8)"
   ]
  },
  {
   "cell_type": "markdown",
   "id": "e85454ec-90bc-436e-8605-e359c9b71de7",
   "metadata": {},
   "source": [
    "## Como podemos ver, a melhor acurácia ocorreu com k=3 e k=5 ambos com 48% de acurácia"
   ]
  },
  {
   "cell_type": "code",
   "execution_count": null,
   "id": "056da442-7018-45b0-a90e-f7f4788d1117",
   "metadata": {},
   "outputs": [],
   "source": []
  }
 ],
 "metadata": {
  "kernelspec": {
   "display_name": "Python 3",
   "language": "python",
   "name": "python3"
  },
  "language_info": {
   "codemirror_mode": {
    "name": "ipython",
    "version": 3
   },
   "file_extension": ".py",
   "mimetype": "text/x-python",
   "name": "python",
   "nbconvert_exporter": "python",
   "pygments_lexer": "ipython3",
   "version": "3.9.5"
  }
 },
 "nbformat": 4,
 "nbformat_minor": 5
}
