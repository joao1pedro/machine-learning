{
 "cells": [
  {
   "cell_type": "markdown",
   "id": "81187f1c-e2ee-4f54-8411-682bd544b904",
   "metadata": {},
   "source": [
    "## 1. Altere nossa implementação de kNN para que ela possa calcular regressão. Dica: crie uma função predict_regression baseada na função predict_classification do documento notebook 02-Aula kNN.ipynb."
   ]
  },
  {
   "cell_type": "markdown",
   "id": "0a7d216b-99b1-48a3-9936-d8d824e6ab12",
   "metadata": {},
   "source": [
    "### importação dos módulos\n"
   ]
  },
  {
   "cell_type": "code",
   "execution_count": 81,
   "id": "e45ef2a0-f4f3-4e67-b15d-4b5eb739c28b",
   "metadata": {},
   "outputs": [],
   "source": [
    "import numpy as np"
   ]
  },
  {
   "cell_type": "markdown",
   "id": "0b2b4220-cb3b-471d-9682-81318d4c6697",
   "metadata": {},
   "source": [
    "### distância euclidiana"
   ]
  },
  {
   "cell_type": "code",
   "execution_count": 82,
   "id": "064c67b5-8790-48b0-a6a5-d3a12b69470a",
   "metadata": {},
   "outputs": [],
   "source": [
    "def euclidean_distances(X, X_row):\n",
    "    X_ = (X - X_row) ** 2\n",
    "    return np.sum(X_, axis=1) ** 0.5"
   ]
  },
  {
   "cell_type": "markdown",
   "id": "723ead3e-a940-4ab4-808c-d768e1f1081b",
   "metadata": {},
   "source": [
    "### obtenção dos $k$ vizinhos mais próximos"
   ]
  },
  {
   "cell_type": "code",
   "execution_count": 83,
   "id": "f3ea299c-4bcb-4258-8a92-096a3a441977",
   "metadata": {},
   "outputs": [],
   "source": [
    "def get_neighbors(X_train, test_row, k):\n",
    "    distances = euclidean_distances(X_train, test_row)\n",
    "    idx_sort = np.argsort(distances)\n",
    "    return idx_sort[:k]"
   ]
  },
  {
   "cell_type": "markdown",
   "id": "3d03ef69-5b6e-42ef-9f91-11d52419f19f",
   "metadata": {},
   "source": [
    "### definição do predict_regression"
   ]
  },
  {
   "cell_type": "code",
   "execution_count": 84,
   "id": "7db7e878-1fae-449f-b32e-71400198a2df",
   "metadata": {},
   "outputs": [],
   "source": [
    "def predict_regression(X, y, test_row, k):\n",
    "    idx_sort = get_neighbors(X, test_row, k)\n",
    "    output_values = y[idx_sort]\n",
    "    prediction = output_values.mean()\n",
    "    print('idx_sort:{}, output_values:{}, prediction:{:.3f}'.format(idx_sort, output_values, prediction))\n",
    "    return prediction"
   ]
  },
  {
   "cell_type": "markdown",
   "id": "9f4985d5-14d5-415e-bc2c-644473517d04",
   "metadata": {},
   "source": [
    "## 2. Use os seguintes dados como dados de treino (X_treino) para o kNN, onde House Price Index é o nosso rótulo (label ou y_treino):"
   ]
  },
  {
   "cell_type": "markdown",
   "id": "616fd84f-bbb0-45f9-b0de-5934035ecaef",
   "metadata": {},
   "source": [
    "### criando a base de dados"
   ]
  },
  {
   "cell_type": "code",
   "execution_count": 85,
   "id": "45d411d4-f9ee-41c2-972a-ea495e2ea4b7",
   "metadata": {},
   "outputs": [],
   "source": [
    "# features\n",
    "X = np.array([[ 25, 40.000 ],\n",
    "       [ 35, 60.000 ],  \n",
    "       [ 45, 80.000 ],  \n",
    "       [ 20, 20.000 ],\n",
    "       [ 35, 125.000 ],\n",
    "       [ 52, 18.000 ],\n",
    "       [ 23, 95.000 ],\n",
    "       [ 40, 62.000 ],\n",
    "       [ 60, 100.000 ],\n",
    "       [ 48, 220.000 ],\n",
    "       [ 38, 150.000 ],])\n",
    "\n",
    "#labels\n",
    "y = np.array([ 135, 256, 231, 267, 139, 150, 127, 216, 139, 250, 264 ])"
   ]
  },
  {
   "cell_type": "markdown",
   "id": "607bf415-3df9-4e4b-b57c-496b11f8b738",
   "metadata": {},
   "source": [
    "### a) Calcular o rótulo para quando Age = 42 e Loan = $142,000."
   ]
  },
  {
   "cell_type": "code",
   "execution_count": 86,
   "id": "0b0cbe04-df1c-44e8-8445-09ebb6b8ba39",
   "metadata": {},
   "outputs": [
    {
     "name": "stdout",
     "output_type": "stream",
     "text": [
      "idx_sort:[10  4  8], output_values:[264 139 139], prediction:180.667\n",
      "o valor calculado para Age = 42 e Loan = $142.000 e k = 3 é: 180.667\n"
     ]
    }
   ],
   "source": [
    "q = np.array([42, 142.000])\n",
    "idx_sort = get_neighbors(X, q, 1)\n",
    "print('o valor calculado para Age = 42 e Loan = $142.000 e k = 3 é: {:.3f}'.format(predict_regression(X, y, q, 3)))"
   ]
  },
  {
   "cell_type": "markdown",
   "id": "8a6e9a0f-ef4a-43a7-8580-e2ed12be37f5",
   "metadata": {},
   "source": [
    "### b) Calcular o rótulo para quando Age = 30 e Loan = $50,000."
   ]
  },
  {
   "cell_type": "code",
   "execution_count": 87,
   "id": "139bdfd2-37a2-4c39-8ddc-290b0533f2b0",
   "metadata": {},
   "outputs": [
    {
     "name": "stdout",
     "output_type": "stream",
     "text": [
      "idx_sort:[0 1 7], output_values:[135 256 216], prediction:202.333\n",
      "o valor calculado para Age = 30 e Loan = $50.000 e k = 3 é: 202.333\n"
     ]
    }
   ],
   "source": [
    "q = np.array([30, 50.000])\n",
    "idx_sort = get_neighbors(X, q, 1)\n",
    "print('o valor calculado para Age = 30 e Loan = $50.000 e k = 3 é: {:.3f}'.format(predict_regression(X, y, q, 3)))"
   ]
  },
  {
   "cell_type": "markdown",
   "id": "ed477599-56e7-4058-8d11-6117cd9757ab",
   "metadata": {},
   "source": [
    "## 3. O conjunto de dados de qualidade de vinho consiste na predição da qualidade de vinhos brancos sobre uma escala dada medições químicas de cada vinho. Baixe o conjunto de qualidade de vinho e faça o seguinte com ele em um Jupyter Notebook:"
   ]
  },
  {
   "cell_type": "markdown",
   "id": "49549e5a-0d23-4b26-8567-5d95220f3f41",
   "metadata": {},
   "source": [
    "### 3.1. Separe 70% dos dados para treino (conjunto de treino) e 30% dos dados para teste (conjunto de teste).\n",
    "### 3.2. Crie um modelo de regressão de qualidade de vinho usando o kNN para k=5.\n",
    "### 3.3. Use o modelo de regressão sobre X_test para calcular os valores preditos dos rótulos (y_pred)."
   ]
  },
  {
   "cell_type": "code",
   "execution_count": 88,
   "id": "48eeb979-f33b-42c5-b701-1cf40309008b",
   "metadata": {},
   "outputs": [],
   "source": [
    "import pandas as pd\n",
    "from sklearn.model_selection import train_test_split\n",
    "from sklearn.neighbors import KNeighborsRegressor\n",
    "from sklearn.metrics import mean_absolute_error"
   ]
  },
  {
   "cell_type": "markdown",
   "id": "01eb28e7-faeb-4dde-b9e8-0a09f0a43fe8",
   "metadata": {},
   "source": [
    "### importanto módulos"
   ]
  },
  {
   "cell_type": "code",
   "execution_count": 89,
   "id": "43b151ce-444f-48c2-847d-f314281b8955",
   "metadata": {},
   "outputs": [
    {
     "data": {
      "text/html": [
       "<div>\n",
       "<style scoped>\n",
       "    .dataframe tbody tr th:only-of-type {\n",
       "        vertical-align: middle;\n",
       "    }\n",
       "\n",
       "    .dataframe tbody tr th {\n",
       "        vertical-align: top;\n",
       "    }\n",
       "\n",
       "    .dataframe thead th {\n",
       "        text-align: right;\n",
       "    }\n",
       "</style>\n",
       "<table border=\"1\" class=\"dataframe\">\n",
       "  <thead>\n",
       "    <tr style=\"text-align: right;\">\n",
       "      <th></th>\n",
       "      <th>fixed acidity</th>\n",
       "      <th>volatile acidity</th>\n",
       "      <th>citric acid</th>\n",
       "      <th>residual sugar</th>\n",
       "      <th>chlorides</th>\n",
       "      <th>free sulfur dioxide</th>\n",
       "      <th>total sulfur dioxide</th>\n",
       "      <th>density</th>\n",
       "      <th>pH</th>\n",
       "      <th>sulphates</th>\n",
       "      <th>alcohol</th>\n",
       "      <th>quality</th>\n",
       "    </tr>\n",
       "  </thead>\n",
       "  <tbody>\n",
       "    <tr>\n",
       "      <th>0</th>\n",
       "      <td>7.0</td>\n",
       "      <td>0.27</td>\n",
       "      <td>0.36</td>\n",
       "      <td>20.7</td>\n",
       "      <td>0.045</td>\n",
       "      <td>45.0</td>\n",
       "      <td>170.0</td>\n",
       "      <td>1.0010</td>\n",
       "      <td>3.00</td>\n",
       "      <td>0.45</td>\n",
       "      <td>8.8</td>\n",
       "      <td>6</td>\n",
       "    </tr>\n",
       "    <tr>\n",
       "      <th>1</th>\n",
       "      <td>6.3</td>\n",
       "      <td>0.30</td>\n",
       "      <td>0.34</td>\n",
       "      <td>1.6</td>\n",
       "      <td>0.049</td>\n",
       "      <td>14.0</td>\n",
       "      <td>132.0</td>\n",
       "      <td>0.9940</td>\n",
       "      <td>3.30</td>\n",
       "      <td>0.49</td>\n",
       "      <td>9.5</td>\n",
       "      <td>6</td>\n",
       "    </tr>\n",
       "    <tr>\n",
       "      <th>2</th>\n",
       "      <td>8.1</td>\n",
       "      <td>0.28</td>\n",
       "      <td>0.40</td>\n",
       "      <td>6.9</td>\n",
       "      <td>0.050</td>\n",
       "      <td>30.0</td>\n",
       "      <td>97.0</td>\n",
       "      <td>0.9951</td>\n",
       "      <td>3.26</td>\n",
       "      <td>0.44</td>\n",
       "      <td>10.1</td>\n",
       "      <td>6</td>\n",
       "    </tr>\n",
       "    <tr>\n",
       "      <th>3</th>\n",
       "      <td>7.2</td>\n",
       "      <td>0.23</td>\n",
       "      <td>0.32</td>\n",
       "      <td>8.5</td>\n",
       "      <td>0.058</td>\n",
       "      <td>47.0</td>\n",
       "      <td>186.0</td>\n",
       "      <td>0.9956</td>\n",
       "      <td>3.19</td>\n",
       "      <td>0.40</td>\n",
       "      <td>9.9</td>\n",
       "      <td>6</td>\n",
       "    </tr>\n",
       "    <tr>\n",
       "      <th>4</th>\n",
       "      <td>7.2</td>\n",
       "      <td>0.23</td>\n",
       "      <td>0.32</td>\n",
       "      <td>8.5</td>\n",
       "      <td>0.058</td>\n",
       "      <td>47.0</td>\n",
       "      <td>186.0</td>\n",
       "      <td>0.9956</td>\n",
       "      <td>3.19</td>\n",
       "      <td>0.40</td>\n",
       "      <td>9.9</td>\n",
       "      <td>6</td>\n",
       "    </tr>\n",
       "  </tbody>\n",
       "</table>\n",
       "</div>"
      ],
      "text/plain": [
       "   fixed acidity  volatile acidity  citric acid  residual sugar  chlorides  \\\n",
       "0            7.0              0.27         0.36            20.7      0.045   \n",
       "1            6.3              0.30         0.34             1.6      0.049   \n",
       "2            8.1              0.28         0.40             6.9      0.050   \n",
       "3            7.2              0.23         0.32             8.5      0.058   \n",
       "4            7.2              0.23         0.32             8.5      0.058   \n",
       "\n",
       "   free sulfur dioxide  total sulfur dioxide  density    pH  sulphates  \\\n",
       "0                 45.0                 170.0   1.0010  3.00       0.45   \n",
       "1                 14.0                 132.0   0.9940  3.30       0.49   \n",
       "2                 30.0                  97.0   0.9951  3.26       0.44   \n",
       "3                 47.0                 186.0   0.9956  3.19       0.40   \n",
       "4                 47.0                 186.0   0.9956  3.19       0.40   \n",
       "\n",
       "   alcohol  quality  \n",
       "0      8.8        6  \n",
       "1      9.5        6  \n",
       "2     10.1        6  \n",
       "3      9.9        6  \n",
       "4      9.9        6  "
      ]
     },
     "execution_count": 89,
     "metadata": {},
     "output_type": "execute_result"
    }
   ],
   "source": [
    "df = pd.read_csv('winequality/winequality-white.csv', delimiter=';')\n",
    "df.head()"
   ]
  },
  {
   "cell_type": "code",
   "execution_count": 90,
   "id": "29880fdb-d226-4df3-8efb-b7520c8fa9d6",
   "metadata": {},
   "outputs": [
    {
     "data": {
      "text/plain": [
       "6    2198\n",
       "5    1457\n",
       "7     880\n",
       "8     175\n",
       "4     163\n",
       "3      20\n",
       "9       5\n",
       "Name: quality, dtype: int64"
      ]
     },
     "execution_count": 90,
     "metadata": {},
     "output_type": "execute_result"
    }
   ],
   "source": [
    "df['quality'].value_counts()"
   ]
  },
  {
   "cell_type": "markdown",
   "id": "6cfe929a-5faa-41ba-9592-7fbee8236ed6",
   "metadata": {},
   "source": [
    "### separando dados de treino e teste"
   ]
  },
  {
   "cell_type": "code",
   "execution_count": 91,
   "id": "2173ec02-ffe8-409f-8bc3-3ff286d07ca3",
   "metadata": {},
   "outputs": [],
   "source": [
    "X = df.drop(['quality'],axis=1) \n",
    "y = df['quality']\n",
    "\n",
    "X_train, X_test, y_train, y_test = train_test_split(X, y, test_size=0.3, random_state=42, stratify=y)"
   ]
  },
  {
   "cell_type": "markdown",
   "id": "182ed5cf-5e21-4c4d-9785-448dd99c86f2",
   "metadata": {},
   "source": [
    "### Criando o modelo"
   ]
  },
  {
   "cell_type": "code",
   "execution_count": 92,
   "id": "b5b1e56f-4696-487f-b2ec-329baabb3f28",
   "metadata": {},
   "outputs": [
    {
     "name": "stdout",
     "output_type": "stream",
     "text": [
      "[6.4 6.4 6.4 ... 5.6 6.4 6.2]\n",
      "63.37% de acurácia.\n"
     ]
    }
   ],
   "source": [
    "neigh = KNeighborsRegressor(n_neighbors=5)\n",
    "neigh.fit(X_train, y_train)\n",
    "\n",
    "predict = neigh.predict(X_test)\n",
    "\n",
    "print(predict)\n",
    "\n",
    "value = mean_absolute_error(y_test, predict)\n",
    "value_percent = value*100\n",
    "\n",
    "print('{:.2f}% de acurácia.'.format(value_percent))"
   ]
  },
  {
   "cell_type": "code",
   "execution_count": null,
   "id": "bd844f06-d84f-4edd-8618-bb43b1d0332b",
   "metadata": {},
   "outputs": [],
   "source": []
  }
 ],
 "metadata": {
  "kernelspec": {
   "display_name": "Python 3",
   "language": "python",
   "name": "python3"
  },
  "language_info": {
   "codemirror_mode": {
    "name": "ipython",
    "version": 3
   },
   "file_extension": ".py",
   "mimetype": "text/x-python",
   "name": "python",
   "nbconvert_exporter": "python",
   "pygments_lexer": "ipython3",
   "version": "3.9.5"
  }
 },
 "nbformat": 4,
 "nbformat_minor": 5
}
