{
 "cells": [
  {
   "cell_type": "markdown",
   "id": "5032952a-3b4a-4cbb-850d-7028f83942da",
   "metadata": {},
   "source": [
    "2. Baixe o conjunto de dados Iris (https://www.kaggle.com/uciml/iris) e faça o seguinte com ele em um Jupyter Notebook:"
   ]
  },
  {
   "cell_type": "code",
   "execution_count": 1,
   "id": "59fbbaec-adec-4f92-9c42-3c3cf4847be7",
   "metadata": {},
   "outputs": [
    {
     "data": {
      "text/html": [
       "<div>\n",
       "<style scoped>\n",
       "    .dataframe tbody tr th:only-of-type {\n",
       "        vertical-align: middle;\n",
       "    }\n",
       "\n",
       "    .dataframe tbody tr th {\n",
       "        vertical-align: top;\n",
       "    }\n",
       "\n",
       "    .dataframe thead th {\n",
       "        text-align: right;\n",
       "    }\n",
       "</style>\n",
       "<table border=\"1\" class=\"dataframe\">\n",
       "  <thead>\n",
       "    <tr style=\"text-align: right;\">\n",
       "      <th></th>\n",
       "      <th>Id</th>\n",
       "      <th>SepalLengthCm</th>\n",
       "      <th>SepalWidthCm</th>\n",
       "      <th>PetalLengthCm</th>\n",
       "      <th>PetalWidthCm</th>\n",
       "      <th>Species</th>\n",
       "    </tr>\n",
       "  </thead>\n",
       "  <tbody>\n",
       "    <tr>\n",
       "      <th>0</th>\n",
       "      <td>1</td>\n",
       "      <td>5.1</td>\n",
       "      <td>3.5</td>\n",
       "      <td>1.4</td>\n",
       "      <td>0.2</td>\n",
       "      <td>Iris-setosa</td>\n",
       "    </tr>\n",
       "    <tr>\n",
       "      <th>1</th>\n",
       "      <td>2</td>\n",
       "      <td>4.9</td>\n",
       "      <td>3.0</td>\n",
       "      <td>1.4</td>\n",
       "      <td>0.2</td>\n",
       "      <td>Iris-setosa</td>\n",
       "    </tr>\n",
       "    <tr>\n",
       "      <th>2</th>\n",
       "      <td>3</td>\n",
       "      <td>4.7</td>\n",
       "      <td>3.2</td>\n",
       "      <td>1.3</td>\n",
       "      <td>0.2</td>\n",
       "      <td>Iris-setosa</td>\n",
       "    </tr>\n",
       "    <tr>\n",
       "      <th>3</th>\n",
       "      <td>4</td>\n",
       "      <td>4.6</td>\n",
       "      <td>3.1</td>\n",
       "      <td>1.5</td>\n",
       "      <td>0.2</td>\n",
       "      <td>Iris-setosa</td>\n",
       "    </tr>\n",
       "    <tr>\n",
       "      <th>4</th>\n",
       "      <td>5</td>\n",
       "      <td>5.0</td>\n",
       "      <td>3.6</td>\n",
       "      <td>1.4</td>\n",
       "      <td>0.2</td>\n",
       "      <td>Iris-setosa</td>\n",
       "    </tr>\n",
       "  </tbody>\n",
       "</table>\n",
       "</div>"
      ],
      "text/plain": [
       "   Id  SepalLengthCm  SepalWidthCm  PetalLengthCm  PetalWidthCm      Species\n",
       "0   1            5.1           3.5            1.4           0.2  Iris-setosa\n",
       "1   2            4.9           3.0            1.4           0.2  Iris-setosa\n",
       "2   3            4.7           3.2            1.3           0.2  Iris-setosa\n",
       "3   4            4.6           3.1            1.5           0.2  Iris-setosa\n",
       "4   5            5.0           3.6            1.4           0.2  Iris-setosa"
      ]
     },
     "execution_count": 1,
     "metadata": {},
     "output_type": "execute_result"
    }
   ],
   "source": [
    "import pandas as pd\n",
    "df = pd.read_csv('Iris.csv')\n",
    "df.head()"
   ]
  },
  {
   "cell_type": "markdown",
   "id": "dbde2db9-5b8e-4523-928f-910ff3cdd40e",
   "metadata": {},
   "source": [
    "2.1. Exiba a quantidade de amostras existente em cada classe. "
   ]
  },
  {
   "cell_type": "code",
   "execution_count": 2,
   "id": "91a28f33-a997-47f0-93e3-3f024098ca4b",
   "metadata": {},
   "outputs": [
    {
     "data": {
      "text/plain": [
       "Iris-versicolor    50\n",
       "Iris-setosa        50\n",
       "Iris-virginica     50\n",
       "Name: Species, dtype: int64"
      ]
     },
     "execution_count": 2,
     "metadata": {},
     "output_type": "execute_result"
    }
   ],
   "source": [
    "df['Species'].value_counts()"
   ]
  },
  {
   "cell_type": "markdown",
   "id": "605543ba-2e46-4b34-a2c4-52832622e7fb",
   "metadata": {},
   "source": [
    "2.2. Separe aleatoriamente 80% dos dados para treino (conjunto de treino) e 20% dos dados para teste (conjunto de teste). Para esta separação, use somente recursos do Python, Numpy ou Pandas. Não use o Scikit Learn para isso. "
   ]
  },
  {
   "cell_type": "code",
   "execution_count": 3,
   "id": "a47dd05e-d5c5-4c64-902a-46b5a7576613",
   "metadata": {},
   "outputs": [
    {
     "name": "stdout",
     "output_type": "stream",
     "text": [
      "120 train + 30 test\n"
     ]
    }
   ],
   "source": [
    "import numpy as np\n",
    "\n",
    "def split_train_test(data, test_ratio):\n",
    "    shuffled_indices = np.random.permutation(len(data))\n",
    "    test_set_size = int(len(data) * test_ratio)\n",
    "    test_indices = shuffled_indices[:test_set_size]\n",
    "    train_indices = shuffled_indices[test_set_size:]\n",
    "    return data.iloc[train_indices], data.iloc[test_indices]\n",
    "\n",
    "train_set, test_set = split_train_test(df, 0.2)\n",
    "print(len(train_set), \"train +\", len(test_set), \"test\")    "
   ]
  },
  {
   "cell_type": "markdown",
   "id": "58e90e46-fe8a-4b78-b58e-e5e84aefd46b",
   "metadata": {},
   "source": [
    "2.3. Usando somente o conjunto de treino, mostre as médias dos valores de cada feature para cada classe. "
   ]
  },
  {
   "cell_type": "code",
   "execution_count": 4,
   "id": "5f11c47b-77d3-4973-b462-9c6d55e77ca4",
   "metadata": {},
   "outputs": [
    {
     "data": {
      "text/html": [
       "<div>\n",
       "<style scoped>\n",
       "    .dataframe tbody tr th:only-of-type {\n",
       "        vertical-align: middle;\n",
       "    }\n",
       "\n",
       "    .dataframe tbody tr th {\n",
       "        vertical-align: top;\n",
       "    }\n",
       "\n",
       "    .dataframe thead th {\n",
       "        text-align: right;\n",
       "    }\n",
       "</style>\n",
       "<table border=\"1\" class=\"dataframe\">\n",
       "  <thead>\n",
       "    <tr style=\"text-align: right;\">\n",
       "      <th></th>\n",
       "      <th>Id</th>\n",
       "      <th>SepalLengthCm</th>\n",
       "      <th>SepalWidthCm</th>\n",
       "      <th>PetalLengthCm</th>\n",
       "      <th>PetalWidthCm</th>\n",
       "    </tr>\n",
       "    <tr>\n",
       "      <th>Species</th>\n",
       "      <th></th>\n",
       "      <th></th>\n",
       "      <th></th>\n",
       "      <th></th>\n",
       "      <th></th>\n",
       "    </tr>\n",
       "  </thead>\n",
       "  <tbody>\n",
       "    <tr>\n",
       "      <th>Iris-setosa</th>\n",
       "      <td>25.800000</td>\n",
       "      <td>4.982857</td>\n",
       "      <td>3.382857</td>\n",
       "      <td>1.468571</td>\n",
       "      <td>0.240000</td>\n",
       "    </tr>\n",
       "    <tr>\n",
       "      <th>Iris-versicolor</th>\n",
       "      <td>77.186047</td>\n",
       "      <td>5.897674</td>\n",
       "      <td>2.725581</td>\n",
       "      <td>4.218605</td>\n",
       "      <td>1.304651</td>\n",
       "    </tr>\n",
       "    <tr>\n",
       "      <th>Iris-virginica</th>\n",
       "      <td>127.000000</td>\n",
       "      <td>6.550000</td>\n",
       "      <td>2.959524</td>\n",
       "      <td>5.542857</td>\n",
       "      <td>2.007143</td>\n",
       "    </tr>\n",
       "  </tbody>\n",
       "</table>\n",
       "</div>"
      ],
      "text/plain": [
       "                         Id  SepalLengthCm  SepalWidthCm  PetalLengthCm  \\\n",
       "Species                                                                   \n",
       "Iris-setosa       25.800000       4.982857      3.382857       1.468571   \n",
       "Iris-versicolor   77.186047       5.897674      2.725581       4.218605   \n",
       "Iris-virginica   127.000000       6.550000      2.959524       5.542857   \n",
       "\n",
       "                 PetalWidthCm  \n",
       "Species                        \n",
       "Iris-setosa          0.240000  \n",
       "Iris-versicolor      1.304651  \n",
       "Iris-virginica       2.007143  "
      ]
     },
     "execution_count": 4,
     "metadata": {},
     "output_type": "execute_result"
    }
   ],
   "source": [
    "train_set.groupby('Species').mean()"
   ]
  },
  {
   "cell_type": "markdown",
   "id": "8065bea5-b7b7-4979-8df3-d95d9d6b8866",
   "metadata": {},
   "source": [
    "2.4. Crie um algoritmo seu (sem usar aprendizado de máquina) para baseado nas médias das features calculadas no item 2.3. ou mesmo usando outras ideias suas, classificar corretamente as amostras do conjunto de teste. Aperfeçoe o seu algoritmo de forma a obter melhores resultados. Quanto por cento no conjunto de teste você conseguiu acertar corretamente o rótulo (classe) no seu melhor algoritmo, ou seja, qual a acurácia?"
   ]
  },
  {
   "cell_type": "code",
   "execution_count": 9,
   "id": "f075dc02-a52f-44c1-85c2-6427e2a15b90",
   "metadata": {},
   "outputs": [
    {
     "ename": "IndexError",
     "evalue": "index 49 is out of bounds for axis 0 with size 30",
     "output_type": "error",
     "traceback": [
      "\u001b[0;31m---------------------------------------------------------------------------\u001b[0m",
      "\u001b[0;31mIndexError\u001b[0m                                Traceback (most recent call last)",
      "\u001b[0;32m<ipython-input-9-f0082ab4ae2f>\u001b[0m in \u001b[0;36m<module>\u001b[0;34m\u001b[0m\n\u001b[1;32m     35\u001b[0m     \u001b[0mprint\u001b[0m\u001b[0;34m(\u001b[0m\u001b[0my_target\u001b[0m\u001b[0;34m)\u001b[0m\u001b[0;34m\u001b[0m\u001b[0;34m\u001b[0m\u001b[0m\n\u001b[1;32m     36\u001b[0m \u001b[0;34m\u001b[0m\u001b[0m\n\u001b[0;32m---> 37\u001b[0;31m \u001b[0mclassifier\u001b[0m\u001b[0;34m(\u001b[0m\u001b[0mX_train\u001b[0m\u001b[0;34m,\u001b[0m \u001b[0mX_test\u001b[0m\u001b[0;34m)\u001b[0m\u001b[0;34m\u001b[0m\u001b[0;34m\u001b[0m\u001b[0m\n\u001b[0m",
      "\u001b[0;32m<ipython-input-9-f0082ab4ae2f>\u001b[0m in \u001b[0;36mclassifier\u001b[0;34m(X_train, X_test)\u001b[0m\n\u001b[1;32m     22\u001b[0m     \u001b[0;32mfor\u001b[0m \u001b[0mi\u001b[0m \u001b[0;32min\u001b[0m \u001b[0mmean\u001b[0m\u001b[0;34m.\u001b[0m\u001b[0mindex\u001b[0m\u001b[0;34m:\u001b[0m\u001b[0;34m\u001b[0m\u001b[0;34m\u001b[0m\u001b[0m\n\u001b[1;32m     23\u001b[0m \u001b[0;34m\u001b[0m\u001b[0m\n\u001b[0;32m---> 24\u001b[0;31m         \u001b[0mx_mean\u001b[0m\u001b[0;34m[\u001b[0m\u001b[0;36m0\u001b[0m\u001b[0;34m]\u001b[0m \u001b[0;34m=\u001b[0m \u001b[0;34m(\u001b[0m\u001b[0marray_mean\u001b[0m\u001b[0;34m[\u001b[0m\u001b[0mi\u001b[0m\u001b[0;34m]\u001b[0m \u001b[0;34m-\u001b[0m \u001b[0marray_mean_setosa\u001b[0m\u001b[0;34m[\u001b[0m\u001b[0mi\u001b[0m\u001b[0;34m]\u001b[0m\u001b[0;34m)\u001b[0m\u001b[0;34m**\u001b[0m\u001b[0;36m2\u001b[0m\u001b[0;34m\u001b[0m\u001b[0;34m\u001b[0m\u001b[0m\n\u001b[0m\u001b[1;32m     25\u001b[0m         \u001b[0mx_mean\u001b[0m\u001b[0;34m[\u001b[0m\u001b[0;36m1\u001b[0m\u001b[0;34m]\u001b[0m \u001b[0;34m=\u001b[0m \u001b[0;34m(\u001b[0m\u001b[0marray_mean\u001b[0m\u001b[0;34m[\u001b[0m\u001b[0mi\u001b[0m\u001b[0;34m]\u001b[0m \u001b[0;34m-\u001b[0m \u001b[0marray_mean_versicolor\u001b[0m\u001b[0;34m[\u001b[0m\u001b[0mi\u001b[0m\u001b[0;34m]\u001b[0m\u001b[0;34m)\u001b[0m\u001b[0;34m**\u001b[0m\u001b[0;36m2\u001b[0m\u001b[0;34m\u001b[0m\u001b[0;34m\u001b[0m\u001b[0m\n\u001b[1;32m     26\u001b[0m         \u001b[0mx_mean\u001b[0m\u001b[0;34m[\u001b[0m\u001b[0;36m2\u001b[0m\u001b[0;34m]\u001b[0m \u001b[0;34m=\u001b[0m \u001b[0;34m(\u001b[0m\u001b[0marray_mean\u001b[0m\u001b[0;34m[\u001b[0m\u001b[0mi\u001b[0m\u001b[0;34m]\u001b[0m \u001b[0;34m-\u001b[0m \u001b[0marray_mean_virginica\u001b[0m\u001b[0;34m[\u001b[0m\u001b[0mi\u001b[0m\u001b[0;34m]\u001b[0m\u001b[0;34m)\u001b[0m\u001b[0;34m**\u001b[0m\u001b[0;36m2\u001b[0m\u001b[0;34m\u001b[0m\u001b[0;34m\u001b[0m\u001b[0m\n",
      "\u001b[0;31mIndexError\u001b[0m: index 49 is out of bounds for axis 0 with size 30"
     ]
    }
   ],
   "source": [
    "X_train = train_set.drop(['Id'], axis = 1)\n",
    "X_test = test_set.drop(['Id'], axis = 1)\n",
    "    \n",
    "def classifier(X_train, X_test):   \n",
    "    setosa = X_train[X_train['Species'] == 'Iris-setosa']\n",
    "    versicolor = X_train[X_train['Species'] == 'Iris-versicolor']\n",
    "    virginica = X_train[X_train['Species'] == 'Iris-virginica']\n",
    "    \n",
    "    mean_setosa = X_train[X_train['Species'] == 'Iris-setosa'].mean(axis=1)\n",
    "    mean_versicolor = X_train[X_train['Species'] == 'Iris-versicolor'].mean(axis=1)\n",
    "    mean_virginica = X_train[X_train['Species'] == 'Iris-versicolor'].mean(axis=1)\n",
    "    \n",
    "    mean = X_test.mean(axis=1)\n",
    "    \n",
    "    array_mean = mean.index.to_numpy()\n",
    "    array_mean_setosa = setosa.index.to_numpy()\n",
    "    array_mean_versicolor = setosa.index.to_numpy()\n",
    "    array_mean_virginica = virginica.index.to_numpy()\n",
    "    \n",
    "    x_mean = np.zeros_like(array_mean)\n",
    "\n",
    "    for i in mean.index:\n",
    "\n",
    "        x_mean[0] = (array_mean[i] - array_mean_setosa[i])**2\n",
    "        x_mean[1] = (array_mean[i] - array_mean_versicolor[i])**2\n",
    "        x_mean[2] = (array_mean[i] - array_mean_virginica[i])**2\n",
    "        \n",
    "        if (x_mean[0] <= x_mean[1]) and (x_mean[0]  <= x_mean[2]):\n",
    "            y_target['Species'] = 'Iris-setosa'\n",
    "        elif (x_mean[1] <= x_mean[0]) and (x_mean[1]  <= x_mean[2]):\n",
    "            y_target['Species'] = 'Iris-versicolor'\n",
    "        elif (x_mean[2] <= x_mean[0]) and (x_mean[2]  <= x_mean[1]):\n",
    "            y_target['Species'] = 'Iris-virginica'\n",
    "\n",
    "    print(y_target)\n",
    "    \n",
    "classifier(X_train, X_test)"
   ]
  },
  {
   "cell_type": "markdown",
   "id": "0ba98dbd-cd48-429c-9780-9ad5c51b58c3",
   "metadata": {},
   "source": [
    "- Meu objetivo na 2.4 era tentar fazer comparações com o quadrado da diferença da posição do array e média (a-b)^2 e comparar em qual classe as entradas pertenceriam. \n",
    "- Porém, tive problemas com os index dos pandas.series e numpy.arrays e não consegui resolver a tempo"
   ]
  },
  {
   "cell_type": "code",
   "execution_count": null,
   "id": "8b428b7c-bfad-4fc9-8560-ba0641e3730c",
   "metadata": {},
   "outputs": [],
   "source": []
  }
 ],
 "metadata": {
  "kernelspec": {
   "display_name": "Python 3",
   "language": "python",
   "name": "python3"
  },
  "language_info": {
   "codemirror_mode": {
    "name": "ipython",
    "version": 3
   },
   "file_extension": ".py",
   "mimetype": "text/x-python",
   "name": "python",
   "nbconvert_exporter": "python",
   "pygments_lexer": "ipython3",
   "version": "3.9.5"
  }
 },
 "nbformat": 4,
 "nbformat_minor": 5
}
